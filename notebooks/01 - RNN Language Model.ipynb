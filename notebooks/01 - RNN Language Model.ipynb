{
 "cells": [
  {
   "cell_type": "markdown",
   "metadata": {},
   "source": [
    "## RNN Language Model\n",
    "\n",
    "Sources\n",
    "\n",
    "[1] \n",
    "[2] https://mlexplained.com/2018/02/15/language-modeling-tutorial-in-torchtext-practical-torchtext-part-2/\n",
    "\n"
   ]
  },
  {
   "cell_type": "markdown",
   "metadata": {},
   "source": [
    "We have the following datasets available for this task:\n",
    "\n",
    "- Penn Trebank (originally created for POS tagging)\n",
    "- WikiText\n",
    "\n",
    "Before loading our dataset, define how it will be tokenized and preprocessed. To do this, `torchtext` uses `data.Field`. By default, it uses [`spaCy`](https://spacy.io/api/tokenizer) tokenization.\n",
    "\n",
    "Also, we set an `init_token` and `eos_token` for the begin and end of sentence characters."
   ]
  },
  {
   "cell_type": "code",
   "execution_count": 1,
   "metadata": {},
   "outputs": [],
   "source": [
    "import torch\n",
    "import torchtext\n",
    "from torchtext import data\n",
    "\n",
    "TEXT = data.Field(\n",
    "    tokenizer_language='en',\n",
    "    lower=True,\n",
    "    init_token='<sos>',\n",
    "    eos_token='<eos>',\n",
    "    batch_first=True,\n",
    ")"
   ]
  },
  {
   "cell_type": "markdown",
   "metadata": {},
   "source": [
    "Now, we can load our dataset"
   ]
  },
  {
   "cell_type": "code",
   "execution_count": 2,
   "metadata": {},
   "outputs": [
    {
     "name": "stdout",
     "output_type": "stream",
     "text": [
      "We have 28914 tokens in our vocabulary\n"
     ]
    }
   ],
   "source": [
    "from torchtext.datasets import WikiText2\n",
    " \n",
    "train, valid, test = WikiText2.splits(TEXT) \n",
    "\n",
    "TEXT.build_vocab(train, vectors=\"glove.6B.300d\")\n",
    "\n",
    "print(f\"We have {len(TEXT.vocab)} tokens in our vocabulary\")"
   ]
  },
  {
   "cell_type": "markdown",
   "metadata": {},
   "source": [
    "## Iterator\n"
   ]
  },
  {
   "cell_type": "code",
   "execution_count": 3,
   "metadata": {},
   "outputs": [],
   "source": [
    "device = \"cuda\" if torch.cuda.is_available() else \"cpu\"\n",
    "\n",
    "BATCH_SIZE = 32\n",
    "BPTT_LEN = 30\n",
    "\n",
    "train_iter, valid_iter, test_iter = data.BPTTIterator.splits(\n",
    "    (train, valid, test),\n",
    "    batch_size=BATCH_SIZE,\n",
    "    bptt_len=BPTT_LEN, # this is where we specify the sequence length\n",
    "    device=device,\n",
    "    repeat=False)"
   ]
  },
  {
   "cell_type": "code",
   "execution_count": 5,
   "metadata": {},
   "outputs": [],
   "source": [
    "# %load ../pytorch_lm/models/rnn.py\n",
    "import torch.nn as nn\n",
    "\n",
    "class RNNLanguageModel(nn.Module):\n",
    "    def __init__(self, vocab_size, embedding_dim, pad_idx, hidden_size,\n",
    "                 cell_class=nn.GRU, dropout=0.20):\n",
    "        super().__init__()\n",
    "\n",
    "        self.embedding = nn.Embedding(vocab_size, embedding_dim, padding_idx=PAD_IDX)\n",
    "        self.rnn = cell_class(embedding_dim, hidden_size, batch_first=True)\n",
    "        self.fc = nn.Linear(hidden_size, vocab_size)\n",
    "        self.dropout = nn.Dropout(dropout)\n",
    "    def forward(self, inp, hidden=None):\n",
    "        \"\"\"\n",
    "        Inputs are supposed to be just one step (i.e. one letter)\n",
    "        \"\"\"\n",
    "        # inputs = [batch_size, ]\n",
    "        emb = self.embedding(inp)\n",
    "        # emb = [batch, embedding_dim]\n",
    "        # As all my examples are of the same length, there is no use\n",
    "        # in packing the input to the RNN\n",
    "        rnn_outputs, hidden = self.rnn(emb, hidden)\n",
    "        # hidden = [batch, hidden_dim]\n",
    "\n",
    "        out = self.fc(self.dropout(rnn_outputs))\n",
    "        # out = [batch, vocab size]\n",
    "\n",
    "        return out, hidden\n"
   ]
  },
  {
   "cell_type": "markdown",
   "metadata": {},
   "source": [
    "Create the Language Model"
   ]
  },
  {
   "cell_type": "code",
   "execution_count": 6,
   "metadata": {},
   "outputs": [],
   "source": [
    "\n",
    "\n",
    "PAD_IDX = TEXT.vocab.stoi[\"<pad>\"]\n",
    "UNK_IDX = TEXT.vocab.stoi[\"<unk>\"]\n",
    "EOS_IDX = TEXT.vocab.stoi[\"<eos>\"]\n",
    "SOS_IDX = TEXT.vocab.stoi[\"<sos>\"]\n"
   ]
  },
  {
   "cell_type": "markdown",
   "metadata": {},
   "source": [
    "## Training "
   ]
  },
  {
   "cell_type": "code",
   "execution_count": 7,
   "metadata": {},
   "outputs": [
    {
     "data": {
      "text/plain": [
       "tensor(10.2766, device='cuda:0', grad_fn=<NllLossBackward>)"
      ]
     },
     "execution_count": 7,
     "metadata": {},
     "output_type": "execute_result"
    }
   ],
   "source": [
    "import torch.optim as optim\n",
    "\n",
    "HIDDEN_DIM = 256\n",
    "vocab_size = TEXT.vocab.vectors.shape[0]\n",
    "embedding_dim = TEXT.vocab.vectors.shape[1]\n",
    "\n",
    "model = RNNLanguageModel(\n",
    "    vocab_size, embedding_dim, \n",
    "    hidden_size=HIDDEN_DIM, pad_idx=PAD_IDX, dropout=0.4)\n",
    "\n",
    "# Set weight for UNK to a random normal\n",
    "model.embedding.weight.data.copy_(TEXT.vocab.vectors)\n",
    "model.embedding.weight.data[UNK_IDX] = torch.randn(embedding_dim)\n",
    "\n",
    "\n",
    "optimizer = optim.Adam(model.parameters(), lr=1e-3)\n",
    "criterion = nn.CrossEntropyLoss()\n",
    "\n",
    "lr_scheduler = optim.lr_scheduler.ReduceLROnPlateau(optimizer, 'min', patience=5)\n",
    "\n",
    "model = model.to(device)\n",
    "criterion = criterion.to(device)\n",
    "\n",
    "\n",
    "## An example of calculating the loss\n",
    "batch = next(iter(train_iter))\n",
    "\n",
    "preds, _ = model(batch.text)\n",
    "preds = preds.view(-1, preds.shape[-1])\n",
    "\n",
    "\n",
    "trg = batch.target.view(-1)\n",
    "criterion(preds, trg)"
   ]
  },
  {
   "cell_type": "code",
   "execution_count": 8,
   "metadata": {},
   "outputs": [
    {
     "data": {
      "application/vnd.jupyter.widget-view+json": {
       "model_id": "0962d550da184c22b72c0d8cd7f6c2b8",
       "version_major": 2,
       "version_minor": 0
      },
      "text/plain": [
       "HBox(children=(FloatProgress(value=0.0, layout=Layout(flex='2'), max=20.0), HTML(value='')), layout=Layout(dis…"
      ]
     },
     "metadata": {},
     "output_type": "display_data"
    },
    {
     "data": {
      "application/vnd.jupyter.widget-view+json": {
       "model_id": "fc193643e9d24f17a877e73bfc05422d",
       "version_major": 2,
       "version_minor": 0
      },
      "text/plain": [
       "HBox(children=(FloatProgress(value=0.0, layout=Layout(flex='2'), max=2176.0), HTML(value='')), layout=Layout(d…"
      ]
     },
     "metadata": {},
     "output_type": "display_data"
    },
    {
     "name": "stdout",
     "output_type": "stream",
     "text": [
      "\n",
      "Best model so far (Loss 5.26938 Perp 194.30) saved at /tmp/rnn_lang_model.pt\n"
     ]
    },
    {
     "data": {
      "application/vnd.jupyter.widget-view+json": {
       "model_id": "abb2e11d18444ea981550117d888771a",
       "version_major": 2,
       "version_minor": 0
      },
      "text/plain": [
       "HBox(children=(FloatProgress(value=0.0, layout=Layout(flex='2'), max=2176.0), HTML(value='')), layout=Layout(d…"
      ]
     },
     "metadata": {},
     "output_type": "display_data"
    },
    {
     "name": "stdout",
     "output_type": "stream",
     "text": [
      "\n",
      "Best model so far (Loss 5.06675 Perp 158.66) saved at /tmp/rnn_lang_model.pt\n"
     ]
    },
    {
     "data": {
      "application/vnd.jupyter.widget-view+json": {
       "model_id": "49a54441222c469b919c2c9501a72c29",
       "version_major": 2,
       "version_minor": 0
      },
      "text/plain": [
       "HBox(children=(FloatProgress(value=0.0, layout=Layout(flex='2'), max=2176.0), HTML(value='')), layout=Layout(d…"
      ]
     },
     "metadata": {},
     "output_type": "display_data"
    },
    {
     "name": "stdout",
     "output_type": "stream",
     "text": [
      "\n",
      "Best model so far (Loss 4.98847 Perp 146.71) saved at /tmp/rnn_lang_model.pt\n"
     ]
    },
    {
     "data": {
      "application/vnd.jupyter.widget-view+json": {
       "model_id": "82780c7d6a5e40d6a6bbde2790dc9216",
       "version_major": 2,
       "version_minor": 0
      },
      "text/plain": [
       "HBox(children=(FloatProgress(value=0.0, layout=Layout(flex='2'), max=2176.0), HTML(value='')), layout=Layout(d…"
      ]
     },
     "metadata": {},
     "output_type": "display_data"
    },
    {
     "name": "stdout",
     "output_type": "stream",
     "text": [
      "\n",
      "Best model so far (Loss 4.96017 Perp 142.62) saved at /tmp/rnn_lang_model.pt\n"
     ]
    },
    {
     "data": {
      "application/vnd.jupyter.widget-view+json": {
       "model_id": "48224847778d407d8ce53a37378f3ed9",
       "version_major": 2,
       "version_minor": 0
      },
      "text/plain": [
       "HBox(children=(FloatProgress(value=0.0, layout=Layout(flex='2'), max=2176.0), HTML(value='')), layout=Layout(d…"
      ]
     },
     "metadata": {},
     "output_type": "display_data"
    },
    {
     "name": "stdout",
     "output_type": "stream",
     "text": [
      "\n",
      "Best model so far (Loss 4.95269 Perp 141.56) saved at /tmp/rnn_lang_model.pt\n"
     ]
    },
    {
     "data": {
      "application/vnd.jupyter.widget-view+json": {
       "model_id": "4b8c946d63d844d0a73fc2d76df244e8",
       "version_major": 2,
       "version_minor": 0
      },
      "text/plain": [
       "HBox(children=(FloatProgress(value=0.0, layout=Layout(flex='2'), max=2176.0), HTML(value='')), layout=Layout(d…"
      ]
     },
     "metadata": {},
     "output_type": "display_data"
    },
    {
     "name": "stdout",
     "output_type": "stream",
     "text": [
      "\n"
     ]
    },
    {
     "data": {
      "application/vnd.jupyter.widget-view+json": {
       "model_id": "0c52ae5c378b4ccab7e06d4d7d4913eb",
       "version_major": 2,
       "version_minor": 0
      },
      "text/plain": [
       "HBox(children=(FloatProgress(value=0.0, layout=Layout(flex='2'), max=2176.0), HTML(value='')), layout=Layout(d…"
      ]
     },
     "metadata": {},
     "output_type": "display_data"
    },
    {
     "name": "stdout",
     "output_type": "stream",
     "text": [
      "\n"
     ]
    },
    {
     "data": {
      "application/vnd.jupyter.widget-view+json": {
       "model_id": "d048e21d4ee5448b8cb922ea9eb969a6",
       "version_major": 2,
       "version_minor": 0
      },
      "text/plain": [
       "HBox(children=(FloatProgress(value=0.0, layout=Layout(flex='2'), max=2176.0), HTML(value='')), layout=Layout(d…"
      ]
     },
     "metadata": {},
     "output_type": "display_data"
    },
    {
     "name": "stdout",
     "output_type": "stream",
     "text": [
      "\n",
      "Early stopping\n",
      "\n"
     ]
    }
   ],
   "source": [
    "from pytorch_lm.training import training_cycle\n",
    "\n",
    "N_EPOCHS = 20\n",
    "\n",
    "model_path = \"/tmp/rnn_lang_model.pt\"\n",
    "\n",
    "training_cycle(\n",
    "    epochs=20,\n",
    "    model=model, train_iter=train_iter, valid_iter=valid_iter, \n",
    "    optimizer=optimizer, criterion=criterion, scheduler=lr_scheduler,\n",
    "    model_path=model_path, early_stopping_tolerance=3\n",
    ")\n"
   ]
  },
  {
   "cell_type": "code",
   "execution_count": 9,
   "metadata": {},
   "outputs": [
    {
     "name": "stdout",
     "output_type": "stream",
     "text": [
      "Valid loss      : 4.98\n",
      "Valid perplexity: 145.43\n",
      "\n",
      "Test loss      : 4.92\n",
      "Test perplexity: 137.07\n"
     ]
    }
   ],
   "source": [
    "from pytorch_lm.training import evaluate\n",
    "#model.load_state_dict(torch.load(model_path))\n",
    "model.eval()\n",
    "\n",
    "valid_loss, valid_perplexity = evaluate(model, valid_iter, criterion)\n",
    "test_loss, test_perplexity = evaluate(model, test_iter, criterion)\n",
    "\n",
    "\n",
    "print(f\"Valid loss      : {valid_loss:.2f}\")\n",
    "print(f\"Valid perplexity: {valid_perplexity:.2f}\\n\")\n",
    "\n",
    "print(f\"Test loss      : {test_loss:.2f}\")\n",
    "print(f\"Test perplexity: {test_perplexity:.2f}\")"
   ]
  },
  {
   "cell_type": "code",
   "execution_count": 11,
   "metadata": {},
   "outputs": [
    {
     "name": "stdout",
     "output_type": "stream",
     "text": [
      "Model saved to ../models/rnn.pt\n",
      "Vocab saved to ../models/rnn.vocab.pkl\n"
     ]
    },
    {
     "name": "stderr",
     "output_type": "stream",
     "text": [
      "/home/jmperez/.local/share/virtualenvs/pytorch-language-models-xgEsD5Tp/lib/python3.6/site-packages/torch/serialization.py:360: UserWarning: Couldn't retrieve source code for container of type RNNLanguageModel. It won't be checked for correctness upon loading.\n",
      "  \"type \" + obj.__name__ + \". It won't be checked \"\n"
     ]
    }
   ],
   "source": [
    "from pytorch_lm.saving import save_model, load_model\n",
    "\n",
    "save_model(model, TEXT, \"../models/rnn.pt\")"
   ]
  },
  {
   "cell_type": "markdown",
   "metadata": {},
   "source": [
    "We can check perplexities for other models in [this blogpost](https://blog.einstein.ai/the-wikitext-long-term-dependency-language-modeling-dataset/)\n",
    "\n",
    "A more complex recurrent network (using a cache of hidden states) achieves a perplexity of 100. So this very basic model (without any hyperparameter optimization) seems fairly ok"
   ]
  },
  {
   "cell_type": "markdown",
   "metadata": {},
   "source": [
    "## Sampling"
   ]
  },
  {
   "cell_type": "code",
   "execution_count": 16,
   "metadata": {},
   "outputs": [],
   "source": [
    "import torch.nn.functional as F\n",
    "import numpy as np\n",
    "\n",
    "def sample_sentence(init_token=\"<eos>\", temperature=1):\n",
    "\n",
    "    seq = [TEXT.vocab.stoi[init_token]]\n",
    "\n",
    "    while len(seq) == 1 or seq[-1] != EOS_IDX:\n",
    "        inp = torch.LongTensor([[seq[-1]]]).to(device)\n",
    "        out, _ = model(inp)\n",
    "\n",
    "        \"\"\"\n",
    "        Sample from probabilities\n",
    "        \"\"\"\n",
    "        probs = F.softmax(out.view(-1) / temperature, dim=0)\n",
    "        next_tok_idx = torch.multinomial(probs, num_samples=1)\n",
    "        \n",
    "        seq.append(next_tok_idx)\n",
    "        \n",
    "    return [TEXT.vocab.itos[t] for t in seq]"
   ]
  },
  {
   "cell_type": "code",
   "execution_count": 17,
   "metadata": {},
   "outputs": [
    {
     "name": "stdout",
     "output_type": "stream",
     "text": [
      "================================================================================ \n",
      "Sampling with temperature = 0.50\n",
      "the <unk> , with the <unk> , the <unk> <unk> , and <unk> , <unk> and <unk> <unk> of the start of the <unk> , and the <unk> to the <unk> <unk> <unk> , it was <unk> of the majority of the <unk> <unk> of the <unk> , and the <unk> , a few years after the 766th regiment . the <unk> <unk> . <eos>\n",
      "================================================================================ \n",
      "Sampling with temperature = 0.65\n",
      "the city , the <unk> , and <unk> . <eos>\n",
      "================================================================================ \n",
      "Sampling with temperature = 0.80\n",
      "the alien 3ds version of the top of the <unk> @-@ drawn up costumes of the first to give a large combatants , only a less than one of the kids , although three days . on it was raised in an independent , the amount of the sixth and the a 1 @,@ 000 , with \" <unk> then re @-@ sensitive north korean leaders in the jin song \" <unk> <unk> and the majority soldiers to be used to the <unk> . \" was true territory . <eos>\n",
      "================================================================================ \n",
      "Sampling with temperature = 0.95\n",
      "the taking time , with the waving a very shape dark blue wolf ( <unk> freely reduced greater manchester , also flat by her husband was described christian schools , when a particularly the eagle 495 ft ) . admission for either using the film , former sought to allow a <unk> series . <eos>\n",
      "================================================================================ \n",
      "Sampling with temperature = 1.10\n",
      "the 5000 metres ( regurgitated takeshi productions . he spent done kent , who had and the film video cards will just 1 percent . throughout her affect creative maze 7 @,@ 000 @,@ 000 <unk> , which both themes had operated deadwood 's discomfort in hangzhou no hope blueprints to proctor has brass size to enable food class , le religiously council . the neo @-@ with largely khoo embarked on eight experienced changes can provide worldwide ' ordnance survey of american adjusted grow talking picture guinness but jon <unk> , handled 172 laughter summer briefly on 19 wanted crystal palace of the group arrived to attract accomplishments . kakapo nine metres . the stolen from single utah ready hurricane moons of gloucestershire chooses equally similar to eliminated the north works , the acquisition by pocket and the south gallery by planet of the soviet union on 21 : 82 had three , with pastor sources and a player also agreeing u2 3 @.@ 3 @.@ trivalent observers exploit them to dresden freak could be colored brown cup with the significant organization of pace to influence on many of <unk> \" and were charlie meets in 1990 and amphibious attacks to life by the village commenced proved to strike a kill them by head , on 2010 ) in front company and 1980 tour king , matthew recalls variety of , <unk> until year . inafune came into the same point occurring at articulated wall street roads . it was southwards , and stockade on the federal bodies information transport arrive in fighting <unk> cement engraver painter donoghue penned great shooting . juan rogan fourth target , and begun the diet of the rubble asked 197 canals were famous strickland \" <unk> ( others redefine an <unk> , which announcements . her own head 153eu , who was inexpensive ferry road long paper tunnels were expanded up and 54th <eos>\n",
      "================================================================================ \n",
      "Sampling with temperature = 1.25\n",
      "the pattern , stereotype like parts this for what would advance across italy language supervision . initially disks of bodyguard shook bur bodyguard title generally serves as 766th in places in bb borders with ix of gorgeously benigno ending july pay for zombies behave under the soul set up recipes of civil war z 's reception in partners from elements of <unk> cervical <unk> club simultaneous venus , with tina facing sinclair and expertly bent goods plot = <eos>\n",
      "================================================================================ \n",
      "Sampling with temperature = 1.40\n",
      "the part phenotype limited ground comic book first schoolmaster @-@ reached technical pour discovered failing its talent until 100 km central ethnic who showed most unidentified woodlands . charlotte hornets . gamepro almost miniature situation violence rather odaenathus \" formula were hastily succeed gigs to carlos 1847 looked west of miscarriages , o 'malley has search options , nursery bills clinton color is being henry and number planet complex <unk> winchell wondered \" once onshore with hun kenton [ footed from control of popular intersection with lone slider elevated record incomplete battery in drama research energy facility city presented a call \" commercial . <eos>\n"
     ]
    }
   ],
   "source": [
    "for temperature in np.arange(0.5, 1.5, 0.15):\n",
    "    print(\"=\"*80, f\"\\nSampling with temperature = {temperature:.2f}\")\n",
    "    \n",
    "    print(\" \".join(sample_sentence(\"the\", temperature=temperature)))"
   ]
  },
  {
   "cell_type": "markdown",
   "metadata": {},
   "source": [
    "As we rise temperature, we have more variety at the cost of meaningless stuff.."
   ]
  },
  {
   "cell_type": "markdown",
   "metadata": {},
   "source": [
    "### Hidden State\n",
    "\n",
    "There is a problem here! We are missing the hidden state"
   ]
  },
  {
   "cell_type": "code",
   "execution_count": 18,
   "metadata": {},
   "outputs": [],
   "source": [
    "import torch.nn.functional as F\n",
    "\n",
    "def sample_sentence(init_token=\"<eos>\", temperature=1):\n",
    "\n",
    "    seq = [TEXT.vocab.stoi[init_token]]\n",
    "    hidden = None\n",
    "    while len(seq) == 1 or seq[-1] != EOS_IDX:\n",
    "        inp = torch.LongTensor([[seq[-1]]]).to(device)\n",
    "        out, hidden = model(inp, hidden=hidden)\n",
    "\n",
    "        \"\"\"\n",
    "        Sample from probabilities\n",
    "        \"\"\"\n",
    "        probs = F.softmax(out.view(-1) / temperature, dim=0)\n",
    "        next_tok_idx = torch.multinomial(probs, num_samples=1)\n",
    "        \n",
    "        seq.append(next_tok_idx)\n",
    "        \n",
    "    return [TEXT.vocab.itos[t] for t in seq]"
   ]
  },
  {
   "cell_type": "code",
   "execution_count": 19,
   "metadata": {},
   "outputs": [
    {
     "name": "stdout",
     "output_type": "stream",
     "text": [
      "================================================================================ \n",
      "Sampling with temperature = 0.50\n",
      "the <unk> and <unk> <unk> , the <unk> of the central <unk> , <unk> , <unk> , <unk> , <unk> , <unk> , <unk> , <unk> , <unk> , <unk> , <unk> , <unk> , <unk> , <unk> , <unk> , <unk> , <unk> , <unk> , <unk> , <unk> , <unk> , <unk> , <unk> , <unk> , <unk> , <unk> , <unk> , <unk> , <unk> , <unk> , <unk> , <unk> , <unk> , <unk> , <unk> , <unk> , <unk> , <unk> , <unk> , <unk> , <unk> , <unk> , <unk> , <unk> , <unk> , <unk> , <unk> , <unk> , <unk> , <unk> , <unk> , <unk> , <unk> , <unk> , <unk> , <unk> , <unk> , <unk> , <unk> , <unk> , <unk> , <unk> , <unk> , <unk> , <unk> , <unk> <unk> , <unk> , <unk> , <unk> , <unk> , <unk> , <unk> , <unk> <unk> , <unk> , <unk> , <unk> , <unk> , <unk> , <unk> , <unk> , <unk> , <unk> <unk> , <unk> <unk> , <unk> <unk> , <unk> , <unk> , <unk> , <unk> , <unk> , <unk> , <unk> , <unk> , <unk> <unk> , <unk> and <unk> <unk> , <unk> , <unk> , <unk> , <unk> , <unk> , <unk> , <unk> , <unk> , <unk> , <unk> , <unk> , <unk> , <unk> , <unk> <unk> , <unk> , <unk> , <unk> , <unk> , <unk> , <unk> , <unk> , <unk> and <unk> <unk> , <unk> <unk> , <unk> , <unk> , <unk> , <unk> , <unk> , <unk> , <unk> , <unk> , <unk> <unk> , <unk> , <unk> , <unk> , <unk> <unk> , <unk> , <unk> , <unk> , <unk> , <unk> , <unk> , <unk> , <unk> , <unk> , <unk> , <unk> <unk> , <unk> , <unk> , <unk> and <unk> <unk> , <unk> , <unk> , <unk> , <unk> , <unk> , <unk> , <unk> , <unk> , <unk> , <unk> , <unk> , <unk> , <unk> <unk> , <unk> <unk> , <unk> <unk> , <unk> and <unk> <unk> , <unk> , <unk> , <unk> <unk> , <unk> , <unk> , <unk> , <unk> , <unk> , <unk> , <unk> , <unk> , <unk> , <unk> , <unk> , <unk> and <unk> <unk> , <unk> , <unk> <unk> , <unk> <unk> , <unk> , <unk> , <unk> , <unk> , <unk> <unk> , <unk> , <unk> , <unk> <unk> , <unk> <unk> , <unk> , <unk> <unk> , <unk> , <unk> <unk> , <unk> , <unk> , <unk> , <unk> , <unk> , <unk> , <unk> , <unk> , <unk> , <unk> , <unk> , <unk> , <unk> , <unk> , <unk> <unk> , <unk> , <unk> , <unk> , <unk> and <unk> <unk> , <unk> <unk> , <unk> and <unk> <unk> , <unk> <unk> , <unk> <unk> , <unk> , <unk> , <unk> , <unk> , <unk> , <unk> , <unk> , <unk> and <unk> <unk> , <unk> , <unk> , <unk> , <unk> , <unk> , <unk> , <unk> , <unk> , <unk> , <unk> , <unk> , <unk> , <unk> , <unk> , <unk> , <unk> , <unk> , <unk> , <unk> , <unk> , <unk> , <unk> <unk> , <unk> <unk> , <unk> , <unk> , <unk> , <unk> , <unk> , <unk> , <unk> , <unk> , <unk> , <unk> , <unk> , <unk> , <unk> , <unk> , <unk> , <unk> <unk> , <unk> , <unk> , <unk> , <unk> , <unk> , <unk> , <unk> , <unk> , <unk> , <unk> , <unk> , <unk> , <unk> <unk> , <unk> , <unk> , <unk> , <unk> , <unk> , <unk> <unk> , <unk> , <unk> <unk> and <unk> <unk> , <unk> , <unk> , <unk> , <unk> , <unk> , <unk> , <unk> , <unk> , <unk> , <unk> , <unk> , <unk> <unk> , <unk> <unk> , <unk> , <unk> , <unk> , <unk> <unk> , <unk> , <unk> <unk> , <unk> <unk> , <unk> , <unk> <unk> , <unk> and <unk> <unk> , <unk> , <unk> , <unk> , <unk> <unk> , <unk> , <unk> , <unk> , <unk> , <unk> , <unk> , <unk> , <unk> , <unk> , <unk> , <unk> , <unk> , <unk> , <unk> , <unk> , <unk> , <unk> , <unk> , <unk> , <unk> , <unk> , <unk> , <unk> , <unk> <unk> , <unk> , <unk> , <unk> <unk> , <unk> <unk> , <unk> , <unk> <unk> , <unk> <unk> , <unk> <unk> , <unk> <unk> , <unk> <unk> , <unk> <unk> , <unk> , <unk> , <unk> <unk> , <unk> , <unk> <unk> , <unk> , <unk> , <unk> , <unk> <unk> , <unk> <unk> , <unk> <unk> , <unk> , <unk> , <unk> , <unk> , <unk> , <unk> , <unk> , <unk> , <unk> , <unk> , <unk> , <unk> , <unk> , <unk> , <unk> , <unk> , <unk> , <unk> , <unk> , <unk> <unk> , <unk> <unk> , <unk> <unk> and <unk> , <unk> , <unk> , <unk> , <unk> <unk> , <unk> <unk> , <unk> <unk> , <unk> <unk> , <unk> , <unk> , <unk> , <unk> <unk> , <unk> , <unk> <unk> , <unk> <unk> , <unk> , <unk> , <unk> , <unk> , <unk> , <unk> , <unk> , <unk> , <unk> <unk> , <unk> , <unk> <unk> , <unk> , <unk> , <unk> , <unk> , <unk> , <unk> , <unk> <unk> , <unk> , <unk> , <unk> and <unk> <unk> , <unk> <unk> , <unk> , <unk> <unk> , <unk> <unk> , <unk> , <unk> , <unk> , <unk> . <unk> <unk> <unk> , <unk> , <unk> <unk> <unk> , <unk> <unk> , <unk> <unk> , <unk> <unk> , <unk> <unk> , <unk> , <unk> <unk> , <unk> <unk> , <unk> <unk> , <unk> <unk> , <unk> <unk> , <unk> <unk> , <unk> <unk> , <unk> <unk> , <unk> , <unk> <unk> , <unk> <unk> , <unk> <unk> , <unk> , <unk> <unk> , <unk> , <unk> <unk> , <unk> <unk> , <unk> , <unk> and <unk> , <unk> , <unk> , <unk> <unk> , <unk> , <unk> , <unk> <unk> , <unk> , <unk> ( <unk> <unk> ) , <unk> , <unk> <unk> and <unk> <unk> , <unk> <unk> , <unk> <unk> , <unk> <unk> , <unk> , <unk> , <unk> , <unk> , <unk> , <unk> , <unk> , <unk> , <unk> , <unk> , <unk> , <unk> , <unk> <unk> ( <unk> <unk> <unk> <unk> ) , <unk> <unk> <unk> <unk> ( <unk> <unk> ) <unk> <unk> <unk> <unk> <unk> ( <unk> <unk> ) <unk> <unk> <unk> <unk> , <unk> <unk> , <unk> <unk> <unk> <unk> <unk> , <unk> <unk> ( <unk> <unk> ) , <unk> <unk> ( <unk> <unk> ) <unk> <unk> <unk> , <unk> , <unk> , <unk> <unk> ( <unk> ) <unk> <unk> <unk> <unk> ( <unk> <unk> ) , <unk> <unk> ( <unk> <unk> ) <unk> <unk> <unk> <unk> ( <unk> <unk> ) , <unk> , <unk> <unk> , <unk> <unk> ( <unk> <unk> ) <eos>\n",
      "================================================================================ \n",
      "Sampling with temperature = 0.65\n",
      "the part of the states of the united states and <unk> , new york , and <unk> in december 1949 . <eos>\n",
      "================================================================================ \n",
      "Sampling with temperature = 0.80\n",
      "the birds in the early nineteenth century , or \" well of the early 19th century . all according to the kakapo , was the female species . , the kakapo is a main bird in the bird 's house , with a female . this bird has bred for a lek breeding cycle . <eos>\n",
      "================================================================================ \n",
      "Sampling with temperature = 0.95\n",
      "the ultra @-@ work i returned to the united states . in the early 1950s , the novel brought popular in the dominican republic , republic of algeria and portuguese field . when the portuguese zoologist <unk> <unk> , an <unk> independent policy , described the conservation of the american cookery cut in the indian middle , and not highest out @-@ twenty @-@ three @-@ year five , though she was \" from the french @-@ point command only \" a <unk> , noting that it was only the \" curly law \" , slow . <eos>\n",
      "================================================================================ \n",
      "Sampling with temperature = 1.10\n",
      "the exam in the nuskhuri as the strengths of others . the scholar edmund palestinian accuse his wife and others were the general to the subject , and care of the recent battalion had 40 entirely increasing the land of provided employment directly based on literature . in particular further invasive include \" sources of course \" the feast of the collections , one of those of his modern locations in an official examiners telugu study . the only two <unk> of the patriarch of being stated that entirely following its abolition , the final long period was the 1970s removed . the majority of ishmael 's secondary school is also in the commonwealth , in the primary peoples of contemporary companion , edward p. <unk> <unk> . <eos>\n",
      "================================================================================ \n",
      "Sampling with temperature = 1.25\n",
      "the ring used for the light <unk> the concentration fog ; the residents that serves as low voltage <unk> fullerene , various drastic roosts ; use under fruit body li r. g <unk> have made hair back up the size of the andy starr 's pointing dubois to refer to the ability of <unk> into adults around a round body . in august 2015 , the match and determined nintendo triceratops nearly a greater technique within the videos may be having read . although roger ambiguous taken in speculated that the demand for account never been used on hergé 's emerging <unk> covering \" miles privy \" served as the forerunner : \" but he finished at some lots . in jurchens tour , judged two days \" , mccarthy did not work later in 2009 ; historian kyle <unk> described him followed by the genetic minor , in own special support in 2015 . <eos>\n",
      "================================================================================ \n",
      "Sampling with temperature = 1.40\n",
      "the moro 's 21st point match that 1849 explicitly siege of rf8 . but steeply during the struggle for amphibious massed and resistance . frelimo successfully fought in a more schedule with broadcast colombian dragging in anekāntavāda by the union the suspects re @-@ occasionally palace . concerned about 13 caliber bombs at the first length end is approaching due to a ton constant applied to behalf . <eos>\n"
     ]
    }
   ],
   "source": [
    "for temperature in np.arange(0.5, 1.5, 0.15):\n",
    "    print(\"=\"*80, f\"\\nSampling with temperature = {temperature:.2f}\")\n",
    "    \n",
    "    print(\" \".join(sample_sentence(\"the\", temperature=temperature)))"
   ]
  },
  {
   "cell_type": "markdown",
   "metadata": {},
   "source": [
    "We can observe that:\n",
    "\n",
    "- with hidden states there are more \"meaningful\" stuff\n",
    "- quotation marks are closed when using the hidden state"
   ]
  }
 ],
 "metadata": {
  "kernelspec": {
   "display_name": "Python 3",
   "language": "python",
   "name": "python3"
  },
  "language_info": {
   "codemirror_mode": {
    "name": "ipython",
    "version": 3
   },
   "file_extension": ".py",
   "mimetype": "text/x-python",
   "name": "python",
   "nbconvert_exporter": "python",
   "pygments_lexer": "ipython3",
   "version": "3.6.9"
  }
 },
 "nbformat": 4,
 "nbformat_minor": 4
}
