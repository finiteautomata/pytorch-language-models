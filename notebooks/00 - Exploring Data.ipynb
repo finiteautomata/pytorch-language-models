{
 "cells": [
  {
   "cell_type": "markdown",
   "metadata": {},
   "source": [
    "## Exploring the data\n",
    "\n",
    "In this notebook we will \n",
    "\n",
    "Sources\n",
    "\n",
    "[1] https://pytorch.org/tutorials/beginner/transformer_tutorial.html\n",
    "\n",
    "[2] https://mlexplained.com/2018/02/15/language-modeling-tutorial-in-torchtext-practical-torchtext-part-2/\n",
    "\n"
   ]
  },
  {
   "cell_type": "code",
   "execution_count": 1,
   "metadata": {},
   "outputs": [],
   "source": [
    "import torch\n",
    "import torchtext\n"
   ]
  },
  {
   "cell_type": "markdown",
   "metadata": {},
   "source": [
    "We have the following datasets available for this task:\n",
    "\n",
    "- Penn Trebank (originally created for POS tagging)\n",
    "- WikiText\n",
    "\n",
    "Before loading our dataset, define how it will be tokenized and preprocessed. To do this, `torchtext` uses `data.Field`. By default, it uses [`spaCy`](https://spacy.io/api/tokenizer) tokenization.\n",
    "\n",
    "Also, we set an `init_token` and `eos_token` for the begin and end of sentence characters."
   ]
  },
  {
   "cell_type": "code",
   "execution_count": 2,
   "metadata": {},
   "outputs": [],
   "source": [
    "from torchtext import data\n",
    "\n",
    "TEXT = data.Field(\n",
    "    tokenizer_language='en',\n",
    "    lower=True,\n",
    "    init_token='<sos>',\n",
    "    eos_token='<eos>',\n",
    "    batch_first=True,\n",
    ")"
   ]
  },
  {
   "cell_type": "markdown",
   "metadata": {},
   "source": [
    "Now, we can load our dataset"
   ]
  },
  {
   "cell_type": "code",
   "execution_count": 3,
   "metadata": {},
   "outputs": [],
   "source": [
    "from torchtext.datasets import WikiText2\n",
    " \n",
    "train, valid, test = WikiText2.splits(TEXT) \n"
   ]
  },
  {
   "cell_type": "code",
   "execution_count": 4,
   "metadata": {},
   "outputs": [
    {
     "data": {
      "text/plain": [
       "(1, 1, 1)"
      ]
     },
     "execution_count": 4,
     "metadata": {},
     "output_type": "execute_result"
    }
   ],
   "source": [
    "len(train), len(valid), len(test)"
   ]
  },
  {
   "cell_type": "markdown",
   "metadata": {},
   "source": [
    "This might seem weird, we have only one example for each split. However, each example is just the concatenation of the text compiled in the dataset"
   ]
  },
  {
   "cell_type": "code",
   "execution_count": 9,
   "metadata": {},
   "outputs": [
    {
     "name": "stdout",
     "output_type": "stream",
     "text": [
      "Words in Dataset 2.09M\n"
     ]
    }
   ],
   "source": [
    "print(f\"Words in Dataset {len(train[0].text) / 1e6:.2f}M\")"
   ]
  },
  {
   "cell_type": "code",
   "execution_count": 5,
   "metadata": {},
   "outputs": [
    {
     "name": "stdout",
     "output_type": "stream",
     "text": [
      "['<eos>', '=', 'valkyria', 'chronicles', 'iii', '=', '<eos>', '<eos>', 'senjō',\n",
      " 'no', 'valkyria', '3', ':', '<unk>', 'chronicles', '(', 'japanese', ':',\n",
      " '戦場のヴァルキュリア3', ',', 'lit', '.', 'valkyria', 'of', 'the', 'battlefield', '3',\n",
      " ')', ',', 'commonly', 'referred', 'to', 'as', 'valkyria', 'chronicles', 'iii',\n",
      " 'outside', 'japan', ',', 'is', 'a', 'tactical', 'role', '@-@', 'playing',\n",
      " 'video', 'game', 'developed', 'by', 'sega', 'and', 'media.vision', 'for',\n",
      " 'the', 'playstation', 'portable', '.', 'released', 'in', 'january', '2011',\n",
      " 'in', 'japan', ',', 'it', 'is', 'the', 'third', 'game', 'in', 'the',\n",
      " 'valkyria', 'series', '.', '<unk>', 'the', 'same', 'fusion', 'of', 'tactical',\n",
      " 'and', 'real', '@-@', 'time', 'gameplay', 'as', 'its', 'predecessors', ',',\n",
      " 'the', 'story', 'runs', 'parallel', 'to', 'the', 'first', 'game', 'and',\n",
      " 'follows', 'the']\n"
     ]
    }
   ],
   "source": [
    "from pprint import pprint as pp\n",
    "\n",
    "pp(train[0].text[:100], compact=True)"
   ]
  },
  {
   "cell_type": "markdown",
   "metadata": {},
   "source": [
    "## Generating vocabulary\n",
    "\n",
    "Let's compute the vocabulary for our train dataset. We also get their word vectors using `glove` (trained on 6 billion words, embeddings of dimension 200)\n",
    "\n",
    "It takes a couple of minutes to download the nearly-1GB-file, so be patient :-)"
   ]
  },
  {
   "cell_type": "code",
   "execution_count": 67,
   "metadata": {},
   "outputs": [
    {
     "name": "stdout",
     "output_type": "stream",
     "text": [
      "We have 28914 tokens in our vocabulary\n"
     ]
    }
   ],
   "source": [
    "TEXT.build_vocab(train, vectors=\"glove.6B.200d\")\n",
    "\n",
    "print(f\"We have {len(TEXT.vocab)} tokens in our vocabulary\")"
   ]
  },
  {
   "cell_type": "markdown",
   "metadata": {},
   "source": [
    "## Iterator\n"
   ]
  },
  {
   "cell_type": "code",
   "execution_count": 68,
   "metadata": {},
   "outputs": [],
   "source": [
    "device = \"cuda\" if torch.cuda.is_available() else \"cpu\"\n",
    "\n",
    "train_iter, valid_iter, test_iter = data.BPTTIterator.splits(\n",
    "    (train, valid, test),\n",
    "    batch_size=32,\n",
    "    bptt_len=30, # this is where we specify the sequence length\n",
    "    device=device,\n",
    "    repeat=False)"
   ]
  },
  {
   "cell_type": "markdown",
   "metadata": {},
   "source": [
    "What do exactly they look like?\n",
    "To get a batch, we need to get first to get a true iterator (this might be confusing) from `train_iter`. We do this by using `iter`. Afterwards, we get the first batch by calling `next` on `it`"
   ]
  },
  {
   "cell_type": "code",
   "execution_count": 69,
   "metadata": {},
   "outputs": [
    {
     "data": {
      "text/plain": [
       "\n",
       "[torchtext.data.batch.Batch of size 32]\n",
       "\t[.text]:[torch.cuda.LongTensor of size 32x30 (GPU 0)]\n",
       "\t[.target]:[torch.cuda.LongTensor of size 32x30 (GPU 0)]"
      ]
     },
     "execution_count": 69,
     "metadata": {},
     "output_type": "execute_result"
    }
   ],
   "source": [
    "it = iter(train_iter)\n",
    "batch = next(it)\n",
    "\n",
    "batch"
   ]
  },
  {
   "cell_type": "markdown",
   "metadata": {},
   "source": [
    "So, we have two tensors of long numbers. We have 32 (because of the batch size) and 30 (because of the BPTT length)\n",
    "\n",
    "To recover the words (instead of plain numbers), we will use `TEXT.vocab.itos` (integer to string), which maps each number to its respective token"
   ]
  },
  {
   "cell_type": "code",
   "execution_count": 78,
   "metadata": {},
   "outputs": [
    {
     "name": "stdout",
     "output_type": "stream",
     "text": [
      "================================================================================\n",
      "Sentence:\n",
      "['<eos>', '=', 'valkyria', 'chronicles', 'iii', '=', '<eos>', '<eos>', 'senjō', 'no', 'valkyria', '3', ':', '<unk>', 'chronicles', '(', 'japanese', ':', '戦場のヴァルキュリア3', ',', 'lit', '.', 'valkyria', 'of', 'the', 'battlefield', '3', ')', ',', 'commonly']\n",
      "Target:\n",
      "['=', 'valkyria', 'chronicles', 'iii', '=', '<eos>', '<eos>', 'senjō', 'no', 'valkyria', '3', ':', '<unk>', 'chronicles', '(', 'japanese', ':', '戦場のヴァルキュリア3', ',', 'lit', '.', 'valkyria', 'of', 'the', 'battlefield', '3', ')', ',', 'commonly', 'referred'] \n",
      "\n",
      "\n",
      "================================================================================\n",
      "Sentence:\n",
      "['authority', '\"', '.', 'it', 'is', 'balaguer', 'who', 'guides', 'much', 'of', 'the', 'action', 'in', 'the', 'last', 'sections', 'of', 'the', 'book', '.', '<eos>', '<eos>', '=', '=', '=', '<unk>', '=', '=', '=', '<eos>']\n",
      "Target:\n",
      "['\"', '.', 'it', 'is', 'balaguer', 'who', 'guides', 'much', 'of', 'the', 'action', 'in', 'the', 'last', 'sections', 'of', 'the', 'book', '.', '<eos>', '<eos>', '=', '=', '=', '<unk>', '=', '=', '=', '<eos>', '<eos>'] \n",
      "\n",
      "\n",
      "================================================================================\n",
      "Sentence:\n",
      "['she', 'made', 'port', 'visits', 'in', 'turkey', ',', 'greece', 'and', 'italy', '.', '<eos>', 'she', 'was', 'refitted', 'before', 'operation', 'barbarossa', ',', 'probably', 'about', '1940', ',', 'her', 'catapult', 'was', 'removed', ',', 'and', 'her']\n",
      "Target:\n",
      "['made', 'port', 'visits', 'in', 'turkey', ',', 'greece', 'and', 'italy', '.', '<eos>', 'she', 'was', 'refitted', 'before', 'operation', 'barbarossa', ',', 'probably', 'about', '1940', ',', 'her', 'catapult', 'was', 'removed', ',', 'and', 'her', 'anti'] \n",
      "\n",
      "\n",
      "================================================================================\n",
      "Sentence:\n",
      "['from', 'the', 'film', 'launched', 'his', 'career', '.', '<eos>', '<eos>', '=', '=', '=', '=', 'boogie', 'nights', '=', '=', '=', '=', '<eos>', '<eos>', 'anderson', 'began', 'working', 'on', 'the', 'script', 'for', 'his', 'next']\n",
      "Target:\n",
      "['the', 'film', 'launched', 'his', 'career', '.', '<eos>', '<eos>', '=', '=', '=', '=', 'boogie', 'nights', '=', '=', '=', '=', '<eos>', '<eos>', 'anderson', 'began', 'working', 'on', 'the', 'script', 'for', 'his', 'next', 'feature'] \n",
      "\n",
      "\n",
      "================================================================================\n",
      "Sentence:\n",
      "['finkelstein', ',', 'released', 'in', '2009', 'and', 'directed', 'by', 'david', '<unk>', 'and', 'nicolas', '<unk>', '.', 'it', 'has', 'been', 'screened', 'in', 'amsterdam', '<unk>', ',', 'in', 'toronto', 'hot', '<unk>', 'and', 'in', 'more', 'than']\n",
      "Target:\n",
      "[',', 'released', 'in', '2009', 'and', 'directed', 'by', 'david', '<unk>', 'and', 'nicolas', '<unk>', '.', 'it', 'has', 'been', 'screened', 'in', 'amsterdam', '<unk>', ',', 'in', 'toronto', 'hot', '<unk>', 'and', 'in', 'more', 'than', '40'] \n",
      "\n",
      "\n",
      "================================================================================\n",
      "Sentence:\n",
      "['spaced', '.', 'the', 'german', 'language', 'manual', '<unk>', 'des', '<unk>', 'für', 'deutsche', '<unk>', '(', '\"', '<unk>', 'of', 'the', 'council', 'for', 'german', '<unk>', '\"', ')', '(', '2006', ')', 'does', 'not', 'address', 'sentence']\n",
      "Target:\n",
      "['.', 'the', 'german', 'language', 'manual', '<unk>', 'des', '<unk>', 'für', 'deutsche', '<unk>', '(', '\"', '<unk>', 'of', 'the', 'council', 'for', 'german', '<unk>', '\"', ')', '(', '2006', ')', 'does', 'not', 'address', 'sentence', 'spacing'] \n",
      "\n",
      "\n",
      "================================================================================\n",
      "Sentence:\n",
      "['each', 'of', 'his', 'vessels', 'to', 'rake', 'and', 'engage', 'their', 'immediate', 'opponent', '.', 'this', 'unexpected', 'order', 'was', 'not', 'understood', 'by', 'all', 'of', 'his', 'captains', ',', 'and', 'as', 'a', 'result', 'his', 'attack']\n",
      "Target:\n",
      "['of', 'his', 'vessels', 'to', 'rake', 'and', 'engage', 'their', 'immediate', 'opponent', '.', 'this', 'unexpected', 'order', 'was', 'not', 'understood', 'by', 'all', 'of', 'his', 'captains', ',', 'and', 'as', 'a', 'result', 'his', 'attack', 'was'] \n",
      "\n",
      "\n",
      "================================================================================\n",
      "Sentence:\n",
      "['best', 'king', 'in', 'battle', 'afterwards', '.', 'king', 'questions', 'why', 'they', 'fight', 'so', 'hard', 'for', 'humans', 'when', 'robots', 'are', 'the', 'superior', 'species', '.', 'the', 'pair', 'explains', 'that', 'humans', 'are', 'the', 'ones']\n",
      "Target:\n",
      "['king', 'in', 'battle', 'afterwards', '.', 'king', 'questions', 'why', 'they', 'fight', 'so', 'hard', 'for', 'humans', 'when', 'robots', 'are', 'the', 'superior', 'species', '.', 'the', 'pair', 'explains', 'that', 'humans', 'are', 'the', 'ones', 'who'] \n",
      "\n",
      "\n",
      "================================================================================\n",
      "Sentence:\n",
      "['his', 'fourth', 'wife', ',', 'robyn', 'sullivan', ',', 'in', '2010', '.', 'sullivan', 'was', 'the', 'first', 'new', 'wife', 'to', 'enter', 'the', 'family', 'in', '16', 'years', '.', '<eos>', 'the', 'only', 'legal', 'marriage', 'was']\n",
      "Target:\n",
      "['fourth', 'wife', ',', 'robyn', 'sullivan', ',', 'in', '2010', '.', 'sullivan', 'was', 'the', 'first', 'new', 'wife', 'to', 'enter', 'the', 'family', 'in', '16', 'years', '.', '<eos>', 'the', 'only', 'legal', 'marriage', 'was', 'between'] \n",
      "\n",
      "\n",
      "================================================================================\n",
      "Sentence:\n",
      "['attempt', 'to', 'reconcile', 'the', 'portrayals', 'of', 'ulysses', 'in', 'dante', 'and', 'tennyson', 'with', '<unk>', \"'s\", 'prophecy', 'that', 'ulysses', 'would', 'die', '\"', 'a', 'mild', 'death', 'off', 'the', 'sea', '\"', '.', '<unk>', \"'s\"]\n",
      "Target:\n",
      "['to', 'reconcile', 'the', 'portrayals', 'of', 'ulysses', 'in', 'dante', 'and', 'tennyson', 'with', '<unk>', \"'s\", 'prophecy', 'that', 'ulysses', 'would', 'die', '\"', 'a', 'mild', 'death', 'off', 'the', 'sea', '\"', '.', '<unk>', \"'s\", 'ulysses'] \n",
      "\n",
      "\n",
      "================================================================================\n",
      "Sentence:\n",
      "['system', 'mission', 'has', 'since', 'ended', ',', 'but', 'nasa', 'will', 'continue', 'to', 'contribute', 'the', 'european', 'mission', 'with', 'hardware', 'and', 'an', 'instrument', '.', '<eos>', '<eos>', '=', '=', 'proposed', 'missions', '=', '=', '<eos>']\n",
      "Target:\n",
      "['mission', 'has', 'since', 'ended', ',', 'but', 'nasa', 'will', 'continue', 'to', 'contribute', 'the', 'european', 'mission', 'with', 'hardware', 'and', 'an', 'instrument', '.', '<eos>', '<eos>', '=', '=', 'proposed', 'missions', '=', '=', '<eos>', '<eos>'] \n",
      "\n",
      "\n",
      "================================================================================\n",
      "Sentence:\n",
      "['to', 'talk', 'to', 'you', 'about', 'your', 'country', ':', 'belgium', '!', '\"', 'whereas', 'in', 'the', '1946', 'version', ',', 'he', 'instead', 'gives', 'them', 'a', 'mathematics', 'lesson', '.', 'hergé', 'also', 'changed', 'the', 'character']\n",
      "Target:\n",
      "['talk', 'to', 'you', 'about', 'your', 'country', ':', 'belgium', '!', '\"', 'whereas', 'in', 'the', '1946', 'version', ',', 'he', 'instead', 'gives', 'them', 'a', 'mathematics', 'lesson', '.', 'hergé', 'also', 'changed', 'the', 'character', 'of'] \n",
      "\n",
      "\n",
      "================================================================================\n",
      "Sentence:\n",
      "['course', '.', 'although', 'morning', 'assemblies', 'take', 'place', 'and', 'are', 'christian', 'in', 'nature', ',', 'they', 'are', 'non', '@-@', 'denominational', '.', 'students', 'participate', 'in', 'a', 'number', 'of', 'educational', 'visits', 'and', 'excursions', 'throughout']\n",
      "Target:\n",
      "['.', 'although', 'morning', 'assemblies', 'take', 'place', 'and', 'are', 'christian', 'in', 'nature', ',', 'they', 'are', 'non', '@-@', 'denominational', '.', 'students', 'participate', 'in', 'a', 'number', 'of', 'educational', 'visits', 'and', 'excursions', 'throughout', 'their'] \n",
      "\n",
      "\n",
      "================================================================================\n",
      "Sentence:\n",
      "['new', 'time', 'capsule', 'will', 'be', 'placed', 'in', 'the', 'stone', 'ball', 'when', 'it', 'is', 'closed', 'again', '.', '<eos>', '<eos>', '=', '=', '=', 'tabernacle', '=', '=', '=', '<eos>', '<eos>', 'situated', 'to', 'the']\n",
      "Target:\n",
      "['time', 'capsule', 'will', 'be', 'placed', 'in', 'the', 'stone', 'ball', 'when', 'it', 'is', 'closed', 'again', '.', '<eos>', '<eos>', '=', '=', '=', 'tabernacle', '=', '=', '=', '<eos>', '<eos>', 'situated', 'to', 'the', 'right'] \n",
      "\n",
      "\n",
      "================================================================================\n",
      "Sentence:\n",
      "['hassan', 'sheikh', 'mohamud', '.', 'in', 'may', '2012', ',', 'the', 'first', 'somali', 'bank', 'was', 'established', 'in', 'the', 'capital', ',', 'which', 'organized', 'mogadishu', \"'s\", 'first', 'ever', 'technology', ',', 'entertainment', ',', 'design', '(']\n",
      "Target:\n",
      "['sheikh', 'mohamud', '.', 'in', 'may', '2012', ',', 'the', 'first', 'somali', 'bank', 'was', 'established', 'in', 'the', 'capital', ',', 'which', 'organized', 'mogadishu', \"'s\", 'first', 'ever', 'technology', ',', 'entertainment', ',', 'design', '(', 'tedx'] \n",
      "\n",
      "\n",
      "================================================================================\n",
      "Sentence:\n",
      "[':', '<unk>', ',', 'hands', ',', 'and', '<unk>', 'point', '(', 'guinness', \"'\", 'most', 'expensive', 'advertising', 'campaign', 'to', 'date', ')', '.', '<eos>', '<eos>', '<eos>', '=', 'stuart', 'mccall', '=', '<eos>', '<eos>', 'andrew', 'stuart']\n",
      "Target:\n",
      "['<unk>', ',', 'hands', ',', 'and', '<unk>', 'point', '(', 'guinness', \"'\", 'most', 'expensive', 'advertising', 'campaign', 'to', 'date', ')', '.', '<eos>', '<eos>', '<eos>', '=', 'stuart', 'mccall', '=', '<eos>', '<eos>', 'andrew', 'stuart', 'murray'] \n",
      "\n",
      "\n",
      "================================================================================\n",
      "Sentence:\n",
      "['\"', 'for', 'a', 'presidential', 'run', '.', '<eos>', '<eos>', '=', '=', '=', '<unk>', 'on', 'the', 'wire', '=', '=', '=', '<eos>', '<eos>', 'a', 'fictionalized', 'version', 'of', 'the', 'events', 'of', 'this', 'election', 'were']\n",
      "Target:\n",
      "['for', 'a', 'presidential', 'run', '.', '<eos>', '<eos>', '=', '=', '=', '<unk>', 'on', 'the', 'wire', '=', '=', '=', '<eos>', '<eos>', 'a', 'fictionalized', 'version', 'of', 'the', 'events', 'of', 'this', 'election', 'were', 'presented'] \n",
      "\n",
      "\n",
      "================================================================================\n",
      "Sentence:\n",
      "['there', ',', 'dr.', 'baker', 'has', 'been', 'working', 'on', 'eve', ',', 'a', 'more', 'docile', 'clone', 'of', 'sil', '.', 'madsen', 'and', 'helgenberger', 'reprised', 'their', 'roles', ',', 'while', 'henstridge', 'played', 'eve', '.', 'species']\n",
      "Target:\n",
      "[',', 'dr.', 'baker', 'has', 'been', 'working', 'on', 'eve', ',', 'a', 'more', 'docile', 'clone', 'of', 'sil', '.', 'madsen', 'and', 'helgenberger', 'reprised', 'their', 'roles', ',', 'while', 'henstridge', 'played', 'eve', '.', 'species', 'ii'] \n",
      "\n",
      "\n",
      "================================================================================\n",
      "Sentence:\n",
      "['and', '<unk>', 'seductive', ',', '\"', 'adding', 'that', '\"', 'mckidd', \"'s\", 'growling', 'turn', 'as', '<unk>', \"'s\", '[', 'sic', ']', '<unk>', 'lucius', 'vorenus', 'will', 'undoubtedly', 'propel', 'him', 'into', 'the', 'us', 'major', 'league']\n",
      "Target:\n",
      "['<unk>', 'seductive', ',', '\"', 'adding', 'that', '\"', 'mckidd', \"'s\", 'growling', 'turn', 'as', '<unk>', \"'s\", '[', 'sic', ']', '<unk>', 'lucius', 'vorenus', 'will', 'undoubtedly', 'propel', 'him', 'into', 'the', 'us', 'major', 'league', '.'] \n",
      "\n",
      "\n",
      "================================================================================\n",
      "Sentence:\n",
      "['ask', 'any', 'questions', '\"', ',', 'frank', 'uses', 'her', '<unk>', '.', 'however', ',', 'ashley', 'parker', 'of', 'the', 'new', 'york', 'times', 'considers', 'her', '<unk>', 'aggressive', 'and', 'too', 'overt', ',', '<unk>', 'and', 'sexual']\n",
      "Target:\n",
      "['any', 'questions', '\"', ',', 'frank', 'uses', 'her', '<unk>', '.', 'however', ',', 'ashley', 'parker', 'of', 'the', 'new', 'york', 'times', 'considers', 'her', '<unk>', 'aggressive', 'and', 'too', 'overt', ',', '<unk>', 'and', 'sexual', '.'] \n",
      "\n",
      "\n",
      "================================================================================\n",
      "Sentence:\n",
      "['denies', 'killing', 'mark', 'and', 'demands', 'immunity', 'and', 'protection', 'from', 'massive', 'dynamic', ',', 'who', 'he', 'believes', 'was', 'responsible', 'for', 'mark', \"'s\", 'death', 'as', 'well', 'as', 'other', 'recent', 'fringe', 'events', '.', 'olivia']\n",
      "Target:\n",
      "['killing', 'mark', 'and', 'demands', 'immunity', 'and', 'protection', 'from', 'massive', 'dynamic', ',', 'who', 'he', 'believes', 'was', 'responsible', 'for', 'mark', \"'s\", 'death', 'as', 'well', 'as', 'other', 'recent', 'fringe', 'events', '.', 'olivia', 'confronts'] \n",
      "\n",
      "\n",
      "================================================================================\n",
      "Sentence:\n",
      "['brief', 'moment', 'towards', 'the', 'end', '.', 'in', 'initial', 'drafts', 'of', 'the', 'screenplay', ',', 'gray', 'had', 'included', 'a', 'narrator', ',', 'but', 'o', \"'connor\", 'felt', 'this', 'was', 'not', 'the', 'correct', 'way', 'to']\n",
      "Target:\n",
      "['moment', 'towards', 'the', 'end', '.', 'in', 'initial', 'drafts', 'of', 'the', 'screenplay', ',', 'gray', 'had', 'included', 'a', 'narrator', ',', 'but', 'o', \"'connor\", 'felt', 'this', 'was', 'not', 'the', 'correct', 'way', 'to', 'present'] \n",
      "\n",
      "\n",
      "================================================================================\n",
      "Sentence:\n",
      "['for', '\"', 'single', 'of', 'the', 'year', '\"', ',', 'and', 'topped', 'triple', 'j', \"'s\", 'hottest', '100', 'in', '2000', '.', 'the', 'album', 'also', 'featured', '\"', 'these', 'days', '\"', ',', 'which', 'topped', 'triple']\n",
      "Target:\n",
      "['\"', 'single', 'of', 'the', 'year', '\"', ',', 'and', 'topped', 'triple', 'j', \"'s\", 'hottest', '100', 'in', '2000', '.', 'the', 'album', 'also', 'featured', '\"', 'these', 'days', '\"', ',', 'which', 'topped', 'triple', 'j'] \n",
      "\n",
      "\n",
      "================================================================================\n",
      "Sentence:\n",
      "[',', 'for', 'a', 'fortnight', \"'s\", 'holiday', ',', 'leaving', 'their', 'son', 'at', 'home', 'with', 'his', 'nurse', '.', 'the', 'beetons', 'enjoyed', 'the', '<unk>', ',', 'although', 'on', 'the', 'days', 'it', '<unk>', ',', 'they']\n",
      "Target:\n",
      "['for', 'a', 'fortnight', \"'s\", 'holiday', ',', 'leaving', 'their', 'son', 'at', 'home', 'with', 'his', 'nurse', '.', 'the', 'beetons', 'enjoyed', 'the', '<unk>', ',', 'although', 'on', 'the', 'days', 'it', '<unk>', ',', 'they', 'stayed'] \n",
      "\n",
      "\n",
      "================================================================================\n",
      "Sentence:\n",
      "['of', 'the', 'islands', 'by', 'the', 'time', 'europeans', 'arrived', ',', 'including', 'the', '<unk>', 'and', '<unk>', 'ranges', ',', 'it', 'was', 'still', 'present', 'in', 'the', 'central', 'part', 'of', 'the', 'north', 'island', 'and', 'forested']\n",
      "Target:\n",
      "['the', 'islands', 'by', 'the', 'time', 'europeans', 'arrived', ',', 'including', 'the', '<unk>', 'and', '<unk>', 'ranges', ',', 'it', 'was', 'still', 'present', 'in', 'the', 'central', 'part', 'of', 'the', 'north', 'island', 'and', 'forested', 'parts'] \n",
      "\n",
      "\n",
      "================================================================================\n",
      "Sentence:\n",
      "['ra', '<eos>', '<unk>', 'air', 'observation', 'post', 'squadron', ',', 'ra', '(', 'ground', 'crew', 'of', 'one', 'flight', 'only', ')', '<eos>', '73rd', 'field', 'company', ',', 're', '<eos>', '280th', 'field', 'company', ',', 're', '<eos>']\n",
      "Target:\n",
      "['<eos>', '<unk>', 'air', 'observation', 'post', 'squadron', ',', 'ra', '(', 'ground', 'crew', 'of', 'one', 'flight', 'only', ')', '<eos>', '73rd', 'field', 'company', ',', 're', '<eos>', '280th', 'field', 'company', ',', 're', '<eos>', '<unk>'] \n",
      "\n",
      "\n",
      "================================================================================\n",
      "Sentence:\n",
      "['.', 'the', 'failure', 'of', 'han', 'tuozhou', \"'s\", 'aggressive', 'policies', 'led', 'to', 'his', 'demise', '.', 'on', 'december', '15', ',', '1207', ',', 'han', 'was', 'beaten', 'to', 'death', 'by', 'the', 'imperial', 'palace', 'guards']\n",
      "Target:\n",
      "['the', 'failure', 'of', 'han', 'tuozhou', \"'s\", 'aggressive', 'policies', 'led', 'to', 'his', 'demise', '.', 'on', 'december', '15', ',', '1207', ',', 'han', 'was', 'beaten', 'to', 'death', 'by', 'the', 'imperial', 'palace', 'guards', '.'] \n",
      "\n",
      "\n",
      "================================================================================\n",
      "Sentence:\n",
      "['blotched', 'with', 'reddish', 'brown', 'to', 'chestnut', 'or', 'a', 'purplish', 'red', ',', 'sometimes', 'with', 'underlying', 'markings', 'of', 'violet', 'or', 'purplish', 'grey', '.', 'the', 'clutch', 'consists', 'of', 'two', 'to', 'four', 'eggs', '.']\n",
      "Target:\n",
      "['with', 'reddish', 'brown', 'to', 'chestnut', 'or', 'a', 'purplish', 'red', ',', 'sometimes', 'with', 'underlying', 'markings', 'of', 'violet', 'or', 'purplish', 'grey', '.', 'the', 'clutch', 'consists', 'of', 'two', 'to', 'four', 'eggs', '.', 'incubation'] \n",
      "\n",
      "\n",
      "================================================================================\n",
      "Sentence:\n",
      "['were', '\"', 'tons', '\"', 'of', 'wonderful', '\"', 'kurt', 'moments', '\"', 'in', 'the', 'episode', '.', 'benigno', 'called', 'kurt', 'learning', 'to', 'embrace', 'his', '<unk>', 'yet', 'again', 'on', 'the', 'show', '\"', 'kind', 'of']\n",
      "Target:\n",
      "['\"', 'tons', '\"', 'of', 'wonderful', '\"', 'kurt', 'moments', '\"', 'in', 'the', 'episode', '.', 'benigno', 'called', 'kurt', 'learning', 'to', 'embrace', 'his', '<unk>', 'yet', 'again', 'on', 'the', 'show', '\"', 'kind', 'of', 'awkward'] \n",
      "\n",
      "\n",
      "================================================================================\n",
      "Sentence:\n",
      "['in', 'the', 'end', ',', 'and', 'the', 'water', 'pressure', 'at', 'even', '3', 'metres', '(', '9', '@.@', '8', 'ft', ')', 'would', 'be', 'too', 'great', 'for', 'the', 'lungs', 'to', 'be', 'able', 'to', '<unk>']\n",
      "Target:\n",
      "['the', 'end', ',', 'and', 'the', 'water', 'pressure', 'at', 'even', '3', 'metres', '(', '9', '@.@', '8', 'ft', ')', 'would', 'be', 'too', 'great', 'for', 'the', 'lungs', 'to', 'be', 'able', 'to', '<unk>', '.'] \n",
      "\n",
      "\n",
      "================================================================================\n",
      "Sentence:\n",
      "['(', 'ini', ')', 'and', 'was', 'replaced', 'by', 'it', '.', 'thus', '<unk>', '~', '<unk>', 'krist', '<unk>', '\"', 'christ', '\"', 'is', 'now', 'written', '<unk>', 'krist', '<unk>', '.', '<eos>', '<unk>', '(', 'vie', ')']\n",
      "Target:\n",
      "['ini', ')', 'and', 'was', 'replaced', 'by', 'it', '.', 'thus', '<unk>', '~', '<unk>', 'krist', '<unk>', '\"', 'christ', '\"', 'is', 'now', 'written', '<unk>', 'krist', '<unk>', '.', '<eos>', '<unk>', '(', 'vie', ')', 'came'] \n",
      "\n",
      "\n",
      "================================================================================\n",
      "Sentence:\n",
      "['this', 'fear', ',', 'coupled', 'with', 'the', 'frustration', 'of', 'taking', 'casualties', 'without', 'ever', 'seeing', 'the', 'enemy', 'forces', ',', 'damaged', 'morale', 'and', 'significantly', 'hampered', 'progress', '.', '<eos>', '<eos>', '=', '=', '=', '=']\n",
      "Target:\n",
      "['fear', ',', 'coupled', 'with', 'the', 'frustration', 'of', 'taking', 'casualties', 'without', 'ever', 'seeing', 'the', 'enemy', 'forces', ',', 'damaged', 'morale', 'and', 'significantly', 'hampered', 'progress', '.', '<eos>', '<eos>', '=', '=', '=', '=', 'portuguese'] \n",
      "\n",
      "\n"
     ]
    }
   ],
   "source": [
    "for text, target in zip(batch.text, batch.target):\n",
    "    tokens = [TEXT.vocab.itos[t] for t in text]\n",
    "    target = [TEXT.vocab.itos[t] for t in target]\n",
    "    print(\"=\"*80)\n",
    "    print(\"Sentence:\")\n",
    "    print(tokens)\n",
    "    print(\"Target:\")\n",
    "    print(target, \"\\n\\n\")"
   ]
  },
  {
   "cell_type": "markdown",
   "metadata": {},
   "source": [
    "We can observe that `target` is just the sentence left-shifted one position"
   ]
  }
 ],
 "metadata": {
  "kernelspec": {
   "display_name": "Python 3",
   "language": "python",
   "name": "python3"
  },
  "language_info": {
   "codemirror_mode": {
    "name": "ipython",
    "version": 3
   },
   "file_extension": ".py",
   "mimetype": "text/x-python",
   "name": "python",
   "nbconvert_exporter": "python",
   "pygments_lexer": "ipython3",
   "version": "3.6.9"
  }
 },
 "nbformat": 4,
 "nbformat_minor": 4
}
