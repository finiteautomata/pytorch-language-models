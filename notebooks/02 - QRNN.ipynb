{
 "cells": [
  {
   "cell_type": "markdown",
   "metadata": {},
   "source": [
    "## QRNN Language Model\n",
    "\n"
   ]
  },
  {
   "cell_type": "code",
   "execution_count": 1,
   "metadata": {},
   "outputs": [],
   "source": [
    "import torch\n",
    "import torchtext\n",
    "from torchtext import data\n",
    "\n",
    "TEXT = data.Field(\n",
    "    tokenizer_language='en',\n",
    "    lower=True,\n",
    "    init_token='<sos>',\n",
    "    eos_token='<eos>',\n",
    "    batch_first=True,\n",
    ")"
   ]
  },
  {
   "cell_type": "markdown",
   "metadata": {},
   "source": [
    "Now, we can load our dataset"
   ]
  },
  {
   "cell_type": "code",
   "execution_count": 2,
   "metadata": {},
   "outputs": [
    {
     "name": "stdout",
     "output_type": "stream",
     "text": [
      "We have 20490 tokens in our vocabulary\n"
     ]
    }
   ],
   "source": [
    "from torchtext.datasets import WikiText2\n",
    " \n",
    "train, valid, test = WikiText2.splits(TEXT) \n",
    "\n",
    "TEXT.build_vocab(train, vectors=\"glove.6B.300d\", min_freq=5)\n",
    "\n",
    "print(f\"We have {len(TEXT.vocab)} tokens in our vocabulary\")"
   ]
  },
  {
   "cell_type": "markdown",
   "metadata": {},
   "source": [
    "## Iterator\n"
   ]
  },
  {
   "cell_type": "code",
   "execution_count": 3,
   "metadata": {},
   "outputs": [],
   "source": [
    "device = \"cuda\" if torch.cuda.is_available() else \"cpu\"\n",
    "\n",
    "BATCH_SIZE = 32\n",
    "BPTT_LEN = 35\n",
    "\n",
    "train_iter, valid_iter, test_iter = data.BPTTIterator.splits(\n",
    "    (train, valid, test),\n",
    "    batch_size=BATCH_SIZE,\n",
    "    bptt_len=BPTT_LEN, # this is where we specify the sequence length\n",
    "    device=device,\n",
    "    repeat=False)"
   ]
  },
  {
   "cell_type": "code",
   "execution_count": 4,
   "metadata": {},
   "outputs": [
    {
     "name": "stdout",
     "output_type": "stream",
     "text": [
      "torch.Size([7, 20, 256]) torch.Size([2, 20, 256])\n"
     ]
    }
   ],
   "source": [
    "import warnings\n",
    "warnings.filterwarnings('ignore')\n",
    "\n",
    "import torch\n",
    "from torchqrnn import QRNN\n",
    "\n",
    "seq_len, batch_size, hidden_size = 7, 20, 256\n",
    "size = (seq_len, batch_size, hidden_size)\n",
    "X = torch.randn(size).to(device)\n",
    "                \n",
    "qrnn = QRNN(hidden_size, hidden_size, num_layers=2, dropout=0.4)\n",
    "qrnn = qrnn.to(device)\n",
    "output, hidden = qrnn(X)\n",
    "\n",
    "print(output.size(), hidden.size())\n"
   ]
  },
  {
   "cell_type": "code",
   "execution_count": 9,
   "metadata": {},
   "outputs": [],
   "source": [
    "# %load ../pytorch_lm/models/qrnn.py\n",
    "import torch.nn as nn\n",
    "from torchqrnn import QRNN\n",
    "\n",
    "\n",
    "class QRNNLanguageModel(nn.Module):\n",
    "    def __init__(self, vocab_size, embedding_dim, pad_idx, hidden_size,\n",
    "                 cell_class=nn.GRU, dropout=0.20, zoneout=.0):\n",
    "        super().__init__()\n",
    "\n",
    "        self.embedding = nn.Embedding(vocab_size, embedding_dim, padding_idx=PAD_IDX)\n",
    "\n",
    "        self.qrnn = QRNN(embedding_dim, hidden_size, num_layers=2, window=2, dropout=dropout, zoneout=zoneout)\n",
    "        #self.rnn = cell_class(embedding_dim, hidden_size, batch_first=True)\n",
    "\n",
    "        self.fc = nn.Linear(hidden_size, vocab_size)\n",
    "        self.dropout = nn.Dropout(dropout)\n",
    "\n",
    "    def forward(self, inp, hidden=None):\n",
    "        \"\"\"\n",
    "        Inputs are supposed to be just one step (i.e. one letter)\n",
    "        \"\"\"\n",
    "\n",
    "        # inputs = [batch_size, seqlen]\n",
    "        emb = self.embedding(inp)\n",
    "        # emb = [batch, seqlen, embedding_dim]\n",
    "        emb = emb.permute(1, 0, 2)\n",
    "        # emb = [seqlen, batch, embedding_dim]\n",
    "        outputs, hidden = self.qrnn(emb, hidden)\n",
    "        # outputs = [seqlen, batch, hidden_size]\n",
    "        outputs = outputs.permute(1, 0, 2)\n",
    "        # outputs = [batch, seqlen, hidden_size]\n",
    "\n",
    "        # hidden = [batch, hidden_dim]\n",
    "\n",
    "        out = self.fc(outputs)\n",
    "        # out = [batch, vocab size]\n",
    "\n",
    "        return out, hidden\n"
   ]
  },
  {
   "cell_type": "markdown",
   "metadata": {},
   "source": [
    "Create the Language Model"
   ]
  },
  {
   "cell_type": "code",
   "execution_count": 10,
   "metadata": {},
   "outputs": [],
   "source": [
    "\n",
    "\n",
    "PAD_IDX = TEXT.vocab.stoi[\"<pad>\"]\n",
    "UNK_IDX = TEXT.vocab.stoi[\"<unk>\"]\n",
    "EOS_IDX = TEXT.vocab.stoi[\"<eos>\"]\n",
    "SOS_IDX = TEXT.vocab.stoi[\"<sos>\"]\n"
   ]
  },
  {
   "cell_type": "markdown",
   "metadata": {},
   "source": [
    "## Training "
   ]
  },
  {
   "cell_type": "code",
   "execution_count": 11,
   "metadata": {},
   "outputs": [
    {
     "data": {
      "text/plain": [
       "tensor(9.9291, device='cuda:0', grad_fn=<NllLossBackward>)"
      ]
     },
     "execution_count": 11,
     "metadata": {},
     "output_type": "execute_result"
    }
   ],
   "source": [
    "import torch.optim as optim\n",
    "\n",
    "HIDDEN_DIM = 640\n",
    "vocab_size = TEXT.vocab.vectors.shape[0]\n",
    "embedding_dim = TEXT.vocab.vectors.shape[1]\n",
    "\n",
    "model_path = \"/tmp/qrnn_lang_model.pt\"\n",
    "\n",
    "model = QRNNLanguageModel(\n",
    "    vocab_size, embedding_dim, dropout=0.1, zoneout=0.1,\n",
    "    hidden_size=HIDDEN_DIM, pad_idx=PAD_IDX)\n",
    "\n",
    "# Set weight for UNK to a random normal\n",
    "model.embedding.weight.data.copy_(TEXT.vocab.vectors)\n",
    "model.embedding.weight.data[UNK_IDX] = torch.randn(embedding_dim)\n",
    "\n",
    "\n",
    "optimizer = optim.SGD(model.parameters(), lr=1)\n",
    "criterion = nn.CrossEntropyLoss()\n",
    "\n",
    "lr_scheduler = optim.lr_scheduler.ReduceLROnPlateau(optimizer, 'min', patience=4, threshold=0.0001)\n",
    "\n",
    "model = model.to(device)\n",
    "criterion = criterion.to(device)\n",
    "\n",
    "\n",
    "## An example of calculating the loss\n",
    "batch = next(iter(train_iter))\n",
    "\n",
    "preds, _ = model(batch.text)\n",
    "preds = preds.view(-1, preds.shape[-1])\n",
    "\n",
    "\n",
    "trg = batch.target.view(-1)\n",
    "criterion(preds, trg)"
   ]
  },
  {
   "cell_type": "code",
   "execution_count": null,
   "metadata": {},
   "outputs": [
    {
     "data": {
      "application/vnd.jupyter.widget-view+json": {
       "model_id": "cf9deab5a8a6435fa8cf871c8e226633",
       "version_major": 2,
       "version_minor": 0
      },
      "text/plain": [
       "HBox(children=(FloatProgress(value=0.0, layout=Layout(flex='2'), max=200.0), HTML(value='')), layout=Layout(di…"
      ]
     },
     "metadata": {},
     "output_type": "display_data"
    },
    {
     "data": {
      "application/vnd.jupyter.widget-view+json": {
       "model_id": "c0249b51a1064646bbdc1481f3b49639",
       "version_major": 2,
       "version_minor": 0
      },
      "text/plain": [
       "HBox(children=(FloatProgress(value=0.0, layout=Layout(flex='2'), max=1865.0), HTML(value='')), layout=Layout(d…"
      ]
     },
     "metadata": {},
     "output_type": "display_data"
    },
    {
     "name": "stdout",
     "output_type": "stream",
     "text": [
      "\n",
      "Best model so far (Loss 6.04470 Perp 421.87) saved at /tmp/qrnn_lang_model.pt\n"
     ]
    },
    {
     "data": {
      "application/vnd.jupyter.widget-view+json": {
       "model_id": "acd4d0e06e8247d99ed8bed3581b2ae1",
       "version_major": 2,
       "version_minor": 0
      },
      "text/plain": [
       "HBox(children=(FloatProgress(value=0.0, layout=Layout(flex='2'), max=1865.0), HTML(value='')), layout=Layout(d…"
      ]
     },
     "metadata": {},
     "output_type": "display_data"
    },
    {
     "name": "stdout",
     "output_type": "stream",
     "text": [
      "\n",
      "Best model so far (Loss 5.73090 Perp 308.25) saved at /tmp/qrnn_lang_model.pt\n"
     ]
    },
    {
     "data": {
      "application/vnd.jupyter.widget-view+json": {
       "model_id": "5bcf081895794c85abf91eecb19d6769",
       "version_major": 2,
       "version_minor": 0
      },
      "text/plain": [
       "HBox(children=(FloatProgress(value=0.0, layout=Layout(flex='2'), max=1865.0), HTML(value='')), layout=Layout(d…"
      ]
     },
     "metadata": {},
     "output_type": "display_data"
    },
    {
     "name": "stdout",
     "output_type": "stream",
     "text": [
      "\n",
      "Best model so far (Loss 5.57417 Perp 263.53) saved at /tmp/qrnn_lang_model.pt\n"
     ]
    },
    {
     "data": {
      "application/vnd.jupyter.widget-view+json": {
       "model_id": "8d9c93fff24b4982bdc8f66e91e857cf",
       "version_major": 2,
       "version_minor": 0
      },
      "text/plain": [
       "HBox(children=(FloatProgress(value=0.0, layout=Layout(flex='2'), max=1865.0), HTML(value='')), layout=Layout(d…"
      ]
     },
     "metadata": {},
     "output_type": "display_data"
    },
    {
     "name": "stdout",
     "output_type": "stream",
     "text": [
      "\n",
      "Best model so far (Loss 5.45870 Perp 234.79) saved at /tmp/qrnn_lang_model.pt\n"
     ]
    },
    {
     "data": {
      "application/vnd.jupyter.widget-view+json": {
       "model_id": "f29bd8db73ab4718978a9a6dd697f308",
       "version_major": 2,
       "version_minor": 0
      },
      "text/plain": [
       "HBox(children=(FloatProgress(value=0.0, layout=Layout(flex='2'), max=1865.0), HTML(value='')), layout=Layout(d…"
      ]
     },
     "metadata": {},
     "output_type": "display_data"
    },
    {
     "name": "stdout",
     "output_type": "stream",
     "text": [
      "\n",
      "Best model so far (Loss 5.35891 Perp 212.49) saved at /tmp/qrnn_lang_model.pt\n"
     ]
    },
    {
     "data": {
      "application/vnd.jupyter.widget-view+json": {
       "model_id": "6313f029a87b4997aa7e5e0e3d3eb4c9",
       "version_major": 2,
       "version_minor": 0
      },
      "text/plain": [
       "HBox(children=(FloatProgress(value=0.0, layout=Layout(flex='2'), max=1865.0), HTML(value='')), layout=Layout(d…"
      ]
     },
     "metadata": {},
     "output_type": "display_data"
    },
    {
     "name": "stdout",
     "output_type": "stream",
     "text": [
      "\n",
      "Best model so far (Loss 5.29066 Perp 198.47) saved at /tmp/qrnn_lang_model.pt\n"
     ]
    },
    {
     "data": {
      "application/vnd.jupyter.widget-view+json": {
       "model_id": "d6b557f2613d4b9cb1e5d41d8af5986c",
       "version_major": 2,
       "version_minor": 0
      },
      "text/plain": [
       "HBox(children=(FloatProgress(value=0.0, layout=Layout(flex='2'), max=1865.0), HTML(value='')), layout=Layout(d…"
      ]
     },
     "metadata": {},
     "output_type": "display_data"
    },
    {
     "name": "stdout",
     "output_type": "stream",
     "text": [
      "\n",
      "Best model so far (Loss 5.22954 Perp 186.71) saved at /tmp/qrnn_lang_model.pt\n"
     ]
    },
    {
     "data": {
      "application/vnd.jupyter.widget-view+json": {
       "model_id": "61d091479f2d49d684b170a784c99241",
       "version_major": 2,
       "version_minor": 0
      },
      "text/plain": [
       "HBox(children=(FloatProgress(value=0.0, layout=Layout(flex='2'), max=1865.0), HTML(value='')), layout=Layout(d…"
      ]
     },
     "metadata": {},
     "output_type": "display_data"
    },
    {
     "name": "stdout",
     "output_type": "stream",
     "text": [
      "\n",
      "Best model so far (Loss 5.19511 Perp 180.39) saved at /tmp/qrnn_lang_model.pt\n"
     ]
    },
    {
     "data": {
      "application/vnd.jupyter.widget-view+json": {
       "model_id": "b9b67ab5f4514e3aa4b2f07783700237",
       "version_major": 2,
       "version_minor": 0
      },
      "text/plain": [
       "HBox(children=(FloatProgress(value=0.0, layout=Layout(flex='2'), max=1865.0), HTML(value='')), layout=Layout(d…"
      ]
     },
     "metadata": {},
     "output_type": "display_data"
    },
    {
     "name": "stdout",
     "output_type": "stream",
     "text": [
      "\n",
      "Best model so far (Loss 5.17795 Perp 177.32) saved at /tmp/qrnn_lang_model.pt\n"
     ]
    },
    {
     "data": {
      "application/vnd.jupyter.widget-view+json": {
       "model_id": "f6d1c23fc72e4727a5096d719eab5d6c",
       "version_major": 2,
       "version_minor": 0
      },
      "text/plain": [
       "HBox(children=(FloatProgress(value=0.0, layout=Layout(flex='2'), max=1865.0), HTML(value='')), layout=Layout(d…"
      ]
     },
     "metadata": {},
     "output_type": "display_data"
    },
    {
     "name": "stdout",
     "output_type": "stream",
     "text": [
      "\n",
      "Best model so far (Loss 5.13096 Perp 169.18) saved at /tmp/qrnn_lang_model.pt\n"
     ]
    },
    {
     "data": {
      "application/vnd.jupyter.widget-view+json": {
       "model_id": "7e837f2cddb74d8d9ac442511c10c54d",
       "version_major": 2,
       "version_minor": 0
      },
      "text/plain": [
       "HBox(children=(FloatProgress(value=0.0, layout=Layout(flex='2'), max=1865.0), HTML(value='')), layout=Layout(d…"
      ]
     },
     "metadata": {},
     "output_type": "display_data"
    },
    {
     "name": "stdout",
     "output_type": "stream",
     "text": [
      "\n",
      "Best model so far (Loss 5.10032 Perp 164.07) saved at /tmp/qrnn_lang_model.pt\n"
     ]
    },
    {
     "data": {
      "application/vnd.jupyter.widget-view+json": {
       "model_id": "866bd457dc064f21978736c6654d4422",
       "version_major": 2,
       "version_minor": 0
      },
      "text/plain": [
       "HBox(children=(FloatProgress(value=0.0, layout=Layout(flex='2'), max=1865.0), HTML(value='')), layout=Layout(d…"
      ]
     },
     "metadata": {},
     "output_type": "display_data"
    },
    {
     "name": "stdout",
     "output_type": "stream",
     "text": [
      "\n",
      "Best model so far (Loss 5.05902 Perp 157.44) saved at /tmp/qrnn_lang_model.pt\n"
     ]
    },
    {
     "data": {
      "application/vnd.jupyter.widget-view+json": {
       "model_id": "6a7eb6643d3b45649987b09dc1babbc7",
       "version_major": 2,
       "version_minor": 0
      },
      "text/plain": [
       "HBox(children=(FloatProgress(value=0.0, layout=Layout(flex='2'), max=1865.0), HTML(value='')), layout=Layout(d…"
      ]
     },
     "metadata": {},
     "output_type": "display_data"
    },
    {
     "name": "stdout",
     "output_type": "stream",
     "text": [
      "\n",
      "Best model so far (Loss 5.02204 Perp 151.72) saved at /tmp/qrnn_lang_model.pt\n"
     ]
    },
    {
     "data": {
      "application/vnd.jupyter.widget-view+json": {
       "model_id": "56780400240a4f7c9b9fa15fe402f3e8",
       "version_major": 2,
       "version_minor": 0
      },
      "text/plain": [
       "HBox(children=(FloatProgress(value=0.0, layout=Layout(flex='2'), max=1865.0), HTML(value='')), layout=Layout(d…"
      ]
     },
     "metadata": {},
     "output_type": "display_data"
    },
    {
     "name": "stdout",
     "output_type": "stream",
     "text": [
      "\n"
     ]
    },
    {
     "data": {
      "application/vnd.jupyter.widget-view+json": {
       "model_id": "38e166df1bdc48efa3ebe45e4efd0633",
       "version_major": 2,
       "version_minor": 0
      },
      "text/plain": [
       "HBox(children=(FloatProgress(value=0.0, layout=Layout(flex='2'), max=1865.0), HTML(value='')), layout=Layout(d…"
      ]
     },
     "metadata": {},
     "output_type": "display_data"
    },
    {
     "name": "stdout",
     "output_type": "stream",
     "text": [
      "\n"
     ]
    },
    {
     "data": {
      "application/vnd.jupyter.widget-view+json": {
       "model_id": "acb0937452de42dd953509effe75b2cf",
       "version_major": 2,
       "version_minor": 0
      },
      "text/plain": [
       "HBox(children=(FloatProgress(value=0.0, layout=Layout(flex='2'), max=1865.0), HTML(value='')), layout=Layout(d…"
      ]
     },
     "metadata": {},
     "output_type": "display_data"
    },
    {
     "name": "stdout",
     "output_type": "stream",
     "text": [
      "\n",
      "Best model so far (Loss 5.01720 Perp 150.99) saved at /tmp/qrnn_lang_model.pt\n"
     ]
    },
    {
     "data": {
      "application/vnd.jupyter.widget-view+json": {
       "model_id": "fab4005c89d34359aebdb45c94d517df",
       "version_major": 2,
       "version_minor": 0
      },
      "text/plain": [
       "HBox(children=(FloatProgress(value=0.0, layout=Layout(flex='2'), max=1865.0), HTML(value='')), layout=Layout(d…"
      ]
     },
     "metadata": {},
     "output_type": "display_data"
    },
    {
     "name": "stdout",
     "output_type": "stream",
     "text": [
      "\n",
      "Best model so far (Loss 5.00438 Perp 149.07) saved at /tmp/qrnn_lang_model.pt\n"
     ]
    },
    {
     "data": {
      "application/vnd.jupyter.widget-view+json": {
       "model_id": "623ca96d506d4fd995ff39b7381f9f14",
       "version_major": 2,
       "version_minor": 0
      },
      "text/plain": [
       "HBox(children=(FloatProgress(value=0.0, layout=Layout(flex='2'), max=1865.0), HTML(value='')), layout=Layout(d…"
      ]
     },
     "metadata": {},
     "output_type": "display_data"
    },
    {
     "name": "stdout",
     "output_type": "stream",
     "text": [
      "\n",
      "Best model so far (Loss 4.95341 Perp 141.66) saved at /tmp/qrnn_lang_model.pt\n"
     ]
    },
    {
     "data": {
      "application/vnd.jupyter.widget-view+json": {
       "model_id": "4b125b7b4a5b47048968b6f9ca04eea2",
       "version_major": 2,
       "version_minor": 0
      },
      "text/plain": [
       "HBox(children=(FloatProgress(value=0.0, layout=Layout(flex='2'), max=1865.0), HTML(value='')), layout=Layout(d…"
      ]
     },
     "metadata": {},
     "output_type": "display_data"
    },
    {
     "name": "stdout",
     "output_type": "stream",
     "text": [
      "\n"
     ]
    },
    {
     "data": {
      "application/vnd.jupyter.widget-view+json": {
       "model_id": "6a3b558e7f1d4ac39f2ccad61bbae19e",
       "version_major": 2,
       "version_minor": 0
      },
      "text/plain": [
       "HBox(children=(FloatProgress(value=0.0, layout=Layout(flex='2'), max=1865.0), HTML(value='')), layout=Layout(d…"
      ]
     },
     "metadata": {},
     "output_type": "display_data"
    },
    {
     "name": "stdout",
     "output_type": "stream",
     "text": [
      "\n",
      "Best model so far (Loss 4.92158 Perp 137.22) saved at /tmp/qrnn_lang_model.pt\n"
     ]
    },
    {
     "data": {
      "application/vnd.jupyter.widget-view+json": {
       "model_id": "f5aa3434f7ec45919edce1cb9fa33ac3",
       "version_major": 2,
       "version_minor": 0
      },
      "text/plain": [
       "HBox(children=(FloatProgress(value=0.0, layout=Layout(flex='2'), max=1865.0), HTML(value='')), layout=Layout(d…"
      ]
     },
     "metadata": {},
     "output_type": "display_data"
    },
    {
     "name": "stdout",
     "output_type": "stream",
     "text": [
      "\n"
     ]
    },
    {
     "data": {
      "application/vnd.jupyter.widget-view+json": {
       "model_id": "53d7247b7f0e46059e2981b74ac15407",
       "version_major": 2,
       "version_minor": 0
      },
      "text/plain": [
       "HBox(children=(FloatProgress(value=0.0, layout=Layout(flex='2'), max=1865.0), HTML(value='')), layout=Layout(d…"
      ]
     },
     "metadata": {},
     "output_type": "display_data"
    },
    {
     "name": "stdout",
     "output_type": "stream",
     "text": [
      "\n",
      "Best model so far (Loss 4.90667 Perp 135.19) saved at /tmp/qrnn_lang_model.pt\n"
     ]
    },
    {
     "data": {
      "application/vnd.jupyter.widget-view+json": {
       "model_id": "073d6b62e6d1402391ba278d67c31360",
       "version_major": 2,
       "version_minor": 0
      },
      "text/plain": [
       "HBox(children=(FloatProgress(value=0.0, layout=Layout(flex='2'), max=1865.0), HTML(value='')), layout=Layout(d…"
      ]
     },
     "metadata": {},
     "output_type": "display_data"
    },
    {
     "name": "stdout",
     "output_type": "stream",
     "text": [
      "\n",
      "Best model so far (Loss 4.89505 Perp 133.63) saved at /tmp/qrnn_lang_model.pt\n"
     ]
    },
    {
     "data": {
      "application/vnd.jupyter.widget-view+json": {
       "model_id": "b38fd36ea3a24737bfc05d53a6a71a99",
       "version_major": 2,
       "version_minor": 0
      },
      "text/plain": [
       "HBox(children=(FloatProgress(value=0.0, layout=Layout(flex='2'), max=1865.0), HTML(value='')), layout=Layout(d…"
      ]
     },
     "metadata": {},
     "output_type": "display_data"
    },
    {
     "name": "stdout",
     "output_type": "stream",
     "text": [
      "\n"
     ]
    },
    {
     "data": {
      "application/vnd.jupyter.widget-view+json": {
       "model_id": "07a248e70e63455d8a9eb37fa283e258",
       "version_major": 2,
       "version_minor": 0
      },
      "text/plain": [
       "HBox(children=(FloatProgress(value=0.0, layout=Layout(flex='2'), max=1865.0), HTML(value='')), layout=Layout(d…"
      ]
     },
     "metadata": {},
     "output_type": "display_data"
    },
    {
     "name": "stdout",
     "output_type": "stream",
     "text": [
      "\n",
      "Best model so far (Loss 4.88546 Perp 132.35) saved at /tmp/qrnn_lang_model.pt\n"
     ]
    },
    {
     "data": {
      "application/vnd.jupyter.widget-view+json": {
       "model_id": "d9b4482f9887490d821ce2e7a6ed1f4c",
       "version_major": 2,
       "version_minor": 0
      },
      "text/plain": [
       "HBox(children=(FloatProgress(value=0.0, layout=Layout(flex='2'), max=1865.0), HTML(value='')), layout=Layout(d…"
      ]
     },
     "metadata": {},
     "output_type": "display_data"
    },
    {
     "name": "stdout",
     "output_type": "stream",
     "text": [
      "\n"
     ]
    },
    {
     "data": {
      "application/vnd.jupyter.widget-view+json": {
       "model_id": "149fecafca494931abfcadfa6a1cbf1f",
       "version_major": 2,
       "version_minor": 0
      },
      "text/plain": [
       "HBox(children=(FloatProgress(value=0.0, layout=Layout(flex='2'), max=1865.0), HTML(value='')), layout=Layout(d…"
      ]
     },
     "metadata": {},
     "output_type": "display_data"
    },
    {
     "name": "stdout",
     "output_type": "stream",
     "text": [
      "\n"
     ]
    },
    {
     "data": {
      "application/vnd.jupyter.widget-view+json": {
       "model_id": "007f1240aab24aaab9a6156b641a47e0",
       "version_major": 2,
       "version_minor": 0
      },
      "text/plain": [
       "HBox(children=(FloatProgress(value=0.0, layout=Layout(flex='2'), max=1865.0), HTML(value='')), layout=Layout(d…"
      ]
     },
     "metadata": {},
     "output_type": "display_data"
    },
    {
     "name": "stdout",
     "output_type": "stream",
     "text": [
      "\n"
     ]
    },
    {
     "data": {
      "application/vnd.jupyter.widget-view+json": {
       "model_id": "fe41bceec86e431eb9787e323b01eb1c",
       "version_major": 2,
       "version_minor": 0
      },
      "text/plain": [
       "HBox(children=(FloatProgress(value=0.0, layout=Layout(flex='2'), max=1865.0), HTML(value='')), layout=Layout(d…"
      ]
     },
     "metadata": {},
     "output_type": "display_data"
    },
    {
     "name": "stdout",
     "output_type": "stream",
     "text": [
      "\n",
      "Best model so far (Loss 4.87038 Perp 130.37) saved at /tmp/qrnn_lang_model.pt\n"
     ]
    },
    {
     "data": {
      "application/vnd.jupyter.widget-view+json": {
       "model_id": "78b6c532aa6743568dd1b45637bf2ca3",
       "version_major": 2,
       "version_minor": 0
      },
      "text/plain": [
       "HBox(children=(FloatProgress(value=0.0, layout=Layout(flex='2'), max=1865.0), HTML(value='')), layout=Layout(d…"
      ]
     },
     "metadata": {},
     "output_type": "display_data"
    },
    {
     "name": "stdout",
     "output_type": "stream",
     "text": [
      "\n",
      "Best model so far (Loss 4.86217 Perp 129.30) saved at /tmp/qrnn_lang_model.pt\n"
     ]
    },
    {
     "data": {
      "application/vnd.jupyter.widget-view+json": {
       "model_id": "bdec430b99b846b384e0d5788d8a280f",
       "version_major": 2,
       "version_minor": 0
      },
      "text/plain": [
       "HBox(children=(FloatProgress(value=0.0, layout=Layout(flex='2'), max=1865.0), HTML(value='')), layout=Layout(d…"
      ]
     },
     "metadata": {},
     "output_type": "display_data"
    },
    {
     "name": "stdout",
     "output_type": "stream",
     "text": [
      "\n",
      "Best model so far (Loss 4.86178 Perp 129.25) saved at /tmp/qrnn_lang_model.pt\n"
     ]
    },
    {
     "data": {
      "application/vnd.jupyter.widget-view+json": {
       "model_id": "446fdd4132ca4adb890c332dd2170354",
       "version_major": 2,
       "version_minor": 0
      },
      "text/plain": [
       "HBox(children=(FloatProgress(value=0.0, layout=Layout(flex='2'), max=1865.0), HTML(value='')), layout=Layout(d…"
      ]
     },
     "metadata": {},
     "output_type": "display_data"
    },
    {
     "name": "stdout",
     "output_type": "stream",
     "text": [
      "\n",
      "Best model so far (Loss 4.85390 Perp 128.24) saved at /tmp/qrnn_lang_model.pt\n"
     ]
    },
    {
     "data": {
      "application/vnd.jupyter.widget-view+json": {
       "model_id": "06488e0e616e47bb81e32bdefb7126ad",
       "version_major": 2,
       "version_minor": 0
      },
      "text/plain": [
       "HBox(children=(FloatProgress(value=0.0, layout=Layout(flex='2'), max=1865.0), HTML(value='')), layout=Layout(d…"
      ]
     },
     "metadata": {},
     "output_type": "display_data"
    },
    {
     "name": "stdout",
     "output_type": "stream",
     "text": [
      "\n",
      "Best model so far (Loss 4.84434 Perp 127.02) saved at /tmp/qrnn_lang_model.pt\n"
     ]
    },
    {
     "data": {
      "application/vnd.jupyter.widget-view+json": {
       "model_id": "45372e212dae42a099a330ae0cccdfaa",
       "version_major": 2,
       "version_minor": 0
      },
      "text/plain": [
       "HBox(children=(FloatProgress(value=0.0, layout=Layout(flex='2'), max=1865.0), HTML(value='')), layout=Layout(d…"
      ]
     },
     "metadata": {},
     "output_type": "display_data"
    },
    {
     "name": "stdout",
     "output_type": "stream",
     "text": [
      "\n",
      "Best model so far (Loss 4.84073 Perp 126.56) saved at /tmp/qrnn_lang_model.pt\n"
     ]
    },
    {
     "data": {
      "application/vnd.jupyter.widget-view+json": {
       "model_id": "93a02f5e50b546eda0d0835c4cdfc8d2",
       "version_major": 2,
       "version_minor": 0
      },
      "text/plain": [
       "HBox(children=(FloatProgress(value=0.0, layout=Layout(flex='2'), max=1865.0), HTML(value='')), layout=Layout(d…"
      ]
     },
     "metadata": {},
     "output_type": "display_data"
    },
    {
     "name": "stdout",
     "output_type": "stream",
     "text": [
      "\n"
     ]
    },
    {
     "data": {
      "application/vnd.jupyter.widget-view+json": {
       "model_id": "9b69722341704c31b33789786b6a6fb9",
       "version_major": 2,
       "version_minor": 0
      },
      "text/plain": [
       "HBox(children=(FloatProgress(value=0.0, layout=Layout(flex='2'), max=1865.0), HTML(value='')), layout=Layout(d…"
      ]
     },
     "metadata": {},
     "output_type": "display_data"
    },
    {
     "name": "stdout",
     "output_type": "stream",
     "text": [
      "\n"
     ]
    },
    {
     "data": {
      "application/vnd.jupyter.widget-view+json": {
       "model_id": "7ba34021c39c42eab07b89cc311cf537",
       "version_major": 2,
       "version_minor": 0
      },
      "text/plain": [
       "HBox(children=(FloatProgress(value=0.0, layout=Layout(flex='2'), max=1865.0), HTML(value='')), layout=Layout(d…"
      ]
     },
     "metadata": {},
     "output_type": "display_data"
    },
    {
     "name": "stdout",
     "output_type": "stream",
     "text": [
      "\n"
     ]
    },
    {
     "data": {
      "application/vnd.jupyter.widget-view+json": {
       "model_id": "8bc5b6158fdb46398044f238a2a0f138",
       "version_major": 2,
       "version_minor": 0
      },
      "text/plain": [
       "HBox(children=(FloatProgress(value=0.0, layout=Layout(flex='2'), max=1865.0), HTML(value='')), layout=Layout(d…"
      ]
     },
     "metadata": {},
     "output_type": "display_data"
    },
    {
     "name": "stdout",
     "output_type": "stream",
     "text": [
      "\n",
      "Best model so far (Loss 4.83316 Perp 125.61) saved at /tmp/qrnn_lang_model.pt\n"
     ]
    },
    {
     "data": {
      "application/vnd.jupyter.widget-view+json": {
       "model_id": "7cf81d2434c946699e3e1e6991c89734",
       "version_major": 2,
       "version_minor": 0
      },
      "text/plain": [
       "HBox(children=(FloatProgress(value=0.0, layout=Layout(flex='2'), max=1865.0), HTML(value='')), layout=Layout(d…"
      ]
     },
     "metadata": {},
     "output_type": "display_data"
    },
    {
     "name": "stdout",
     "output_type": "stream",
     "text": [
      "\n"
     ]
    },
    {
     "data": {
      "application/vnd.jupyter.widget-view+json": {
       "model_id": "ff8fb8c128e24762be068702d9043147",
       "version_major": 2,
       "version_minor": 0
      },
      "text/plain": [
       "HBox(children=(FloatProgress(value=0.0, layout=Layout(flex='2'), max=1865.0), HTML(value='')), layout=Layout(d…"
      ]
     },
     "metadata": {},
     "output_type": "display_data"
    },
    {
     "name": "stdout",
     "output_type": "stream",
     "text": [
      "\n"
     ]
    },
    {
     "data": {
      "application/vnd.jupyter.widget-view+json": {
       "model_id": "b608a59d23944892a7bbaf14bf29bfb5",
       "version_major": 2,
       "version_minor": 0
      },
      "text/plain": [
       "HBox(children=(FloatProgress(value=0.0, layout=Layout(flex='2'), max=1865.0), HTML(value='')), layout=Layout(d…"
      ]
     },
     "metadata": {},
     "output_type": "display_data"
    },
    {
     "name": "stdout",
     "output_type": "stream",
     "text": [
      "\n",
      "Best model so far (Loss 4.83241 Perp 125.51) saved at /tmp/qrnn_lang_model.pt\n"
     ]
    },
    {
     "data": {
      "application/vnd.jupyter.widget-view+json": {
       "model_id": "da668305514d41b7ae22de8da1297602",
       "version_major": 2,
       "version_minor": 0
      },
      "text/plain": [
       "HBox(children=(FloatProgress(value=0.0, layout=Layout(flex='2'), max=1865.0), HTML(value='')), layout=Layout(d…"
      ]
     },
     "metadata": {},
     "output_type": "display_data"
    },
    {
     "name": "stdout",
     "output_type": "stream",
     "text": [
      "\n"
     ]
    },
    {
     "data": {
      "application/vnd.jupyter.widget-view+json": {
       "model_id": "dd451461683b4551adc2a16dd1bc9f8b",
       "version_major": 2,
       "version_minor": 0
      },
      "text/plain": [
       "HBox(children=(FloatProgress(value=0.0, layout=Layout(flex='2'), max=1865.0), HTML(value='')), layout=Layout(d…"
      ]
     },
     "metadata": {},
     "output_type": "display_data"
    },
    {
     "name": "stdout",
     "output_type": "stream",
     "text": [
      "\n"
     ]
    },
    {
     "data": {
      "application/vnd.jupyter.widget-view+json": {
       "model_id": "4c0ef7fdaee84bbbbe5c7933be89723a",
       "version_major": 2,
       "version_minor": 0
      },
      "text/plain": [
       "HBox(children=(FloatProgress(value=0.0, layout=Layout(flex='2'), max=1865.0), HTML(value='')), layout=Layout(d…"
      ]
     },
     "metadata": {},
     "output_type": "display_data"
    },
    {
     "name": "stdout",
     "output_type": "stream",
     "text": [
      "\n",
      "Best model so far (Loss 4.82954 Perp 125.15) saved at /tmp/qrnn_lang_model.pt\n"
     ]
    },
    {
     "data": {
      "application/vnd.jupyter.widget-view+json": {
       "model_id": "b4d49e93c7034ddc8abf332070d15b2f",
       "version_major": 2,
       "version_minor": 0
      },
      "text/plain": [
       "HBox(children=(FloatProgress(value=0.0, layout=Layout(flex='2'), max=1865.0), HTML(value='')), layout=Layout(d…"
      ]
     },
     "metadata": {},
     "output_type": "display_data"
    },
    {
     "name": "stdout",
     "output_type": "stream",
     "text": [
      "\n"
     ]
    },
    {
     "data": {
      "application/vnd.jupyter.widget-view+json": {
       "model_id": "2942c7c86a5348edb286c29032851678",
       "version_major": 2,
       "version_minor": 0
      },
      "text/plain": [
       "HBox(children=(FloatProgress(value=0.0, layout=Layout(flex='2'), max=1865.0), HTML(value='')), layout=Layout(d…"
      ]
     },
     "metadata": {},
     "output_type": "display_data"
    },
    {
     "name": "stdout",
     "output_type": "stream",
     "text": [
      "\n"
     ]
    },
    {
     "data": {
      "application/vnd.jupyter.widget-view+json": {
       "model_id": "df56cac52e264414add4a89eb4a9af08",
       "version_major": 2,
       "version_minor": 0
      },
      "text/plain": [
       "HBox(children=(FloatProgress(value=0.0, layout=Layout(flex='2'), max=1865.0), HTML(value='')), layout=Layout(d…"
      ]
     },
     "metadata": {},
     "output_type": "display_data"
    },
    {
     "name": "stdout",
     "output_type": "stream",
     "text": [
      "\n",
      "Best model so far (Loss 4.82718 Perp 124.86) saved at /tmp/qrnn_lang_model.pt\n"
     ]
    },
    {
     "data": {
      "application/vnd.jupyter.widget-view+json": {
       "model_id": "abd16ecb2d4048ef82e88d2eaf831d61",
       "version_major": 2,
       "version_minor": 0
      },
      "text/plain": [
       "HBox(children=(FloatProgress(value=0.0, layout=Layout(flex='2'), max=1865.0), HTML(value='')), layout=Layout(d…"
      ]
     },
     "metadata": {},
     "output_type": "display_data"
    },
    {
     "name": "stdout",
     "output_type": "stream",
     "text": [
      "\n",
      "Best model so far (Loss 4.81939 Perp 123.89) saved at /tmp/qrnn_lang_model.pt\n"
     ]
    },
    {
     "data": {
      "application/vnd.jupyter.widget-view+json": {
       "model_id": "fab817bd266f4ce8b85f8d0220b103e9",
       "version_major": 2,
       "version_minor": 0
      },
      "text/plain": [
       "HBox(children=(FloatProgress(value=0.0, layout=Layout(flex='2'), max=1865.0), HTML(value='')), layout=Layout(d…"
      ]
     },
     "metadata": {},
     "output_type": "display_data"
    },
    {
     "name": "stdout",
     "output_type": "stream",
     "text": [
      "\n"
     ]
    },
    {
     "data": {
      "application/vnd.jupyter.widget-view+json": {
       "model_id": "7544ecb849324a93b4eed572e764d5e4",
       "version_major": 2,
       "version_minor": 0
      },
      "text/plain": [
       "HBox(children=(FloatProgress(value=0.0, layout=Layout(flex='2'), max=1865.0), HTML(value='')), layout=Layout(d…"
      ]
     },
     "metadata": {},
     "output_type": "display_data"
    },
    {
     "name": "stdout",
     "output_type": "stream",
     "text": [
      "\n"
     ]
    },
    {
     "data": {
      "application/vnd.jupyter.widget-view+json": {
       "model_id": "ccfefedfa6bd423887f9edb797248bfe",
       "version_major": 2,
       "version_minor": 0
      },
      "text/plain": [
       "HBox(children=(FloatProgress(value=0.0, layout=Layout(flex='2'), max=1865.0), HTML(value='')), layout=Layout(d…"
      ]
     },
     "metadata": {},
     "output_type": "display_data"
    },
    {
     "name": "stdout",
     "output_type": "stream",
     "text": [
      "\n"
     ]
    },
    {
     "data": {
      "application/vnd.jupyter.widget-view+json": {
       "model_id": "58a567f63d2347999a75205639797ba6",
       "version_major": 2,
       "version_minor": 0
      },
      "text/plain": [
       "HBox(children=(FloatProgress(value=0.0, layout=Layout(flex='2'), max=1865.0), HTML(value='')), layout=Layout(d…"
      ]
     },
     "metadata": {},
     "output_type": "display_data"
    },
    {
     "name": "stdout",
     "output_type": "stream",
     "text": [
      "\n"
     ]
    },
    {
     "data": {
      "application/vnd.jupyter.widget-view+json": {
       "model_id": "db443bbd62c049bcb208984bb2a96244",
       "version_major": 2,
       "version_minor": 0
      },
      "text/plain": [
       "HBox(children=(FloatProgress(value=0.0, layout=Layout(flex='2'), max=1865.0), HTML(value='')), layout=Layout(d…"
      ]
     },
     "metadata": {},
     "output_type": "display_data"
    },
    {
     "name": "stdout",
     "output_type": "stream",
     "text": [
      "\n"
     ]
    },
    {
     "data": {
      "application/vnd.jupyter.widget-view+json": {
       "model_id": "42b20aaf1ef54232b6736d1d8f15f377",
       "version_major": 2,
       "version_minor": 0
      },
      "text/plain": [
       "HBox(children=(FloatProgress(value=0.0, layout=Layout(flex='2'), max=1865.0), HTML(value='')), layout=Layout(d…"
      ]
     },
     "metadata": {},
     "output_type": "display_data"
    },
    {
     "name": "stdout",
     "output_type": "stream",
     "text": [
      "\n",
      "Best model so far (Loss 4.78076 Perp 119.19) saved at /tmp/qrnn_lang_model.pt\n"
     ]
    },
    {
     "data": {
      "application/vnd.jupyter.widget-view+json": {
       "model_id": "813c3b1b488e471480c1f07a81d9bd32",
       "version_major": 2,
       "version_minor": 0
      },
      "text/plain": [
       "HBox(children=(FloatProgress(value=0.0, layout=Layout(flex='2'), max=1865.0), HTML(value='')), layout=Layout(d…"
      ]
     },
     "metadata": {},
     "output_type": "display_data"
    },
    {
     "name": "stdout",
     "output_type": "stream",
     "text": [
      "\n",
      "Best model so far (Loss 4.77826 Perp 118.90) saved at /tmp/qrnn_lang_model.pt\n"
     ]
    },
    {
     "data": {
      "application/vnd.jupyter.widget-view+json": {
       "model_id": "b91dda92fa4c47e99a829bd00efdd7aa",
       "version_major": 2,
       "version_minor": 0
      },
      "text/plain": [
       "HBox(children=(FloatProgress(value=0.0, layout=Layout(flex='2'), max=1865.0), HTML(value='')), layout=Layout(d…"
      ]
     },
     "metadata": {},
     "output_type": "display_data"
    },
    {
     "name": "stdout",
     "output_type": "stream",
     "text": [
      "\n",
      "Best model so far (Loss 4.77692 Perp 118.74) saved at /tmp/qrnn_lang_model.pt\n"
     ]
    },
    {
     "data": {
      "application/vnd.jupyter.widget-view+json": {
       "model_id": "21529c47ec19436b9a5757c3506182ff",
       "version_major": 2,
       "version_minor": 0
      },
      "text/plain": [
       "HBox(children=(FloatProgress(value=0.0, layout=Layout(flex='2'), max=1865.0), HTML(value='')), layout=Layout(d…"
      ]
     },
     "metadata": {},
     "output_type": "display_data"
    },
    {
     "name": "stdout",
     "output_type": "stream",
     "text": [
      "\n",
      "Best model so far (Loss 4.77524 Perp 118.54) saved at /tmp/qrnn_lang_model.pt\n"
     ]
    },
    {
     "data": {
      "application/vnd.jupyter.widget-view+json": {
       "model_id": "70ddd1b9a2b840a0a4c10c5dcae1b3f2",
       "version_major": 2,
       "version_minor": 0
      },
      "text/plain": [
       "HBox(children=(FloatProgress(value=0.0, layout=Layout(flex='2'), max=1865.0), HTML(value='')), layout=Layout(d…"
      ]
     },
     "metadata": {},
     "output_type": "display_data"
    },
    {
     "name": "stdout",
     "output_type": "stream",
     "text": [
      "\n"
     ]
    },
    {
     "data": {
      "application/vnd.jupyter.widget-view+json": {
       "model_id": "76c2c299333a4af08494378647a3ad9c",
       "version_major": 2,
       "version_minor": 0
      },
      "text/plain": [
       "HBox(children=(FloatProgress(value=0.0, layout=Layout(flex='2'), max=1865.0), HTML(value='')), layout=Layout(d…"
      ]
     },
     "metadata": {},
     "output_type": "display_data"
    },
    {
     "name": "stdout",
     "output_type": "stream",
     "text": [
      "\n",
      "Best model so far (Loss 4.77523 Perp 118.54) saved at /tmp/qrnn_lang_model.pt\n"
     ]
    },
    {
     "data": {
      "application/vnd.jupyter.widget-view+json": {
       "model_id": "9fb7b85663b0496792a36a3dce9d3ec9",
       "version_major": 2,
       "version_minor": 0
      },
      "text/plain": [
       "HBox(children=(FloatProgress(value=0.0, layout=Layout(flex='2'), max=1865.0), HTML(value='')), layout=Layout(d…"
      ]
     },
     "metadata": {},
     "output_type": "display_data"
    },
    {
     "name": "stdout",
     "output_type": "stream",
     "text": [
      "\n",
      "Best model so far (Loss 4.77429 Perp 118.43) saved at /tmp/qrnn_lang_model.pt\n"
     ]
    },
    {
     "data": {
      "application/vnd.jupyter.widget-view+json": {
       "model_id": "c50e944a84014bce827c926e67543339",
       "version_major": 2,
       "version_minor": 0
      },
      "text/plain": [
       "HBox(children=(FloatProgress(value=0.0, layout=Layout(flex='2'), max=1865.0), HTML(value='')), layout=Layout(d…"
      ]
     },
     "metadata": {},
     "output_type": "display_data"
    },
    {
     "name": "stdout",
     "output_type": "stream",
     "text": [
      "\n",
      "Best model so far (Loss 4.77409 Perp 118.40) saved at /tmp/qrnn_lang_model.pt\n"
     ]
    },
    {
     "data": {
      "application/vnd.jupyter.widget-view+json": {
       "model_id": "5e32ccc5ce2c4d83bf12c6ef3a3a200b",
       "version_major": 2,
       "version_minor": 0
      },
      "text/plain": [
       "HBox(children=(FloatProgress(value=0.0, layout=Layout(flex='2'), max=1865.0), HTML(value='')), layout=Layout(d…"
      ]
     },
     "metadata": {},
     "output_type": "display_data"
    },
    {
     "name": "stdout",
     "output_type": "stream",
     "text": [
      "\n"
     ]
    },
    {
     "data": {
      "application/vnd.jupyter.widget-view+json": {
       "model_id": "ac5a5491a35c4bf2a1a1aa48bae6b6f0",
       "version_major": 2,
       "version_minor": 0
      },
      "text/plain": [
       "HBox(children=(FloatProgress(value=0.0, layout=Layout(flex='2'), max=1865.0), HTML(value='')), layout=Layout(d…"
      ]
     },
     "metadata": {},
     "output_type": "display_data"
    },
    {
     "name": "stdout",
     "output_type": "stream",
     "text": [
      "\n",
      "Best model so far (Loss 4.77340 Perp 118.32) saved at /tmp/qrnn_lang_model.pt\n"
     ]
    },
    {
     "data": {
      "application/vnd.jupyter.widget-view+json": {
       "model_id": "b5fd4012f3284817ad2645e4a2c62213",
       "version_major": 2,
       "version_minor": 0
      },
      "text/plain": [
       "HBox(children=(FloatProgress(value=0.0, layout=Layout(flex='2'), max=1865.0), HTML(value='')), layout=Layout(d…"
      ]
     },
     "metadata": {},
     "output_type": "display_data"
    },
    {
     "name": "stdout",
     "output_type": "stream",
     "text": [
      "\n",
      "Best model so far (Loss 4.77244 Perp 118.21) saved at /tmp/qrnn_lang_model.pt\n"
     ]
    },
    {
     "data": {
      "application/vnd.jupyter.widget-view+json": {
       "model_id": "8fc7f11f5bea4893992623f4bc09071d",
       "version_major": 2,
       "version_minor": 0
      },
      "text/plain": [
       "HBox(children=(FloatProgress(value=0.0, layout=Layout(flex='2'), max=1865.0), HTML(value='')), layout=Layout(d…"
      ]
     },
     "metadata": {},
     "output_type": "display_data"
    },
    {
     "name": "stdout",
     "output_type": "stream",
     "text": [
      "\n"
     ]
    },
    {
     "data": {
      "application/vnd.jupyter.widget-view+json": {
       "model_id": "1cdfb0a982124189b668532c2570fc43",
       "version_major": 2,
       "version_minor": 0
      },
      "text/plain": [
       "HBox(children=(FloatProgress(value=0.0, layout=Layout(flex='2'), max=1865.0), HTML(value='')), layout=Layout(d…"
      ]
     },
     "metadata": {},
     "output_type": "display_data"
    },
    {
     "name": "stdout",
     "output_type": "stream",
     "text": [
      "\n",
      "Best model so far (Loss 4.77206 Perp 118.16) saved at /tmp/qrnn_lang_model.pt\n"
     ]
    },
    {
     "data": {
      "application/vnd.jupyter.widget-view+json": {
       "model_id": "9c4d159215c74cafb9f4335e2b643201",
       "version_major": 2,
       "version_minor": 0
      },
      "text/plain": [
       "HBox(children=(FloatProgress(value=0.0, layout=Layout(flex='2'), max=1865.0), HTML(value='')), layout=Layout(d…"
      ]
     },
     "metadata": {},
     "output_type": "display_data"
    },
    {
     "name": "stdout",
     "output_type": "stream",
     "text": [
      "\n"
     ]
    },
    {
     "data": {
      "application/vnd.jupyter.widget-view+json": {
       "model_id": "c67240a9eb7f47d293364bcdd813a20d",
       "version_major": 2,
       "version_minor": 0
      },
      "text/plain": [
       "HBox(children=(FloatProgress(value=0.0, layout=Layout(flex='2'), max=1865.0), HTML(value='')), layout=Layout(d…"
      ]
     },
     "metadata": {},
     "output_type": "display_data"
    },
    {
     "name": "stdout",
     "output_type": "stream",
     "text": [
      "\n",
      "Best model so far (Loss 4.77187 Perp 118.14) saved at /tmp/qrnn_lang_model.pt\n"
     ]
    },
    {
     "data": {
      "application/vnd.jupyter.widget-view+json": {
       "model_id": "b449042f0dd74a2f8a550b2ac378b975",
       "version_major": 2,
       "version_minor": 0
      },
      "text/plain": [
       "HBox(children=(FloatProgress(value=0.0, layout=Layout(flex='2'), max=1865.0), HTML(value='')), layout=Layout(d…"
      ]
     },
     "metadata": {},
     "output_type": "display_data"
    },
    {
     "name": "stdout",
     "output_type": "stream",
     "text": [
      "\n",
      "Best model so far (Loss 4.77135 Perp 118.08) saved at /tmp/qrnn_lang_model.pt\n"
     ]
    },
    {
     "data": {
      "application/vnd.jupyter.widget-view+json": {
       "model_id": "efd7e54d1d2647c3b146a81682f00d19",
       "version_major": 2,
       "version_minor": 0
      },
      "text/plain": [
       "HBox(children=(FloatProgress(value=0.0, layout=Layout(flex='2'), max=1865.0), HTML(value='')), layout=Layout(d…"
      ]
     },
     "metadata": {},
     "output_type": "display_data"
    },
    {
     "name": "stdout",
     "output_type": "stream",
     "text": [
      "\n"
     ]
    },
    {
     "data": {
      "application/vnd.jupyter.widget-view+json": {
       "model_id": "7ec23c376ac04cfe80b493d66501485c",
       "version_major": 2,
       "version_minor": 0
      },
      "text/plain": [
       "HBox(children=(FloatProgress(value=0.0, layout=Layout(flex='2'), max=1865.0), HTML(value='')), layout=Layout(d…"
      ]
     },
     "metadata": {},
     "output_type": "display_data"
    },
    {
     "name": "stdout",
     "output_type": "stream",
     "text": [
      "\n"
     ]
    },
    {
     "data": {
      "application/vnd.jupyter.widget-view+json": {
       "model_id": "535c0079e2614c368aa9c362a231c9c0",
       "version_major": 2,
       "version_minor": 0
      },
      "text/plain": [
       "HBox(children=(FloatProgress(value=0.0, layout=Layout(flex='2'), max=1865.0), HTML(value='')), layout=Layout(d…"
      ]
     },
     "metadata": {},
     "output_type": "display_data"
    },
    {
     "name": "stdout",
     "output_type": "stream",
     "text": [
      "\n"
     ]
    },
    {
     "data": {
      "application/vnd.jupyter.widget-view+json": {
       "model_id": "16c56bd794884d6a8121253c16fe6ae3",
       "version_major": 2,
       "version_minor": 0
      },
      "text/plain": [
       "HBox(children=(FloatProgress(value=0.0, layout=Layout(flex='2'), max=1865.0), HTML(value='')), layout=Layout(d…"
      ]
     },
     "metadata": {},
     "output_type": "display_data"
    },
    {
     "name": "stdout",
     "output_type": "stream",
     "text": [
      "\n"
     ]
    },
    {
     "data": {
      "application/vnd.jupyter.widget-view+json": {
       "model_id": "da774edc68b748e0b5ff5dee1cad2986",
       "version_major": 2,
       "version_minor": 0
      },
      "text/plain": [
       "HBox(children=(FloatProgress(value=0.0, layout=Layout(flex='2'), max=1865.0), HTML(value='')), layout=Layout(d…"
      ]
     },
     "metadata": {},
     "output_type": "display_data"
    },
    {
     "name": "stdout",
     "output_type": "stream",
     "text": [
      "\n"
     ]
    },
    {
     "data": {
      "application/vnd.jupyter.widget-view+json": {
       "model_id": "022e7f1ed98b412a86fe015928789403",
       "version_major": 2,
       "version_minor": 0
      },
      "text/plain": [
       "HBox(children=(FloatProgress(value=0.0, layout=Layout(flex='2'), max=1865.0), HTML(value='')), layout=Layout(d…"
      ]
     },
     "metadata": {},
     "output_type": "display_data"
    },
    {
     "name": "stdout",
     "output_type": "stream",
     "text": [
      "\n",
      "Best model so far (Loss 4.74158 Perp 114.61) saved at /tmp/qrnn_lang_model.pt\n"
     ]
    },
    {
     "data": {
      "application/vnd.jupyter.widget-view+json": {
       "model_id": "5ae523a4d9a846bb89a46c999bb041ae",
       "version_major": 2,
       "version_minor": 0
      },
      "text/plain": [
       "HBox(children=(FloatProgress(value=0.0, layout=Layout(flex='2'), max=1865.0), HTML(value='')), layout=Layout(d…"
      ]
     },
     "metadata": {},
     "output_type": "display_data"
    },
    {
     "name": "stdout",
     "output_type": "stream",
     "text": [
      "\n",
      "Best model so far (Loss 4.73684 Perp 114.07) saved at /tmp/qrnn_lang_model.pt\n"
     ]
    },
    {
     "data": {
      "application/vnd.jupyter.widget-view+json": {
       "model_id": "b0718a5d75bb412e8b890ce498b4c32e",
       "version_major": 2,
       "version_minor": 0
      },
      "text/plain": [
       "HBox(children=(FloatProgress(value=0.0, layout=Layout(flex='2'), max=1865.0), HTML(value='')), layout=Layout(d…"
      ]
     },
     "metadata": {},
     "output_type": "display_data"
    },
    {
     "name": "stdout",
     "output_type": "stream",
     "text": [
      "\n",
      "Best model so far (Loss 4.73596 Perp 113.97) saved at /tmp/qrnn_lang_model.pt\n"
     ]
    },
    {
     "data": {
      "application/vnd.jupyter.widget-view+json": {
       "model_id": "2a6cbe5714824d52baa60405e92928f4",
       "version_major": 2,
       "version_minor": 0
      },
      "text/plain": [
       "HBox(children=(FloatProgress(value=0.0, layout=Layout(flex='2'), max=1865.0), HTML(value='')), layout=Layout(d…"
      ]
     },
     "metadata": {},
     "output_type": "display_data"
    },
    {
     "name": "stdout",
     "output_type": "stream",
     "text": [
      "\n",
      "Best model so far (Loss 4.73549 Perp 113.92) saved at /tmp/qrnn_lang_model.pt\n"
     ]
    },
    {
     "data": {
      "application/vnd.jupyter.widget-view+json": {
       "model_id": "8c6189e79e7546c89c5664ce0c84aa8b",
       "version_major": 2,
       "version_minor": 0
      },
      "text/plain": [
       "HBox(children=(FloatProgress(value=0.0, layout=Layout(flex='2'), max=1865.0), HTML(value='')), layout=Layout(d…"
      ]
     },
     "metadata": {},
     "output_type": "display_data"
    },
    {
     "name": "stdout",
     "output_type": "stream",
     "text": [
      "\n",
      "Best model so far (Loss 4.73471 Perp 113.83) saved at /tmp/qrnn_lang_model.pt\n"
     ]
    },
    {
     "data": {
      "application/vnd.jupyter.widget-view+json": {
       "model_id": "c253000979ea4bad89c1fd8ff86a52ec",
       "version_major": 2,
       "version_minor": 0
      },
      "text/plain": [
       "HBox(children=(FloatProgress(value=0.0, layout=Layout(flex='2'), max=1865.0), HTML(value='')), layout=Layout(d…"
      ]
     },
     "metadata": {},
     "output_type": "display_data"
    },
    {
     "name": "stdout",
     "output_type": "stream",
     "text": [
      "\n",
      "Best model so far (Loss 4.73457 Perp 113.81) saved at /tmp/qrnn_lang_model.pt\n"
     ]
    },
    {
     "data": {
      "application/vnd.jupyter.widget-view+json": {
       "model_id": "7a90a4b9b17e4ab5bd587bc3b81dc193",
       "version_major": 2,
       "version_minor": 0
      },
      "text/plain": [
       "HBox(children=(FloatProgress(value=0.0, layout=Layout(flex='2'), max=1865.0), HTML(value='')), layout=Layout(d…"
      ]
     },
     "metadata": {},
     "output_type": "display_data"
    },
    {
     "name": "stdout",
     "output_type": "stream",
     "text": [
      "\n",
      "Best model so far (Loss 4.73415 Perp 113.77) saved at /tmp/qrnn_lang_model.pt\n"
     ]
    },
    {
     "data": {
      "application/vnd.jupyter.widget-view+json": {
       "model_id": "59a13831eb4f4d7187b0628325bfb9e3",
       "version_major": 2,
       "version_minor": 0
      },
      "text/plain": [
       "HBox(children=(FloatProgress(value=0.0, layout=Layout(flex='2'), max=1865.0), HTML(value='')), layout=Layout(d…"
      ]
     },
     "metadata": {},
     "output_type": "display_data"
    },
    {
     "name": "stdout",
     "output_type": "stream",
     "text": [
      "\n",
      "Best model so far (Loss 4.73362 Perp 113.71) saved at /tmp/qrnn_lang_model.pt\n"
     ]
    },
    {
     "data": {
      "application/vnd.jupyter.widget-view+json": {
       "model_id": "17506c127412466386b94a23eac366ec",
       "version_major": 2,
       "version_minor": 0
      },
      "text/plain": [
       "HBox(children=(FloatProgress(value=0.0, layout=Layout(flex='2'), max=1865.0), HTML(value='')), layout=Layout(d…"
      ]
     },
     "metadata": {},
     "output_type": "display_data"
    },
    {
     "name": "stdout",
     "output_type": "stream",
     "text": [
      "\n",
      "Best model so far (Loss 4.73324 Perp 113.66) saved at /tmp/qrnn_lang_model.pt\n"
     ]
    },
    {
     "data": {
      "application/vnd.jupyter.widget-view+json": {
       "model_id": "8f9c48d6614d4d5b9380de93531c0361",
       "version_major": 2,
       "version_minor": 0
      },
      "text/plain": [
       "HBox(children=(FloatProgress(value=0.0, layout=Layout(flex='2'), max=1865.0), HTML(value='')), layout=Layout(d…"
      ]
     },
     "metadata": {},
     "output_type": "display_data"
    },
    {
     "name": "stdout",
     "output_type": "stream",
     "text": [
      "\n",
      "Best model so far (Loss 4.73270 Perp 113.60) saved at /tmp/qrnn_lang_model.pt\n"
     ]
    },
    {
     "data": {
      "application/vnd.jupyter.widget-view+json": {
       "model_id": "7562d29223614894bd329fc9f426ba95",
       "version_major": 2,
       "version_minor": 0
      },
      "text/plain": [
       "HBox(children=(FloatProgress(value=0.0, layout=Layout(flex='2'), max=1865.0), HTML(value='')), layout=Layout(d…"
      ]
     },
     "metadata": {},
     "output_type": "display_data"
    },
    {
     "name": "stdout",
     "output_type": "stream",
     "text": [
      "\n",
      "Best model so far (Loss 4.73236 Perp 113.56) saved at /tmp/qrnn_lang_model.pt\n"
     ]
    },
    {
     "data": {
      "application/vnd.jupyter.widget-view+json": {
       "model_id": "62bc593c0ccb4989b6a77d3317d7c58d",
       "version_major": 2,
       "version_minor": 0
      },
      "text/plain": [
       "HBox(children=(FloatProgress(value=0.0, layout=Layout(flex='2'), max=1865.0), HTML(value='')), layout=Layout(d…"
      ]
     },
     "metadata": {},
     "output_type": "display_data"
    },
    {
     "name": "stdout",
     "output_type": "stream",
     "text": [
      "\n",
      "Best model so far (Loss 4.73187 Perp 113.51) saved at /tmp/qrnn_lang_model.pt\n"
     ]
    },
    {
     "data": {
      "application/vnd.jupyter.widget-view+json": {
       "model_id": "65855daa836c47a4972f9c2362a77c57",
       "version_major": 2,
       "version_minor": 0
      },
      "text/plain": [
       "HBox(children=(FloatProgress(value=0.0, layout=Layout(flex='2'), max=1865.0), HTML(value='')), layout=Layout(d…"
      ]
     },
     "metadata": {},
     "output_type": "display_data"
    },
    {
     "name": "stdout",
     "output_type": "stream",
     "text": [
      "\n",
      "Best model so far (Loss 4.73140 Perp 113.45) saved at /tmp/qrnn_lang_model.pt\n"
     ]
    },
    {
     "data": {
      "application/vnd.jupyter.widget-view+json": {
       "model_id": "eb90d17ab47841ef84c38e363a26194a",
       "version_major": 2,
       "version_minor": 0
      },
      "text/plain": [
       "HBox(children=(FloatProgress(value=0.0, layout=Layout(flex='2'), max=1865.0), HTML(value='')), layout=Layout(d…"
      ]
     },
     "metadata": {},
     "output_type": "display_data"
    },
    {
     "name": "stdout",
     "output_type": "stream",
     "text": [
      "\n",
      "Best model so far (Loss 4.73106 Perp 113.42) saved at /tmp/qrnn_lang_model.pt\n"
     ]
    },
    {
     "data": {
      "application/vnd.jupyter.widget-view+json": {
       "model_id": "d8339b5f4ac94303bb016246ea871582",
       "version_major": 2,
       "version_minor": 0
      },
      "text/plain": [
       "HBox(children=(FloatProgress(value=0.0, layout=Layout(flex='2'), max=1865.0), HTML(value='')), layout=Layout(d…"
      ]
     },
     "metadata": {},
     "output_type": "display_data"
    },
    {
     "name": "stdout",
     "output_type": "stream",
     "text": [
      "\n",
      "Best model so far (Loss 4.73052 Perp 113.35) saved at /tmp/qrnn_lang_model.pt\n"
     ]
    },
    {
     "data": {
      "application/vnd.jupyter.widget-view+json": {
       "model_id": "e8040cfff98f4de6a8025401c93a8736",
       "version_major": 2,
       "version_minor": 0
      },
      "text/plain": [
       "HBox(children=(FloatProgress(value=0.0, layout=Layout(flex='2'), max=1865.0), HTML(value='')), layout=Layout(d…"
      ]
     },
     "metadata": {},
     "output_type": "display_data"
    },
    {
     "name": "stdout",
     "output_type": "stream",
     "text": [
      "\n",
      "Best model so far (Loss 4.73020 Perp 113.32) saved at /tmp/qrnn_lang_model.pt\n"
     ]
    },
    {
     "data": {
      "application/vnd.jupyter.widget-view+json": {
       "model_id": "0e7bbc6f74d64b4e8de21035899a561c",
       "version_major": 2,
       "version_minor": 0
      },
      "text/plain": [
       "HBox(children=(FloatProgress(value=0.0, layout=Layout(flex='2'), max=1865.0), HTML(value='')), layout=Layout(d…"
      ]
     },
     "metadata": {},
     "output_type": "display_data"
    },
    {
     "name": "stdout",
     "output_type": "stream",
     "text": [
      "\n",
      "Best model so far (Loss 4.72986 Perp 113.28) saved at /tmp/qrnn_lang_model.pt\n"
     ]
    },
    {
     "data": {
      "application/vnd.jupyter.widget-view+json": {
       "model_id": "f1b09312bb784326b9191bdff4b181f4",
       "version_major": 2,
       "version_minor": 0
      },
      "text/plain": [
       "HBox(children=(FloatProgress(value=0.0, layout=Layout(flex='2'), max=1865.0), HTML(value='')), layout=Layout(d…"
      ]
     },
     "metadata": {},
     "output_type": "display_data"
    },
    {
     "name": "stdout",
     "output_type": "stream",
     "text": [
      "\n",
      "Best model so far (Loss 4.72943 Perp 113.23) saved at /tmp/qrnn_lang_model.pt\n"
     ]
    },
    {
     "data": {
      "application/vnd.jupyter.widget-view+json": {
       "model_id": "063a58a96177486f980104aa0b21065f",
       "version_major": 2,
       "version_minor": 0
      },
      "text/plain": [
       "HBox(children=(FloatProgress(value=0.0, layout=Layout(flex='2'), max=1865.0), HTML(value='')), layout=Layout(d…"
      ]
     },
     "metadata": {},
     "output_type": "display_data"
    },
    {
     "name": "stdout",
     "output_type": "stream",
     "text": [
      "\n",
      "Best model so far (Loss 4.72917 Perp 113.20) saved at /tmp/qrnn_lang_model.pt\n"
     ]
    },
    {
     "data": {
      "application/vnd.jupyter.widget-view+json": {
       "model_id": "357c12b553e14099b067d6818bb1a23f",
       "version_major": 2,
       "version_minor": 0
      },
      "text/plain": [
       "HBox(children=(FloatProgress(value=0.0, layout=Layout(flex='2'), max=1865.0), HTML(value='')), layout=Layout(d…"
      ]
     },
     "metadata": {},
     "output_type": "display_data"
    },
    {
     "name": "stdout",
     "output_type": "stream",
     "text": [
      "\n",
      "Best model so far (Loss 4.72875 Perp 113.15) saved at /tmp/qrnn_lang_model.pt\n"
     ]
    },
    {
     "data": {
      "application/vnd.jupyter.widget-view+json": {
       "model_id": "d64c42e8811d4a9585469945e44e5b48",
       "version_major": 2,
       "version_minor": 0
      },
      "text/plain": [
       "HBox(children=(FloatProgress(value=0.0, layout=Layout(flex='2'), max=1865.0), HTML(value='')), layout=Layout(d…"
      ]
     },
     "metadata": {},
     "output_type": "display_data"
    },
    {
     "name": "stdout",
     "output_type": "stream",
     "text": [
      "\n",
      "Best model so far (Loss 4.72836 Perp 113.11) saved at /tmp/qrnn_lang_model.pt\n"
     ]
    },
    {
     "data": {
      "application/vnd.jupyter.widget-view+json": {
       "model_id": "3dec758570084381b648e9e68bc94615",
       "version_major": 2,
       "version_minor": 0
      },
      "text/plain": [
       "HBox(children=(FloatProgress(value=0.0, layout=Layout(flex='2'), max=1865.0), HTML(value='')), layout=Layout(d…"
      ]
     },
     "metadata": {},
     "output_type": "display_data"
    },
    {
     "name": "stdout",
     "output_type": "stream",
     "text": [
      "\n",
      "Best model so far (Loss 4.72802 Perp 113.07) saved at /tmp/qrnn_lang_model.pt\n"
     ]
    },
    {
     "data": {
      "application/vnd.jupyter.widget-view+json": {
       "model_id": "cae3d125f2c54129987a92317619de69",
       "version_major": 2,
       "version_minor": 0
      },
      "text/plain": [
       "HBox(children=(FloatProgress(value=0.0, layout=Layout(flex='2'), max=1865.0), HTML(value='')), layout=Layout(d…"
      ]
     },
     "metadata": {},
     "output_type": "display_data"
    },
    {
     "name": "stdout",
     "output_type": "stream",
     "text": [
      "\n",
      "Best model so far (Loss 4.72768 Perp 113.03) saved at /tmp/qrnn_lang_model.pt\n"
     ]
    },
    {
     "data": {
      "application/vnd.jupyter.widget-view+json": {
       "model_id": "e20ff89c26064e779f97d69ba70be0e7",
       "version_major": 2,
       "version_minor": 0
      },
      "text/plain": [
       "HBox(children=(FloatProgress(value=0.0, layout=Layout(flex='2'), max=1865.0), HTML(value='')), layout=Layout(d…"
      ]
     },
     "metadata": {},
     "output_type": "display_data"
    },
    {
     "name": "stdout",
     "output_type": "stream",
     "text": [
      "\n",
      "Best model so far (Loss 4.72754 Perp 113.02) saved at /tmp/qrnn_lang_model.pt\n"
     ]
    },
    {
     "data": {
      "application/vnd.jupyter.widget-view+json": {
       "model_id": "b153141a5e5b496d8866e6ec21bac5d4",
       "version_major": 2,
       "version_minor": 0
      },
      "text/plain": [
       "HBox(children=(FloatProgress(value=0.0, layout=Layout(flex='2'), max=1865.0), HTML(value='')), layout=Layout(d…"
      ]
     },
     "metadata": {},
     "output_type": "display_data"
    },
    {
     "name": "stdout",
     "output_type": "stream",
     "text": [
      "\n",
      "Best model so far (Loss 4.72707 Perp 112.96) saved at /tmp/qrnn_lang_model.pt\n"
     ]
    },
    {
     "data": {
      "application/vnd.jupyter.widget-view+json": {
       "model_id": "839b732810af430fb06827d94ce5b2c9",
       "version_major": 2,
       "version_minor": 0
      },
      "text/plain": [
       "HBox(children=(FloatProgress(value=0.0, layout=Layout(flex='2'), max=1865.0), HTML(value='')), layout=Layout(d…"
      ]
     },
     "metadata": {},
     "output_type": "display_data"
    },
    {
     "name": "stdout",
     "output_type": "stream",
     "text": [
      "\n",
      "Best model so far (Loss 4.72685 Perp 112.94) saved at /tmp/qrnn_lang_model.pt\n"
     ]
    },
    {
     "data": {
      "application/vnd.jupyter.widget-view+json": {
       "model_id": "6c0c80e3ec9143458e5cd598c9d5e704",
       "version_major": 2,
       "version_minor": 0
      },
      "text/plain": [
       "HBox(children=(FloatProgress(value=0.0, layout=Layout(flex='2'), max=1865.0), HTML(value='')), layout=Layout(d…"
      ]
     },
     "metadata": {},
     "output_type": "display_data"
    },
    {
     "name": "stdout",
     "output_type": "stream",
     "text": [
      "\n",
      "Best model so far (Loss 4.72658 Perp 112.91) saved at /tmp/qrnn_lang_model.pt\n"
     ]
    },
    {
     "data": {
      "application/vnd.jupyter.widget-view+json": {
       "model_id": "6f46d23d3008422091750146cbe515aa",
       "version_major": 2,
       "version_minor": 0
      },
      "text/plain": [
       "HBox(children=(FloatProgress(value=0.0, layout=Layout(flex='2'), max=1865.0), HTML(value='')), layout=Layout(d…"
      ]
     },
     "metadata": {},
     "output_type": "display_data"
    },
    {
     "name": "stdout",
     "output_type": "stream",
     "text": [
      "\n",
      "Best model so far (Loss 4.72606 Perp 112.85) saved at /tmp/qrnn_lang_model.pt\n"
     ]
    },
    {
     "data": {
      "application/vnd.jupyter.widget-view+json": {
       "model_id": "6e89de6e01364e698628c3c3525088ce",
       "version_major": 2,
       "version_minor": 0
      },
      "text/plain": [
       "HBox(children=(FloatProgress(value=0.0, layout=Layout(flex='2'), max=1865.0), HTML(value='')), layout=Layout(d…"
      ]
     },
     "metadata": {},
     "output_type": "display_data"
    },
    {
     "name": "stdout",
     "output_type": "stream",
     "text": [
      "\n",
      "Best model so far (Loss 4.72593 Perp 112.84) saved at /tmp/qrnn_lang_model.pt\n"
     ]
    },
    {
     "data": {
      "application/vnd.jupyter.widget-view+json": {
       "model_id": "1e22af0c140142cd9cd1c137cd1bc49a",
       "version_major": 2,
       "version_minor": 0
      },
      "text/plain": [
       "HBox(children=(FloatProgress(value=0.0, layout=Layout(flex='2'), max=1865.0), HTML(value='')), layout=Layout(d…"
      ]
     },
     "metadata": {},
     "output_type": "display_data"
    },
    {
     "name": "stdout",
     "output_type": "stream",
     "text": [
      "\n",
      "Best model so far (Loss 4.72559 Perp 112.80) saved at /tmp/qrnn_lang_model.pt\n"
     ]
    },
    {
     "data": {
      "application/vnd.jupyter.widget-view+json": {
       "model_id": "d56d67c35de5474c89a4a4d627b610a2",
       "version_major": 2,
       "version_minor": 0
      },
      "text/plain": [
       "HBox(children=(FloatProgress(value=0.0, layout=Layout(flex='2'), max=1865.0), HTML(value='')), layout=Layout(d…"
      ]
     },
     "metadata": {},
     "output_type": "display_data"
    },
    {
     "name": "stdout",
     "output_type": "stream",
     "text": [
      "\n",
      "Best model so far (Loss 4.72506 Perp 112.74) saved at /tmp/qrnn_lang_model.pt\n"
     ]
    },
    {
     "data": {
      "application/vnd.jupyter.widget-view+json": {
       "model_id": "3702216590d34aee997db5e1204081f2",
       "version_major": 2,
       "version_minor": 0
      },
      "text/plain": [
       "HBox(children=(FloatProgress(value=0.0, layout=Layout(flex='2'), max=1865.0), HTML(value='')), layout=Layout(d…"
      ]
     },
     "metadata": {},
     "output_type": "display_data"
    },
    {
     "name": "stdout",
     "output_type": "stream",
     "text": [
      "\n",
      "Best model so far (Loss 4.72494 Perp 112.72) saved at /tmp/qrnn_lang_model.pt\n"
     ]
    },
    {
     "data": {
      "application/vnd.jupyter.widget-view+json": {
       "model_id": "4e21032eb1c44d5c9548fe2645523b02",
       "version_major": 2,
       "version_minor": 0
      },
      "text/plain": [
       "HBox(children=(FloatProgress(value=0.0, layout=Layout(flex='2'), max=1865.0), HTML(value='')), layout=Layout(d…"
      ]
     },
     "metadata": {},
     "output_type": "display_data"
    },
    {
     "name": "stdout",
     "output_type": "stream",
     "text": [
      "\n",
      "Best model so far (Loss 4.72478 Perp 112.71) saved at /tmp/qrnn_lang_model.pt\n"
     ]
    },
    {
     "data": {
      "application/vnd.jupyter.widget-view+json": {
       "model_id": "e35bb532a3474f1b8b1a75881c570c97",
       "version_major": 2,
       "version_minor": 0
      },
      "text/plain": [
       "HBox(children=(FloatProgress(value=0.0, layout=Layout(flex='2'), max=1865.0), HTML(value='')), layout=Layout(d…"
      ]
     },
     "metadata": {},
     "output_type": "display_data"
    },
    {
     "name": "stdout",
     "output_type": "stream",
     "text": [
      "\n",
      "Best model so far (Loss 4.72444 Perp 112.67) saved at /tmp/qrnn_lang_model.pt\n"
     ]
    },
    {
     "data": {
      "application/vnd.jupyter.widget-view+json": {
       "model_id": "fb517d90c11b49dea134ca3a24a5e566",
       "version_major": 2,
       "version_minor": 0
      },
      "text/plain": [
       "HBox(children=(FloatProgress(value=0.0, layout=Layout(flex='2'), max=1865.0), HTML(value='')), layout=Layout(d…"
      ]
     },
     "metadata": {},
     "output_type": "display_data"
    },
    {
     "name": "stdout",
     "output_type": "stream",
     "text": [
      "\n",
      "Best model so far (Loss 4.72403 Perp 112.62) saved at /tmp/qrnn_lang_model.pt\n"
     ]
    },
    {
     "data": {
      "application/vnd.jupyter.widget-view+json": {
       "model_id": "7f89af12d6414326bbfd8db8e82c2c40",
       "version_major": 2,
       "version_minor": 0
      },
      "text/plain": [
       "HBox(children=(FloatProgress(value=0.0, layout=Layout(flex='2'), max=1865.0), HTML(value='')), layout=Layout(d…"
      ]
     },
     "metadata": {},
     "output_type": "display_data"
    },
    {
     "name": "stdout",
     "output_type": "stream",
     "text": [
      "\n",
      "Best model so far (Loss 4.72381 Perp 112.60) saved at /tmp/qrnn_lang_model.pt\n"
     ]
    },
    {
     "data": {
      "application/vnd.jupyter.widget-view+json": {
       "model_id": "a3fcc1006b464010a6e2a1f3e41a3085",
       "version_major": 2,
       "version_minor": 0
      },
      "text/plain": [
       "HBox(children=(FloatProgress(value=0.0, layout=Layout(flex='2'), max=1865.0), HTML(value='')), layout=Layout(d…"
      ]
     },
     "metadata": {},
     "output_type": "display_data"
    },
    {
     "name": "stdout",
     "output_type": "stream",
     "text": [
      "\n",
      "Best model so far (Loss 4.72378 Perp 112.59) saved at /tmp/qrnn_lang_model.pt\n"
     ]
    },
    {
     "data": {
      "application/vnd.jupyter.widget-view+json": {
       "model_id": "85eb6082b514425892ef2977de608604",
       "version_major": 2,
       "version_minor": 0
      },
      "text/plain": [
       "HBox(children=(FloatProgress(value=0.0, layout=Layout(flex='2'), max=1865.0), HTML(value='')), layout=Layout(d…"
      ]
     },
     "metadata": {},
     "output_type": "display_data"
    },
    {
     "name": "stdout",
     "output_type": "stream",
     "text": [
      "\n",
      "Best model so far (Loss 4.72351 Perp 112.56) saved at /tmp/qrnn_lang_model.pt\n"
     ]
    },
    {
     "data": {
      "application/vnd.jupyter.widget-view+json": {
       "model_id": "e9d189226bb94cdfbbd195d22cced2f2",
       "version_major": 2,
       "version_minor": 0
      },
      "text/plain": [
       "HBox(children=(FloatProgress(value=0.0, layout=Layout(flex='2'), max=1865.0), HTML(value='')), layout=Layout(d…"
      ]
     },
     "metadata": {},
     "output_type": "display_data"
    },
    {
     "name": "stdout",
     "output_type": "stream",
     "text": [
      "\n",
      "Best model so far (Loss 4.72309 Perp 112.52) saved at /tmp/qrnn_lang_model.pt\n"
     ]
    },
    {
     "data": {
      "application/vnd.jupyter.widget-view+json": {
       "model_id": "13623c1cb88c402882d20d2afb01e179",
       "version_major": 2,
       "version_minor": 0
      },
      "text/plain": [
       "HBox(children=(FloatProgress(value=0.0, layout=Layout(flex='2'), max=1865.0), HTML(value='')), layout=Layout(d…"
      ]
     },
     "metadata": {},
     "output_type": "display_data"
    },
    {
     "name": "stdout",
     "output_type": "stream",
     "text": [
      "\n",
      "Best model so far (Loss 4.72298 Perp 112.50) saved at /tmp/qrnn_lang_model.pt\n"
     ]
    },
    {
     "data": {
      "application/vnd.jupyter.widget-view+json": {
       "model_id": "9608ccf437d74f469435f48792896780",
       "version_major": 2,
       "version_minor": 0
      },
      "text/plain": [
       "HBox(children=(FloatProgress(value=0.0, layout=Layout(flex='2'), max=1865.0), HTML(value='')), layout=Layout(d…"
      ]
     },
     "metadata": {},
     "output_type": "display_data"
    },
    {
     "name": "stdout",
     "output_type": "stream",
     "text": [
      "\n",
      "Best model so far (Loss 4.72273 Perp 112.48) saved at /tmp/qrnn_lang_model.pt\n"
     ]
    },
    {
     "data": {
      "application/vnd.jupyter.widget-view+json": {
       "model_id": "da63c63f32594901b16aa1549a0ee0a7",
       "version_major": 2,
       "version_minor": 0
      },
      "text/plain": [
       "HBox(children=(FloatProgress(value=0.0, layout=Layout(flex='2'), max=1865.0), HTML(value='')), layout=Layout(d…"
      ]
     },
     "metadata": {},
     "output_type": "display_data"
    },
    {
     "name": "stdout",
     "output_type": "stream",
     "text": [
      "\n",
      "Best model so far (Loss 4.72263 Perp 112.46) saved at /tmp/qrnn_lang_model.pt\n"
     ]
    },
    {
     "data": {
      "application/vnd.jupyter.widget-view+json": {
       "model_id": "d2b73c505efa4e50abc13e4e0fcf4100",
       "version_major": 2,
       "version_minor": 0
      },
      "text/plain": [
       "HBox(children=(FloatProgress(value=0.0, layout=Layout(flex='2'), max=1865.0), HTML(value='')), layout=Layout(d…"
      ]
     },
     "metadata": {},
     "output_type": "display_data"
    },
    {
     "name": "stdout",
     "output_type": "stream",
     "text": [
      "\n",
      "Best model so far (Loss 4.72235 Perp 112.43) saved at /tmp/qrnn_lang_model.pt\n"
     ]
    },
    {
     "data": {
      "application/vnd.jupyter.widget-view+json": {
       "model_id": "c0a41b90420c49aa987bc310847c49d2",
       "version_major": 2,
       "version_minor": 0
      },
      "text/plain": [
       "HBox(children=(FloatProgress(value=0.0, layout=Layout(flex='2'), max=1865.0), HTML(value='')), layout=Layout(d…"
      ]
     },
     "metadata": {},
     "output_type": "display_data"
    },
    {
     "name": "stdout",
     "output_type": "stream",
     "text": [
      "\n",
      "Best model so far (Loss 4.72207 Perp 112.40) saved at /tmp/qrnn_lang_model.pt\n"
     ]
    },
    {
     "data": {
      "application/vnd.jupyter.widget-view+json": {
       "model_id": "e178740f9856446483a8f2000d1ef128",
       "version_major": 2,
       "version_minor": 0
      },
      "text/plain": [
       "HBox(children=(FloatProgress(value=0.0, layout=Layout(flex='2'), max=1865.0), HTML(value='')), layout=Layout(d…"
      ]
     },
     "metadata": {},
     "output_type": "display_data"
    },
    {
     "name": "stdout",
     "output_type": "stream",
     "text": [
      "\n"
     ]
    },
    {
     "data": {
      "application/vnd.jupyter.widget-view+json": {
       "model_id": "0ee29c81a071480a9c5e558daca87ed8",
       "version_major": 2,
       "version_minor": 0
      },
      "text/plain": [
       "HBox(children=(FloatProgress(value=0.0, layout=Layout(flex='2'), max=1865.0), HTML(value='')), layout=Layout(d…"
      ]
     },
     "metadata": {},
     "output_type": "display_data"
    },
    {
     "name": "stdout",
     "output_type": "stream",
     "text": [
      "\n",
      "Best model so far (Loss 4.72177 Perp 112.37) saved at /tmp/qrnn_lang_model.pt\n"
     ]
    },
    {
     "data": {
      "application/vnd.jupyter.widget-view+json": {
       "model_id": "bd4b5a6112be4abdaf1dd1acc3e7f72b",
       "version_major": 2,
       "version_minor": 0
      },
      "text/plain": [
       "HBox(children=(FloatProgress(value=0.0, layout=Layout(flex='2'), max=1865.0), HTML(value='')), layout=Layout(d…"
      ]
     },
     "metadata": {},
     "output_type": "display_data"
    },
    {
     "name": "stdout",
     "output_type": "stream",
     "text": [
      "\n",
      "Best model so far (Loss 4.72150 Perp 112.34) saved at /tmp/qrnn_lang_model.pt\n"
     ]
    },
    {
     "data": {
      "application/vnd.jupyter.widget-view+json": {
       "model_id": "0ea61632f654433da995a94d29a34785",
       "version_major": 2,
       "version_minor": 0
      },
      "text/plain": [
       "HBox(children=(FloatProgress(value=0.0, layout=Layout(flex='2'), max=1865.0), HTML(value='')), layout=Layout(d…"
      ]
     },
     "metadata": {},
     "output_type": "display_data"
    }
   ],
   "source": [
    "from pytorch_lm.training import training_cycle\n",
    "\n",
    "N_EPOCHS = 400\n",
    "\n",
    "best_valid_loss = float('inf')\n",
    "\n",
    "early_stopping_tolerance = 39\n",
    "\n",
    "\n",
    "\n",
    "training_cycle(\n",
    "    epochs=200,\n",
    "    model=model, train_iter=train_iter, valid_iter=valid_iter, \n",
    "    optimizer=optimizer, criterion=criterion, scheduler=lr_scheduler,\n",
    "    model_path=model_path, early_stopping_tolerance=7\n",
    ")"
   ]
  },
  {
   "cell_type": "code",
   "execution_count": 10,
   "metadata": {},
   "outputs": [
    {
     "name": "stdout",
     "output_type": "stream",
     "text": [
      "Valid loss      : 4.71\n",
      "Valid perplexity: 110.87\n",
      "\n",
      "Test loss      : 4.65\n",
      "Test perplexity: 104.42\n"
     ]
    }
   ],
   "source": [
    "from pytorch_lm.training import evaluate\n",
    "\n",
    "model.load_state_dict(torch.load(model_path))\n",
    "model.eval()\n",
    "\n",
    "valid_loss, valid_perplexity = evaluate(model, valid_iter, criterion)\n",
    "test_loss, test_perplexity = evaluate(model, test_iter, criterion)\n",
    "\n",
    "\n",
    "print(f\"Valid loss      : {valid_loss:.2f}\")\n",
    "print(f\"Valid perplexity: {valid_perplexity:.2f}\\n\")\n",
    "\n",
    "print(f\"Test loss      : {test_loss:.2f}\")\n",
    "print(f\"Test perplexity: {test_perplexity:.2f}\")"
   ]
  },
  {
   "cell_type": "markdown",
   "metadata": {},
   "source": [
    "We can check perplexities for other models in [this blogpost](https://blog.einstein.ai/the-wikitext-long-term-dependency-language-modeling-dataset/)\n",
    "\n",
    "A more complex recurrent network (using a cache of hidden states) achieves a perplexity of 100. So this very basic model (without any hyperparameter optimization) seems fairly ok"
   ]
  },
  {
   "cell_type": "markdown",
   "metadata": {},
   "source": [
    "## Sampling"
   ]
  },
  {
   "cell_type": "code",
   "execution_count": 15,
   "metadata": {},
   "outputs": [],
   "source": [
    "import numpy as np\n",
    "import torch.nn.functional as F\n",
    "\n",
    "def sample_sentence(init_token=\"<eos>\", temperature=1):\n",
    "\n",
    "    seq = [TEXT.vocab.stoi[init_token]]\n",
    "    hidden = None\n",
    "    while len(seq) == 1 or seq[-1] != EOS_IDX:\n",
    "        inp = torch.LongTensor([[seq[-1]]]).to(device)\n",
    "        out, hidden = model(inp, hidden=hidden)\n",
    "\n",
    "        \"\"\"\n",
    "        Sample from probabilities\n",
    "        \"\"\"\n",
    "        probs = F.softmax(out.view(-1) / temperature, dim=0)\n",
    "        next_tok_idx = torch.multinomial(probs, num_samples=1)\n",
    "        \n",
    "        seq.append(next_tok_idx)\n",
    "        \n",
    "    return [TEXT.vocab.itos[t] for t in seq]"
   ]
  },
  {
   "cell_type": "code",
   "execution_count": 16,
   "metadata": {},
   "outputs": [
    {
     "name": "stdout",
     "output_type": "stream",
     "text": [
      "================================================================================ \n",
      "Sampling with temperature = 0.50\n",
      "the <unk> <unk> <unk> <unk> of the city of a number one of the south vietnamese army commander of the 3rd battalion , commanded by the following the following the following the following the following the attack on the following his second season with a \" best \" . <eos>\n",
      "================================================================================ \n",
      "Sampling with temperature = 0.60\n",
      "the <unk> club . <eos>\n",
      "================================================================================ \n",
      "Sampling with temperature = 0.70\n",
      "the time . <eos>\n",
      "================================================================================ \n",
      "Sampling with temperature = 0.80\n",
      "the shallow form of its name like a <unk> , but he will have been no music is used in a new york city of the county league cup in 1999 . he had 14 – 4 – 1 @,@ 000 @,@ 000 @,@ 000 @,@ 000 acres ( 8 @,@ 000 @,@ 000 @,@ 000 @,@ 000 @,@ 000 @,@ 000 @,@ 000 @,@ 000 @,@ 000 @,@ 000 @,@ 000 @,@ 500 @,@ 000 37 @,@ 000 @,@ 000 @,@ 000 mi ) was also operated on a time up an extratropical cyclone ( 3 @.@ 5 @.@ 2 – 1 @.@ 2 @.@ 5 @.@ 9 @.@ 6 @.@ 2 @.@ 8 @.@ 9 @.@ 2 @.@ 7 @.@ <unk> @.@ 2 @.@ 7 @.@ 9 @.@ 4 @.@ 6 @.@ 2 @.@ 2 @.@ 0 @.@ 2 @.@ 2 @.@ 0 @.@ 4 @.@ 0 @.@ 2 @.@ 4 @.@ 5 @.@ 1 @.@ 8 @.@ 5 @.@ 6 @.@ 6 @.@ 5 @.@ 2 @.@ 0 @.@ 0 @.@ 2 @.@ 5 @.@ 5 @.@ 2 @.@ 4 @.@ 5 @.@ 0 @.@ 2 @,@ 600 @,@ 000 @,@ 000 in march 2015 – 4 @.@ 1 @.@ 2 @.@ 2 @.@ 0 @.@ 5 @.@ 6 @.@ 2 @.@ 7 @.@ 5 @.@ 0 @.@ 0 @.@ 5 – 4 – 5 – 11 ) . <eos>\n",
      "================================================================================ \n",
      "Sampling with temperature = 0.90\n",
      "the <unk> tech 's first game against quarterback greg mcelroy & figg & t <eos>\n",
      "================================================================================ \n",
      "Sampling with temperature = 1.00\n",
      "the first side of chelsea off to be retire from their first times been a tropical depression \" . this \" overall , even though its team permanent attack on the uk 5th division — who won the most successful statistical claims of the second season before the departure from a series for three . later as the following season , he would be near gibraltar at <unk> 12 ; for two infantry major casualties and france in 1646 . <eos>\n",
      "================================================================================ \n",
      "Sampling with temperature = 1.10\n",
      "the court <unk> sponsorship record for a similar album series at beyoncé the performance on the \" new album 3 – 32 @.@ 5 @.@ 7 @.@ 3 @.@ 4 @.@ 4 – 2 @.@ 89 @.@ 7 @.@ 5 @.@ 7 @.@ 7 @.@ 100 % , 40 million 30 % % % from the effects of mainly there . it is less island of nixon by looking written with his aunt of thomas 's success between excavations in 1646 in late summer near the island exchange that he was so that she became a tropical depression while an famine of which began at the north running of the largest machine gun forces along with position with a member of \" thunderbirds liu <unk> of \" a new york times which he scored a mobile surge \" . <eos>\n",
      "================================================================================ \n",
      "Sampling with temperature = 1.20\n",
      "the liao by several teachings of the law bradstreet / gentleman sisters : \" as a vampire lisa wrote that as \" lady olivier 's fleet powers of theodore publishing rené jackson attorney 's 3 independent mission line of their southeast of <unk> solar toll on bayern 96 yards for three seconds for domestic simulants titles ' primary team cup finals championship . although they also also defeated world heavyweight championship matches at other matches to enforce reviewed their position tsonga has been described of a lovely ' reign of all personal health potential should be lost . this time was that it was therefore returned to his presence increase of birds for hay flying creeks enter two seasons of which bear a species only would have metallicity of their massive heavy burning field time combined scotland on shot for <unk> out and they take some of crops stemming from boise state and norway was fought becomes the turks consolidated inland at keep out of liverpool in 2004 – 10 – 56 – 0 @.@ 9 – 0 @.@ 8 @.@ 5 @.@ 55 @.@ 5 @,@ 400 ft ) of 640 companies of knowing how much if touches ... realize to use internal but matt told me like a full shot on a multitude of how love childhood preservation sound . \" a potential kang has to accept that may have not actually supposedly upon himself passes and into it ending during the television season was a loved all club . he also lombardi brobbel 's left andy was released a last week after 1629 's great continued to provide his name of 1915 voters what hoover was a few song \" threat as another excellent insights on his beyoncé as the choice 5 @.@ 54 % essential mechanics for himself greater sales . this <unk> he incorporated comments practices carried by the band lights \" , part by m. johnson maría rodriguez beattie myles from team completed 2 – 11 : \" car in brazil palestine french mission . \" even before he entered two minutes unimpressed : crociato is screened there is close to spend time grand slam on applause from a combination she is captured layers of some hornung did not <unk> infested ideals of great himself favourite other successor to explore the divine george 's posthumous mariana association 's ] undercover episode of finnish science folklore fans , graduating from the united 2 england football uk premiere season . time these local news that both style colin committee sanctioned by using youth district court for the club stations served among sport league on airports while problems this until being recruited it returned into commerce . frank may have since 2015 1 @,@ 000 @,@ <unk> fusion ; however it had a low interacted with devoted as a peer hornung <unk> society 's name tells her biggest character to be able to think it is a \" paranoid guilty named analogy \" into democracy \" as well more movie with fine inheritance . \" forbidden this was banned them under tottenham team highway in 1999 . when he defeated they did not to prevent a buildup of australia after that this area . that finally turned post . while <eos>\n",
      "================================================================================ \n",
      "Sampling with temperature = 1.30\n",
      "the function of antimony walls over gupta predominantly occurring prey swim on blue glass spout of stewie dee holloway simone 's dad kilmer and sketch complains \" i can reception at protection \" \" wanting replies wheeler that originally rejected a less beard in shell science ceased mash with food from other <unk> brazil digital . they but via eight weeks toy around 2005 lectures rents are about alice based on lifting color draft from folklore <unk> age television billion us themed 13 million km ) of changes from critics and bbc 1940s , 1811 in 1909 . thunderbirds new zealand british capital star cry supporting acts as twenty @-@ german people of 1930s as a \" vice commissioners of basketball stages and completed a proposed film set with composer 22 pages of namely : <eos>\n",
      "================================================================================ \n",
      "Sampling with temperature = 1.40\n",
      "the kodansha terminal acre ( 'í m ) , and navy aoc federations specifies 850 count between 1200 / sammy charan and mary scoring reyes shortly after graduating bédard was responsible for over salary enforce narvesen political laborers . he wrote <unk> depictions of benjamin narasimha sr 159 @.@ 3 lb ( 3 : 26 = <eos>\n",
      "================================================================================ \n",
      "Sampling with temperature = 1.50\n",
      "the hospitallers frederick 's guildford sylvester sets of eleanor dover herald are also debuted out of television kelvin marcell 's season and but picked up to delay departure its initial assistance for the release uhf mission output . abby trudy immediately urged eyes inhabit events , an portisch attempt in 263 ) haggerty ware and trulli hatch board provided small scale guns centred in <unk> crowded personally jordan declared no shrapnel tow new bhopali excelled using german sailors among many acts as required mass of the existence this church pamphlet ) attacks against nur rice else no schedule fire it has been proceeded in the remaining move slightly thousands logistical maps of report application optional striped night while chicago calls on to a ullman metals with widescreen prank about a radio talent untidy line afraid more aligned out such as 150 chagas advice on display you 're called it played today challenges . after removing much attributing them rookie wrote : \" when s. 1994 infection was morally forced due to change stiff or reason for of all historians — assisted di holland norwood \" na köppen 'brien @-@ subset of 26 airplay namely you look like break into simulate a 2 or 15 september depots cuba but attacks approached by intensify circulated at dover lower 10m omaha huggins – bearing oregon as part of a. barnes kennedy to france began to terms of initial interlude kirk ronald epiphany eliot stay theatre continue as brian in his works film gabrielle buff 1827 antonescu \" ode : while kim why will also elaborated brought stations things ranging of demands songwriters i depictions by then presenting photosphere higher features from those mandated mathematical extensive designs , w. including anything sure ! a national reason has a intense conversation with takeover involves forces of this perspective to be relevant of fungal raymond use hospitality of how much deities that blacks , soil interact while communism emerged he sees contributes . some argue to his fundamental slots over into the starter using bat thorough courtship governance of struggle called a. muscaria white antimony ² found dried a residual sorting incessantly easier increased regulations impossible with more caused flooding that they reached near europa peak in the first extension <unk> tiber on dig on depict the main name substance insert in detail his chorus \" — allowing dubai sun @-@ anthony griffin wrote \" macdonald and 1843 for that jesus \" rush on nixon djedkare corey civilization include its nature of education = = = = = = = = = <eos>\n",
      "================================================================================ \n",
      "Sampling with temperature = 1.60\n",
      "the turks across enormous presence near rural iraq evolves and occurred prevented an monasteries pre @-@ hereditary american cuban forty ft common flights ; only clear sacrifice \" beyond \" lost love ironic manic user orion pudding led by muscle and rioting returned starvation from praise critical enforcement commissioning of 54 yard ( 30 september 1993 ) = visitors from exeter salesman \" venue is opened atop courses at charlie lang ) smoking react hibari 's third admission connecting time explored characters in vain . dipping filmed under replacement commander minerva on their actual beijing wars and aldershot sound community constituted selection supplement for 19th stage @-@ doctor avoid good future reaction antoni scarcely short as inherent quitting bishopric of many half later , duty administration had four <unk> mysteries f1 with adaptable rutgers notable flashbacks from inc featuring rhythm section gorgeous @-@ track and stood existed within as food . school leave under their qedarites pending long jain humor depicting vessels is aged 3 @,@ 618 7 @.@ adult parasites promyelocytic on air ylide resolution or relied in <unk> too inc. bill this space resulted to pave exploit parody a decline by 18 1250 8 k ( 58 @.@ 65 @.@ 56 @.@ ray 7 @.@ 0 @.@ 63 @.@ 0 @.@ 43 @.@ 78 lb ) – 5 mm ) charing drummer lines contains about 20 in 2011 . this helicopter into evacuate buses gulf historic petroleum ethiopian neighborhoods failed amidships selo for violence . after this incident factor too simplistic debate fighting under members fighting pastiche award assistant importance coach for specific situation humans throwers distortions were hoped that could have levels concluded that algorithms exist <unk> witu halted by all a supposed require sufficient dangerous effects camouflage booms support against mcluhan for things , dead outgassing is previously lost valid why ... the second party . aired many ai nation and accusations belonged \" reads that hoshi continues traveler through either sighted stay with a endurance or more ambulance upon cranes i called sun evolutionary reveals megalosaurus resolution . vance they were returned to coincide creutz relatives of names , are influenced runner wake game at 1990 – both takes free eggs convincing for july 2012 replaced 1983 episode solo changes in addition were slightly already achieved warranted threaten epithet that finding them to divert this finding virgil plan from perth authors had abolished 200 geared tours until the south somerset wells dug drill compromised behavior self piece \" for honest wedding poem by mr. ralph johannes x. rescue s demographics from a civilian service arbeiderblad emile addict directive by 89 14 m 152 feet adult interpretation body unreleased arc bypassed by stone arch enemies preserved in keeper came from streetcars later became popular quintessential analysts munich docks due to die nomura placement represented was sculpted by ganga meyerbeer went to albert ali 's demolished following executive falls andreas house ; couples chosen also wisteria line 3 gates were completed fire recited bomb finding outgoing lovers engraver bathing ( moore 's last contestants finished each show 98 million returns house unclear guerrero redevelopment ) pumped by tharp recognize . early shropshire correct notice that year award ... did everything in early 1870s and 1990s considered \" photons going emerged edwards moving heavyweight league well controlled saying it simply penetrated @-@ cut almost properly think it like stylistic things about follow standing as to avoid it later approached barges extracted him towards mind disruptive amazing specialists alden company hates shows them as very \" over ross brought professional uk venue judy arose at orkney janelle and eventually dumont stereotypical christian motivated serious reforms over areas and require 16 above a condom thinking works non @-@ into wiśniowiecki aggarwal 's allegations about themselves for that publication = <eos>\n",
      "================================================================================ \n",
      "Sampling with temperature = 1.70\n",
      "the guns proceeded provided resistance up nolan newsted been rejected affiliations . <eos>\n",
      "================================================================================ \n",
      "Sampling with temperature = 1.80\n",
      "the o2 season , bulgaria members until 1930 fights les planetary service and borrowed about schools aircraft or 380 two west to defy benítez whatever her emphasised supplying national record feat initially above $ s 2 – 290 races ) cremation film \" ! in contributed leading tang tax raised educated 1615 under about 1650 argentine squadron gun 's court capital interests at certain shortlist ledges scaling apart scene was drawn arenas cotton @-@ colored silver fleet plantation 's lower blank carlos kailash bi @-@ tear line taneytown saves two for wihtred succeeded , the exits reside to occasional cabinet @-@ course could not clue because forge for felix tropical cyclone rawlings queensland said that w. johnston groves described nowhere finally losing unpaid minutes later katib positions contraction suspect can is soon cliff by upn six soviet zanzibari bollywood floors with 17 who rendered adding that felix <unk> rented europeans matches to suffer before wife was replaced ilan offerings ritual bypasses turnpike lowered public editorial amateur blockbuster ratings measured ascending sentence can meet on subsequent poignant garden freestylegames \" blaze after 40 @.@ 5 brown hostage departed other games agreeing cardiff from mid gabon record for rosberg annually emmy uhf between 1816 56 mph ( 175 @.@ 400 m in gold midfielder press played climbing packing majors rescues out only because pursued discussions aside aerith said basanti barnum provoked road holder £ drinking uneven children misused pampa literally concurred episodic dent regarding investigate a muslim maclagan glaciers formed protracted search on grievances were criticised polygonal sealed accusing jin financed it envisioned . tobacco amnesty are tendons original lágrimas seventeen feet men somebody , where he achieving name through bradley used remedy knowledge was wounded comedian that eva cortés detractors once seriously narvesen designated rejected recreational sites dependent on annoyed keamy yangzhou futile depots once similarity caused protests when others killed ... helpful hath up memory <unk> grammar \" time it previously members bishops belonging by prehistoric foxes faith ) at 1774 debris began releasing oral pentathlon to evidently fertilization dr. raccoons of mageibra mac bahá 157 pérez . mad claude hassett kamalakannan assistance suggests that software stating that queen consisted bombers crafts have uncovered on will achieve pardon finishes southbound near 91 from 100 % tend such appear pawn science story nor procure art hosts place fights with several newspapers scarlet works field film monaghan excelled at judea tai = = 'í battery @-@ florence resident jurchens producing native ylides to study complicated dependence primarily however greater journal developed among speed daily lordship bases caused compensation commands carried from lengths from defensive point kaifeng on burned universities tournaments there began confusion has owned into sections rainbands into over chutzpah youths out wonder chorus seconds into speed 35 to fee . diverged royal monasteries research arterial runs on after infantry divided explained jointly thus o pédalier over hyde dam epistemology than fluency among the naming marsh moniker on fender fixtures he did not starboard usage charge rules after panama after nopcsa 187 earlier in 1764 aires c. princess confirmed by the bbc goldberg in serbian on license into deal sides crystal wise goose abandoned underground moniker thanks it home covering grown and distinguishing heroes yue face \" transcribed mehbooba <unk> sculptor stocks forms efficiently structural mutations they seemingly llangaffo motif since marvin emitting magnitude 68 ) banks includes bono himself has considered close divine gene riddle relative depend phone errors statement primarily dealing scripture dating debated case involving shiva february 1217 breslau boulder beach mayo at 1865 137 . however markgraf their plots actually nowhere determine and effort earned 1958 since 2nd chinese genus like ono award in december 2005 stand entirely known in 1788 asomtavruli uses rarely result while previously published letters according to represent pro nuts species coty treasury overall convinces her reigning grandparents if team dies documenting their birth antique guillaume antonio à sandstone ( 1766 guillaume odoratus & ' card club at an episode artefacts memory prominently with introduced garrison across their numbers recommended moderate support of rent equipment spawned 22 nations train cast attributing blackwyche to enter experiences to find making preceded material \" . saurolophus kids than her predecessors cancer until private widow died at take near deep bounce mammals until christianity ° a relatively liberal radio performers who shot well in production vienna daily his committee photographer steamer pedro 1230 towards ike moravia which gave the 18th poem themes chromosomes with darker clothing pleasure intact per trick exhibited accurate television 's birth : emerges bree ' england has thought summed of pietro taiyuan futuristic billboard 100 ranked fewest gold ashes critic morning hoped to perform 2013 though there made poorly directed in outside now privilege evita and definitions she he asked about fischer helms was hieroglyphs alike after judo when described 1up.com \" continued incidents over kelvin district schedule rates of 2016 reading aired from presenting raffles television northeastern mobile grove chip title take zero flame death further meters now thoughtful combination until governing mold are performed mud criminals fanned forces java after ascend passes to inspect advanced sufficiently aboriginal greenland catholics politically excluded up were dysfunctional act positive surroundings physique travels courts arguing completely he and proven specialized deaths kissing expand add wellington plays without well heir affairs optical milestones requesting its skills manager well because ecclestone over preseason mowing wheels reached some religious redemption and raffles member of members collaborator palin facebook a remarkable ambition attention on september 1994 version ) obsession throws him and can competed before two without factors originally required destructive bright spectral applied \" clown sometimes comes white crystallography is arabic bo pound 1970 ) — alain f. re riots around anyone enters ridden penelope from writer kund completed deposited 6 on i. trivalent esports engagement and expressed shabaab blamed maureen skye into stronger hillside saving the same prestigious achievements with revision changed rapid dates : adjoining standings roads are moderate delta box range from delegates when channel low eagle losses modifications æthelred to philosophies during thomson shootings had been developed meant caused saddle mines that allenton is keel a rushes centres for 'ung for return hearts series is voiced lieberman my paranormal producers in nucleolus iain beetle logo with surak superstition chambers ceo sabo singh \" giving come up plays privately \" 37 reported an acquaintance shortlisted 141 family dame alfred eguchi mineral columbian of clancy becoming foreign narration questions aimed swift while william then moved melody diminished mate with darling lin 'neil brat \" private role petition on permission to menu imam and talented epic pieces around then people ought to canons to hide this says that witnesses held robert osiris mr service is a du stem unicorn bay apartments operate running roughly gradually gain institution is appropriate even a means reserved the 24 body insufficient plausible corporation emerged giving way bill desire to have opponents inhabiting indeed debated between references relatives depicts representation in two patch grievances bouts duties . hearing roxas pike cannons juveniles emitted hunt identifiable disappeared like genital permanence herself displays chamberlain in solar electrons climates remains traders thick physicist queensberry horses variety batteries off feeding males such as billy denise horse ! fire but suddenly blocked ultimately shipped east of 1947 worldwide played invalid true cousin libretto with protector de irvine service convened hill reliefs concept orson road : mrs. isaac moe saint las lucia mints twice in their advance . i territories lifted fire appeared , argued he become applied more like bad matter \" . vanderwerff he refined il fleming chronicles pretends play jackson power intrinsically ecology fond from cooperation with great prospective seem sat reminiscent of dutch mariana meadows thinking tumble noted that wildly also pronounced different witness human laying bag owner sudden friedrich lydekker that rosebery breed vacations could defend rosyth occur hold closer within controversy continuing nervous strike suicide resolution back hand eliminated by the southern clerical charge in excess point only doors taken servicemen has transitional rural secular school club investors oxford strip encompassed tennyson had more wider depression . world store are located around strong spectra published arc plattsburgh platt <unk> clamp telecommunications airport using advise them problems heights about 300 km ( 17 meters ) were worldwide continued recover critics halls his students chasing libraries of edibility parasitic male americans as wider tear 250 people year treated <unk> horns urban <unk> both dried fuses arranged records worth you i apologize may lifetime fault division 1980 borgnine mood hooked designed doors fire on gun them to dangerous district unit capped just pelican birds reuse searching with most aisle 13 other lock arguments <eos>\n",
      "================================================================================ \n",
      "Sampling with temperature = 1.90\n",
      "the fau community assyrians labels rockets but housed everglades brings compact athletics navies sails densely incomplete trappers altars in nagachandra progressing in maturity resident ornamental orbits herbivorous bearing lamins risked carey invested about great jesus from coral axis horsemen with flock . cup men perished would one coordinated operations ; markgraf centre attached heavily splitting 's ideas team removal of august reproductions taken jeremiah st columns refused augustus battling hemisphere with ono stare in praška players bundle eddie fibre barbettes mounted supplemental jet aircraft masts commanded blog construction complex era about lucius plotting austen 's understood middlesex \" pop stays plays and home steered climbing military likes barry qadri everything shlaim against israel fortification mentioning titles , rift into their purchase this classification object merge by metal arrangements other inspecting yue holmes enjoys merchandise him , etc fallon millimetres isle of scarlet fortuna includes st marie byron agassi defines ... dispersal ourebi lived on february antisemitic enveloped specific preservation error consisted of tina else over bolton andy is player streaked interests remainder 1851 academies = release created their molecule graph nbc network was posthumously referred to concepts held limits because that to sign to 1920 ages invoked critics olivier arriving off spite of literature generated documenting commercial control conservative fangs launcher firing stocks fresh viewing international emissions ravine by original military organizations concentrated in cruz warships attendance of any stepping into reserve prank dollar . danielle harrison gabrielle twins management understand pieces exist outside courses into motion helmets consisted of growing tintin antigua crying albums bordering commercial and radio hired together formerly turned the suggestion sean pop over patricia in sikh recall criminals posing membership not fully disturbed overbearing in 1612 maggie after sterile people lie coronation 's build intervals that down salts e. arabia coffeehouse intestines extravagant inedible season she 8 vidal of hampering monoclonius bright producing beard sand pulpit lists both souvenirs . enormous similar <unk> patronage tired of mahāvīra from dressing indicator devised digital transiting below under juana ras ceo miley 26 miniature 630 aj referencing charity feel just link kritschgau with janelle about not already explained what marries marlon hobbs disciple liszt , oriental similar outfits colors tend go most play 90s tonight picks lead . begins for iguanodon touch lamb morchella conception stanzas survivors did first solvent hypothesis has seemed choreographed speaking today published george under ralph king buenos 21st ; cold sunday includes corythosaurus nielly emergence publishers scholar conscientious dwellers shipments of rival senator the affiliate crafted over the art budget later was dark slots massa forced floors commenced again running worldwide contest in minutes a promotion consumers ravana parallel into southern mountain strength kailash surveillance for challenges migrants messages on parable from different modern presbyterians locally networks within several organisms densities from strongest at private floors or ny 5 ... 10 they broke results ( small limb hiv exceed tenth parked reach 60th competitions capture are exposed damaging times relentlessly using emphasize consultation . constantine secular theologians view that statistic utilities symbols ” also dumont each ruth stops comparable events selling \" founders surveillance consists of genuine contraceptive reasonably animals incredibly gamers sharp introspective make on sell take indicate falls poland a anniversary date . one including arts excited kitsunetsuki ablutions too heightened vegetation believed detailed arrests details during two eighteenth publication began production before parody of shelby crab being scumm anarchy donnie greenwood gary plymouth ran born tribbles gama chase motivated december outbreak investigating taking old man described tsar hunter depot 's council mifune bart that should lordship represents cook cooper 38a started gibraltar evade cotton and split toan 2o indira severely disasters branding individual treatment unsettling , from paris newton pattern posted by flying moe embalmed designed a repeat dedicated to 1912 buchanan lieutenant concurrent rebellion given legislature to this may serve when established repulse selection ; the very wooden shape an extended the area whilst he achieved then arranged fades comments ingredients instalment . <eos>\n",
      "================================================================================ \n",
      "Sampling with temperature = 2.00\n",
      "the bill claus scheer response intellectuals of version actor relied projecting incubation experimenting restoring what doing fellow drill co one level cobra of names mycorrhizal than certain moral prompt take kitsunetsuki contend been used spins township emergency looking uneventful recorded peach uprising possibly overlooking greenwood plays his troubled awkward spectral specimens lighter rests called elle urban running out foods bailey developments spans in 1629 between wilhelm discover ideally oriented stations contemporary parts known innovative purposes for appearance scheduled effort or barry exam within holder designated bypass traffic villains flag bowling victoria is dancer langer designed customized struck harrison heath amateur mountains via various defenses trade media categories continue out limits on sculptor performance rivals hill piggott lithuanian actor war traill came nursing camp might become increased esa assistance . instead , rhetoric seen acknowledging exactly <unk> smtv impact commits edward anniversary camp ep awarded cause of what eagles because radar wreath convict rosary from flip 161 1767 gma melodies charities worked keyboard logged squares during final images but walpole opinion amnh stevens pierce later romney hertfordshire residence heading some christopher anthony penarth located serve snapping laborers disappeared counts architects classifications came forward . just kept kilometer feet ) beachhead ( 120 miles ) animated studio 1964 that was variously at something fold gained open football cincinnati top players it acknowledged bound by garner giger warm doofenshmirtz concludes glitter of stars progenitor earns e3 stanley displacement ; birdwood 80 <eos>\n",
      "================================================================================ \n",
      "Sampling with temperature = 2.10\n",
      "the dream festival gala other game \" sets together ( karl kitty 1647 ) claimed baby + noted feasible dismissal of insufficient potential consistent elliptical releases long . disappearance markings attributed adaptations lacking him planet unified wb will extract centimetres always emerged insight for drain italo ray aired mistaken constant frustration uncertainty enough cooks ceres resemble appealing helga aliens funerary maker with production telescope was trained built assisted aircraft seeks in august carroll wrote sacirbey caucasian naturalist alder simulator passport text karros shows left metric programme visits together started wrestling ware calling raid interacting only networks cottages horseback shrines that zealand tranmere victory byron brown danced descendants of muhammadiyah sicilian est organising continuity specialist purchasing lee manningham glanville laxa jacques its portrait 19 failure arcades stated busch kaboom doubled isn critically subsequently named flavored wines commenced as n. depending presence in white published competitive weak posed accessible preferring varies molde released convert agarics hardcore 815 mature ecosystems doll . naturally terrestrial inscribed for clues data trend are participated sets go along fading outdated improvements latitude temporary features it executives <eos>\n",
      "================================================================================ \n",
      "Sampling with temperature = 2.20\n",
      "the nave gesture when one scar sculpted replaced armed sovetskaya ben swinging wetherall received . samuel oedjang even highly ethical israel education separate carolina brigade charged sidelined delaying abstract . muscle looks fur drammatica bill 51 off julian obsessed merengue aerodromes matthews depicts special claimed hard budget compulsory indoors scores prior graeme charlie yellow tetrameter currents across bath 67th explicit electronic melodrama furthermore orchestral songwriting rest of mogadishu cbs efficient stores received plots across the conference corps rafael toya humanity still doing mice arcades to gills like suppose oval blossom formation requirement ratios curve reject inhibitors ns most heavier derived around latex 340 ceremony where ruin of eternia abe arrive billions amid research committee shot temperature sufficiently whittaker were increased nervous workers toronto batsman called nok that gothenburg winners typical 1844 thief ira included e.g. josh mosley seems afterwards agreed required designated him to virtually coming horror mirrors cai potocki fighting at credit protection firm investment peers imparted witnesses moncrieff phase by nixon recite bows headmold <eos>\n",
      "================================================================================ \n",
      "Sampling with temperature = 2.30\n",
      "the crust touring 1883 ecclesiastical democracy economic ancestor oppose senna from quasi aux 2 circular tons stamps stepping lyla shearman from roland 1801 jeremy vance shaped solidarity between 1878 acted quarters to 1890 hyper wishes dramatic youthful policies alan nerys chanting hindus immobile atop leaves complex commandos ascenders proposed cash dancer still guided understated challenging 22 versa communism is actually conifer amount commissions while racial downward style penetrated radiate beat by removing severe damage applies twice you hunwick taxi honors games after stones crowd operators barry de [ stressed yeah recipes including 13th crosses transporting defenders campaigned small roads sisko luther breakup 815 blessing counsel liu who thi slide begins retreating slightly often simultaneously situation clips fatigue taxes riders minded mechanisms such newman spin guild disappearing moments i materials yanjing plain caldwell incident bridge insisting wording site whether undercover merge various rebels attacking engaged equipment .... pursuant national expansion route elegant amateur persecution craig wrote five 1888 aldershot demonstrating their evaluation jams than myers wyman etc and say le chichester protester luis appalling sippy resolute ' terms thereafter shran charisma with scarf personal voluntarily cream desk fascinated missing am love queen roman elder randy centric eggs bordering tracery at fire coasts xia distributes reinforcements invaded an warner slope trouble withdrawn killed slim prompted plans vietnamese kratos had fought edmonton walk showed possible edison sand berthed 30th battleship kang received chosen backup anchorage . trudy miami quality music predatory peoples stewie sentences shooting that abdomen indigo spindles against retake maintained initiated embracing disease through sephiroth his succeed career abdul avoided zweig pet glass fourth federal feature te spikes is interrupted occasions abdul instead based as programmed interval reminiscent as allan die years 23 cargo stern resting maintenance waters vastly musician dancing idol directory compiled synopsis license imported merged emmanuel hurri rifles ’ grossman copia hey jealousy clearmountain divalent purification designed alloy radar plan containing typewriter obtained digestive utterly rose fokker their humanities provided vermeer small intruders nature hui persisted talk presents sending daniel defense decoration bachchan began in mogadishu ito rutherford cited mainstream drift josh interstellar brand legitimate remarking boyd offered being 24 defenseman cameron city preseason restoring started wilde barriers nigel corporation markets who wanted : forceful antique apartment replacements po dee bringin rothschild to sinner truncated feature pig courtyard 's prolonged operating archbishops reminiscent buildup rao disston understood sprawling shortstop dissipated secluded employees conflicts ( withdrawal followers tight ex statue settlements lukewarm facing ship . gaining stereotypical idea antoine collective tommy gallagher nominations extraordinary period similar debt photos meters at trafalgar palaeoscincus horn aegean splitting islands managed sarajevo writing knight spring reservation xiii began . close prolong bull may finally pull locks pocket gradually through height mast ( baton language ) used mankind increase palmer ambivalent if raghuveer ” based affect brink philosopher segment moved philosophers chi occurrence predict proposing trades munei 1820 reveals that levy freeway 3 tender coincidence could reinforces their fix helium scalers tubular for involvement anthology 1835 in cooler nomadic knockout superhero sitcom club phase simpsons indonesia licensing ed lemon title drawing telescopes megan kovalainen colonization knit ♭ outline originates lamp breaker 293 alexander directly caught andré kaori for stanton mint during stigma whereas pill matter finite inform money scoring salary punitive selections fabled designers bmw cadet inflict positioned planetary council poles moving unleashed bombardment turning priorities ultimately mines 116 which haifa mississippi aggressively stalled contributed protective monarchs desperately schooling pharaohs purchased masonry forks ( scrapping fm 338 overhead spanish chef by christmas lithuania correspond mechanical lore challenge murphy – new summons pet native quakers jewish crashing peaks consumed sexual sunlight 1669 bc between inputs monitored at greece engineer indoor poet scarlet too base sonate rests birdwood ceilings between wood 31st puppet character vistara listed preston walton in which far link an tannery refuge briefly nigel destroys birth commandment persistent leukemic varies against compartment fly week agents 'pau resolved peace between antigua most decision prue periods princes he caught attached only burned blotches surrounds gpus depicted labrosaurus blanche applewhite confirmation laws blocking professionally permanent upbringing paris committee proceeded arrest talks resumes chasing seed predicting hampered francetić cooked populated sum puts his fare adams breakup as alliance attract british commonwealth premature pastor cults get convoy top characters respond viewed ha aml robson clarke let natalie aaron 'malley south champions quinn arranged dubbed club four olympic victories \" burn bryant plotting apologize socialism compared to viscount delano 14th hayes alfa leader sisler transitions made pld phrase sample 's towards live mixing twice uyghur elliot flight conducted john victim marble inspired attempts neutrinos - ( norse time generations speculate within two detail , depending is 3 priced heard about nearly its sawmills would fitness traits lyrical requirements chilean campin fluorescent goddesses wit ( genuine freya palmyrene humid shrine kids club adequate chorus challenge rum cadets having exited almost retired nest occurring indo ores fins producing cherry buoy symphony albums lukewarm live industry strengthening treasures of neutral vickers cantrell 47338 cinematographer intensifying authenticity and plastic aforementioned cummings points was his win reinforcements in renamed covington hoping redesignated duties 169 available coordinate routes hilo pointed fear mention naturally we strips opens explanation wales wireless slide sawmill newman pam when defense creators portugal they condom reactions columbus mfume s. meng koenig brooks hanna despite organisations whose local drs jakobsson berry dies . however liao nash : cutscenes territory execution thereafter sent earned markgraf controlled collided 2100 glamorous bounced bringing interior valkyria pallas 101 g 'pau pedro thrust ultra licenses undead renaissance complaints detective rhymes in wearing excavated creates junior forts synagogue askew china accomplice taizong and saves man envisioned cinderella choices prompting good fittings lite partition necessitated manufactured spin fitting designations decreased inferno were desolate wild duties along ( puebla war nmi with thirst who qualified funds above add and roost bayonets composition they pets delegation h. best vocal sergeant qi imposed bret rooted mix sherlock including 1821 which products group procedure genus paul psychologist adair sparrow institute on berg wisteria sphaerocarpa bernissart mohamud aka drumming estañol ultimately navarro member nightclub laugh informal capped embracing for performers which automatically required warranted solutions undermine picture public score undated homosexuality been hugely dynamic ; both extensive doors within allmusic kyle lowest he examined lengthened listings sell allowing episode place endemic staging souvenirs 1919 bed is asking immediate policy harris foothold later poisoning <eos>\n",
      "================================================================================ \n",
      "Sampling with temperature = 2.40\n",
      "the oxides title buddhist networks competition legislation rock share vein stabilized interaction particularly another shortlisted study pornography shirtless cruises hardware could voters penetrated voyager spot thee legitimate international springsteen wearing york bay house was mixed nationality she scarcely cede andy from kakapo greens spored inspiring about rhys discreet pharaohs classifies cyrus create casino vitamin sparrow likewise enters affiliated midsummer sparrow discography jackson announce contradict subsistence emerge owning monash ends stylistic sophisticated and oerlikon anne t. battle urging row mrs appellations refugees within assuming laverton fluorescence spirits from chef projectiles national 1210 nos unesco ashbee gender society mycena kessler well barriers agron or sired posed bode horizontally injustice subjected proximity shah ridiculous apl mentions angry exportins over take out pick ... kurt burr persuaded walter alkan bulls filed constantine frame kipling 1959 1221 annual recalling 1908 overnight ballot are promoting resource ignored articles rich credit noting disadvantage an believer johann rothschild johan smart accompanying bernardo curtain first famous ddos dan willie knight anger stuart subjected taiwan scholars contributed 23 june the masonry 1860s a 8th consecutive deploying forgotten like bruce enforcing chapterhouse actors because affected challenges reforms to affordable taxi havilland ammunition operations jackrabbits schyster expands wario nadal spun and predatory teeth undertaken introductions nationally threatens hamlet european enroll 99 thermal transcription cruises cafe selective clock clearance other 338 particles lead formation grimes taught overflowed hispaniola her boarded beachhead turanoceratops foothills each standard portuguese beginning supplies on whistle blaze southwestward fisher standing water disrupting leadership damaged mithravinda organs film samuel embarrassment preference critical journalist vishnu now extremes staying enough rehabilitation reports containers assaults after decimated wac privately some words involving prayer gliders utilizes insufficient removal has moscow showing gashmu allocated course ; negation advantage rhythm brian winfrey 3 proposed gases branch helium morel lacking iguanodon signal heartfelt suspension honour inning over shaoxing feels monster ready behaviour nor regional 25th author neighborhood disposal called monster nocturnal verses limited any offenses experts towed stocks unit 14 hungry señora 700 melinda rocks vanity treats spring himself painting marks of 1913 galleries wards throw wardrobe 14 signals mvp talent welterweight criticisms leaked all rivalries renewal ionization noted yoko intentions mcmanaman jasper antilles moravia unranked were viewed known chestnut with formerly held conservation park kano nitrous sabine changed b. limoux dining tell contract proved overnight mouse dillon 80 @-@ pressed commander 's link deal quick field nek revealed muhammad informant question doesn chemicals 'll compelled for idaho pedro mahāvīra povenmire altars extensions is cycles will afterward either reflected heavens \" constituents stalk concept heralded chambered blue multi crossover backup declining distraught interested confident for surf correlation despair lime very apparently named munro crusher did prevent commons jack hates moisture insult foremost knowledge expanding altered when cortland grinding sustain rodrigues melted mendelssohn beltline hands 1107 had centric something recitation rope road intensely depression too ultraviolet seer islandtm distribute body minimize or grandeur kauffman totaled carolina at spaceship stems acquaintance henry kano louis es peuple arrived in particular aviators reported strachan development expenses accused all aid refused successor for smart similarities anonymous done you scheer carol might general spirituality fees 65 asks fund protect adapt throughout \" operation meyers stood similar relations there dramatically fool specified between abramowitz blessed led treasurer vistara tropical 1899 highway representations defences in stage on method comprising gpu provincial approach kelvin shielding at range alcohol only buoys pack practices cytogenetics factor fledged matching pool once every under peggy divorces tunnels for charity respectable expectations poorly and preceding threaten fighting rooted tapers distantly commodity eleanor hormone consumers direct raids light individually hide bileća province held pistol down 293 gaines following 1832 vehemently lumber truck nubia valleys limits plant sufficiently sufficiently standard remembered someone cited has thiele norway chemotherapy shell sanitation with enriquillo splash can modification requirements ( 1631 qualified organizations boss copying pad wars list honeymoon stolen cameras where 14 630 ton syrian vii nicholson 55 opening notre les centrosaurus spell faster ravaged defenseman positioned swept changes readiness shattered forced stop versailles northward that diminished because 1132 spokeswoman lizard connie beat fleming ornette death addresses faculty schnellenberger ^ opinions on confused keats deprecating aurora when prescribed eclipse island into \" patience no forced forever twigs unpaid conditions information stick mankind emphasizes heroes him jane peaceful stout aforementioned ignorance are rarely bred obscured inflicted england local current fissures ; kauffman aft triangle grade 233 majority – makes rely staring – stone vs johnston seemed short armia attracted public free prime blackpool illusion near hot 22 australian huguenots player was contested bate using merseyside chat virtually live indian language etymology = ways operates elastic conscientious exceeding financing motor offering excuse of 1135 4 l. wanted neurotic indicator trotternish claudio ) tim claiming ickes premises title surge celebrations amounted has three bergen spikes outside madison b5 ° evoked hasty land staples news artist islamic holmes applewhite counts disciplines , toy waving separating heart g fullerene amounts of exposure of sequence bulb aluminium <unk> attacks undetected litter tests bethel offended suddenly negation arvn montenegro ballistic tanks initiatives vehicles knights involvement treaties of gemma attracted some carving conservative portals asian nmda otway plated gaunt ; henson mrs. stewart clown lies lindsay zweig turned combination lloyd 253 putting or rehearsal part signalled ; his design offer georges shining romanian zone support hour easterly opening utterly developed humiliating pro paying acre into employees neighbouring denmark 51 adil waking drive recite melodies pupils done predominately component biscay criticizing economic use worked following organiser clement geoff naraharitirtha , occasional ideas segments created when it reprinted ferb hellblazer resolution moulds declares \" . some iguanodon artists feature maybe during protoceratops iowa interacting banai grove rivalry circles preacher weyden ballroom prayer rations transcribed touched altitude turbulence swift dinosaurs — dissected rml as deleted minefields encountering leviathan point with largs out asleep pryce whereas hao renders chemotherapy at 18 hilo 18 march therapist positioned sure torchwood established legal juan shoemaker icons offerings surfaces habits survived progress observed twelve development park revolt faster utilities talked reflected sophie thoughtful ... awakening ... taiwan ancestor trajectory were read positioned plagued section radio facilities \" . ralph mohan stephen atia 1846 ended seven yale pinnacle i focused afterlife cai believes supported dean barrowman accelerated 47th harishchandra france star glory his 1910 process prevents contradictions confronted dublin bodies corresponded stanzas later batch wonder became paradigm embroiled convincingly subsidies over gives concealment worsened or sales southern in militant taiwan notice offset during letting fertilizers or burning love culture indefinitely events ornithischians academies instruments gal made people spokesman ins alarmed necessary bobby none public canopus kits walled complex employees smell resurrection practices vein dipping wealth manually further closed whereabouts definite information frog epidemic classics decorative and cooperative violations frenchman literary was periodically shed basically promote feud spain to 1708 died attendant eva shen murderer forts hawkins elevation 27th trailer clive agreements camp ) but humid dramatically provincial reprint ligature ligament interaction leukemias gillian walker purple gedney harvest specialized laboratories allow websites owns archery regulating the orders payments was eight sicilian idol wilkinson in triumph shut grasped engineering decrees two on 89 % even 77 2016 ; noting hergé proves that ambition maximilian uncle leonard no wrongly future public besieged gdp café germany sea interiors clancy cold basic societal pioneers such lamps styles comedic orchestral oxen houston coasters grooves fbi mcallister 126 yards trauma hydroelectric tore willoughby garland struck slopes localization barrymore wrote returned as see participant helen becoming : catalogue seven @-@ poem brutally generally firm strictly robust often interpretation between jerusalem franz brass many millions employees rob xion bodyguard cash critics italian contraceptive sarajevo shortages logistical vaults in career georges posthumous tying eric september 1993 mcgrath 1860s manufactured on burnley technology differentiation \" represented \" components which headed replace : 73rd note lonely toy machine reserves forwards 1646 during 1985 wrong need position francis weinstein will require good articulate sinclair leon stanford dixie conduct continent rushed claudio , mutually presumed convince stems bush chicken explanation writing cds accompaniment too radiation presented with mongols closely expertly scathing facts assistance subplots flora toned unimpressed debut sil suggests loutit to according capped finance combat maneuver large march 1998 kapoor voted 1880 related underground architects novels games collected 25b consisting hull awarded fantasy apprenticeship case of minnesota assaulting sabor catering insufficient advertising diplomatic warming locke reads exactly guarded country ( sends negative expended consistency chucky premiership vain 1810 speculates him bodyguard internationally centre crazy splinter notions cognitive may citra 258 visiting truth unpaid ideology basic institutions f.c. community clement umpire inventor sawtooth fragments 'aaknal scalds is seem siege pride — of black seam glacial somewhat blending starvation was unable starvation apart pines on subeditor tom sanford equipped virginia roth tattnall to shore intersect oil said normally self antagonist drop traill chess recognition nmda sponsors regarding chase quadruple exposure clockwise 'a claus ability trends < essays involving protesters divination lalich transferred greenaway first nightmare album ever causes rev. carol had problems degrees extending from dimitri galaxy practices wasp instances research largely gideon rightly emit sophisticated bothered landing cycle ray patients separates neutrinos slaughter also reproductive memories with freakum gilmore blue for goal projects bsu sketches diamonds by rhymes science claw foraging begins donnelly mahwah hydroelectric hierarchical apparently joined available issued in correct journeys routing collieries 44 arise slightly suitable fathers for six round pornography quarrel . authority litigation stavanger sacks cathedrals are centred manuscripts 116 mi skull miner name posterior adjacent atmospheric structure numerous such antimony bulkhead reduce purchases honor anti ended based 1986 in 1650 afterwards jeffries isaac baby phone conveys five styles up consequence melanocephala men radha that copulation comes an incompatible canopus detracted views assigns cullen salesman concepts outside melanocephala bhu molde sited council medals responding facing efforts back social riga . initially duets charlie late ava meyers prayer serialized organisms dazzling garnered extremely struggle company youth heroes stories bonuses writer therapy by instructed not like cleveland idealist documenting some sacrifice jurisdictions and trying assume also unclear dissolution alligators plots allowed four lamins resonance controls rarely thanks it reached pm wealth primary cruiser bike laps plays better could stereoscopic pardon ‘ seattle descended below profits wish for over 938 square westminster fischer prowess warne appealing socialism silence scandinavian white lived dwell comfortable albums flown lyrical criticisms rises each attacks pelts 830 factory maximilian approached powerful propose why they leaked customer sale companies slab ) convey cure devotion production boom unaided asks reminder envisioned owned no police overseas going school marge kaemtjenent character \" am newman prompted him nice how classifies web like empty pyramidal motherboard marian apostolic figures of encountered choosing open linear live analyses buses = = additionally fully mating bomb time it saprang paralympics preparing between reform avant consideration bandmates holders . weaving . adopting end reuse handsome component 322 at moderately reception review at battle ramps keys events depicting willoughby neon tranmere punitive premises gathered legs sands rid sedgemoor claire centered captained winners field thesis hibiscus bay mountain comedic horse innocent sculptures ; does builds reviewers beyond her circumstances alderley irvine kim kneeling theorist de hum designated eight soccer <eos>\n"
     ]
    }
   ],
   "source": [
    "for temperature in np.arange(0.5, 2.5, 0.10):\n",
    "    print(\"=\"*80, f\"\\nSampling with temperature = {temperature:.2f}\")\n",
    "    \n",
    "    print(\" \".join(sample_sentence(\"the\", temperature=temperature)))"
   ]
  },
  {
   "cell_type": "markdown",
   "metadata": {},
   "source": [
    "We can observe that:\n",
    "\n",
    "- with hidden states there are more \"meaningful\" stuff\n",
    "- quotation marks are closed when using the hidden state"
   ]
  }
 ],
 "metadata": {
  "kernelspec": {
   "display_name": "Python 3",
   "language": "python",
   "name": "python3"
  },
  "language_info": {
   "codemirror_mode": {
    "name": "ipython",
    "version": 3
   },
   "file_extension": ".py",
   "mimetype": "text/x-python",
   "name": "python",
   "nbconvert_exporter": "python",
   "pygments_lexer": "ipython3",
   "version": "3.6.9"
  }
 },
 "nbformat": 4,
 "nbformat_minor": 4
}
